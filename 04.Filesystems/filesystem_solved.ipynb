{
 "cells": [
  {
   "cell_type": "markdown",
   "metadata": {},
   "source": [
    "## Using Python to interact with the filesystem"
   ]
  },
  {
   "cell_type": "markdown",
   "metadata": {},
   "source": [
    "### A note on filesystems\n",
    "\n",
    "Interacting with the filesystem is a crucial need that any programming language must have.\n",
    "\n",
    "Python has a module dedicated to this, the `os` module.\n",
    "\n",
    "But before digging into the module, it's important to understand what a filesystem is and how to navigate it. \n",
    "\n",
    "Your computer has some sort of storage, right? Usually an HDD (Hard Disk Drive) or SSD (Solid State Drive). All disks contain a file system and information about where disk data is stored, and how it may be accessed by a user or application. A file system typically manages operations, such as storage management, file naming, directories/folders, metadata, access rules and privileges.\n",
    "\n",
    "Every operating system has it's own filesystem: Windows uses NTFS (New Technology File System), Mac uses APFS (Apple File System) and Linux can use several depending on the distribution, the most used being Ext4 (Extended File System, version 4).\n",
    "\n",
    "For the purpose of this lesson, the most important takeaway is that they all use a tree architecture to organize directories and files, like the image below:\n",
    "\n",
    "<img src=\"structure.png\" alt=\"FS Structure\" title=\"\" width=\"650\" />\n",
    "\n",
    "The **/** symbol at the top is usually called *root*. Every directory below the root is usually called a *branch*, and you think of files as *leaves* in that branch.\n",
    "\n",
    "As with real trees, on filesystems you can have branches and leaves connected to other branches, but can't have branches connected to leaves, so files can't be parents of directories.\n",
    "\n",
    "It depends on the operating system, but you can traverse the filesystem by either using the / symbol (linux and mac) or the \\ symbol on windows. Ex: **/home/jeancome/texmf/tex**\n",
    "\n",
    "This is usually called a *path*."
   ]
  },
  {
   "cell_type": "markdown",
   "metadata": {},
   "source": [
    "### Absolute and relative paths\n",
    "\n",
    "Imagine that your filesystem is the same as the image above, and that you want to go to the *jeancome* directory, starting from the root. You would do this:\n",
    "\n",
    "`cd /home/jeancome`\n",
    "\n",
    "Now imagine that from there you wanted to go to the *jeancomeson* directory. You could do this in two ways:\n",
    "\n",
    "1. Using an absolute path: `cd /home/jeancomeson`\n",
    "2. Using a relative path: `cd ../jeancomeson` &leftarrow; *we went up one branch an then entered another directory*"
   ]
  },
  {
   "cell_type": "markdown",
   "metadata": {},
   "source": [
    "### Advices\n",
    "\n",
    "* The better you know your filesystem, the easiest will be for you to navigate it\n",
    "* Avoid spaces in filenames. Replace them with <b>_</b> or <b>-</b> (this alone will prevent a lot of problems down the road)\n",
    "* Avoid placing your code on system folders like *Program Files*\n",
    "* Normalize filenames. Keep all names in lowercase, for instance"
   ]
  },
  {
   "cell_type": "markdown",
   "metadata": {
    "toc-hr-collapsed": false
   },
   "source": [
    "### The `OS` module\n",
    "\n",
    "This builtin python module comes packed with many methods to help you interact and navigate with a filesystem. Let's take a look at some of the most used ones:"
   ]
  },
  {
   "cell_type": "markdown",
   "metadata": {},
   "source": [
    "#### Navigation"
   ]
  },
  {
   "cell_type": "code",
   "execution_count": 20,
   "metadata": {},
   "outputs": [
    {
     "data": {
      "text/plain": [
       "'/workspace/python/python_course/lessons/os'"
      ]
     },
     "execution_count": 20,
     "metadata": {},
     "output_type": "execute_result"
    }
   ],
   "source": [
    "# import the module\n",
    "import os\n",
    "\n",
    "# get the current working directory\n",
    "os.chdir('/workspace/python/python_course/lessons/os')\n",
    "os.getcwd()"
   ]
  },
  {
   "cell_type": "code",
   "execution_count": 21,
   "metadata": {},
   "outputs": [
    {
     "data": {
      "text/plain": [
       "'/workspace/python/python_course/lessons'"
      ]
     },
     "execution_count": 21,
     "metadata": {},
     "output_type": "execute_result"
    }
   ],
   "source": [
    "# change to the previous directory (using absolute path)\n",
    "os.chdir('/workspace/python/python_course/lessons')\n",
    "os.getcwd()"
   ]
  },
  {
   "cell_type": "code",
   "execution_count": 22,
   "metadata": {},
   "outputs": [
    {
     "data": {
      "text/plain": [
       "'/workspace/python/python_course/lessons/os'"
      ]
     },
     "execution_count": 22,
     "metadata": {},
     "output_type": "execute_result"
    }
   ],
   "source": [
    "# change to the previous directory (using relative path)\n",
    "# first let's go to the starting point, changing to the following directory\n",
    "os.chdir('os')\n",
    "os.getcwd()"
   ]
  },
  {
   "cell_type": "code",
   "execution_count": 23,
   "metadata": {},
   "outputs": [
    {
     "data": {
      "text/plain": [
       "'/workspace/python/python_course/lessons'"
      ]
     },
     "execution_count": 23,
     "metadata": {},
     "output_type": "execute_result"
    }
   ],
   "source": [
    "# and now change to the previous directory\n",
    "os.chdir('..')\n",
    "os.getcwd()"
   ]
  },
  {
   "cell_type": "markdown",
   "metadata": {},
   "source": [
    "#### Listing"
   ]
  },
  {
   "cell_type": "code",
   "execution_count": 24,
   "metadata": {},
   "outputs": [
    {
     "data": {
      "text/plain": [
       "['filesystem.ipynb',\n",
       " 'structure.png',\n",
       " 'my_file.txt',\n",
       " 'my_file.txt.bak',\n",
       " 'matches_dataset',\n",
       " 'filesystem.html',\n",
       " '.ipynb_checkpoints']"
      ]
     },
     "execution_count": 24,
     "metadata": {},
     "output_type": "execute_result"
    }
   ],
   "source": [
    "# list the contents of a specific directory\n",
    "os.listdir('/workspace/python/python_course/lessons/os')"
   ]
  },
  {
   "cell_type": "code",
   "execution_count": 25,
   "metadata": {},
   "outputs": [
    {
     "name": "stdout",
     "output_type": "stream",
     "text": [
      "Contents of the /workspace/python/python_course directory:\n"
     ]
    },
    {
     "data": {
      "text/plain": [
       "['import_modules.ipynb',\n",
       " 'lists&tuples&sets.ipynb',\n",
       " '.~Course.pptx',\n",
       " 'oop-classes.ipynb',\n",
       " 'csv.ipynb',\n",
       " 'exercise_csv',\n",
       " 'debug_example.py',\n",
       " 'exercise_calculator',\n",
       " 'json.ipynb',\n",
       " 'my_module.py',\n",
       " 'functions.ipynb',\n",
       " 'conditionals.ipynb',\n",
       " 'exercise_json',\n",
       " 'strings.ipynb',\n",
       " 'variablescopes.ipynb',\n",
       " 'loops.ipynb',\n",
       " 'exercise_console',\n",
       " 'decorators.ipynb',\n",
       " 'comprehensions.ipynb',\n",
       " 'data_science',\n",
       " 'myFirstProgram.py',\n",
       " 'databases.ipynb',\n",
       " 'Course.pptx',\n",
       " 'dictionaries.ipynb',\n",
       " 'materials',\n",
       " 'functions.log',\n",
       " 'insightsPage-example.json',\n",
       " 'variables.ipynb',\n",
       " 'new_example.csv',\n",
       " 'scripts',\n",
       " 'relational.sql',\n",
       " 'virtualenv.ipynb',\n",
       " 'generators_mem_profile.py',\n",
       " 'datatypes_recap.ipynb',\n",
       " 'example.csv',\n",
       " 'exercise_job_interview',\n",
       " '__pycache__',\n",
       " 'integers&floats.ipynb',\n",
       " 'data-analysis-and-feature-extraction-with-python.ipynb',\n",
       " 'exercise_quizz',\n",
       " '.ipynb_checkpoints',\n",
       " 'lessons',\n",
       " 'noSQL.json',\n",
       " 'slides',\n",
       " 'exceptions.ipynb']"
      ]
     },
     "execution_count": 25,
     "metadata": {},
     "output_type": "execute_result"
    }
   ],
   "source": [
    "# call oslistdir() without arguments to list the contents of the current directory\n",
    "os.chdir('..')\n",
    "print(f'Contents of the {os.getcwd()} directory:')\n",
    "os.listdir()"
   ]
  },
  {
   "cell_type": "code",
   "execution_count": 26,
   "metadata": {},
   "outputs": [
    {
     "data": {
      "text/plain": [
       "[('exercise_csv', '/workspace/python/python_course/exercise_csv'),\n",
       " ('exercise_calculator',\n",
       "  '/workspace/python/python_course/exercise_calculator'),\n",
       " ('exercise_json', '/workspace/python/python_course/exercise_json'),\n",
       " ('exercise_console', '/workspace/python/python_course/exercise_console'),\n",
       " ('data_science', '/workspace/python/python_course/data_science'),\n",
       " ('materials', '/workspace/python/python_course/materials'),\n",
       " ('scripts', '/workspace/python/python_course/scripts'),\n",
       " ('exercise_job_interview',\n",
       "  '/workspace/python/python_course/exercise_job_interview'),\n",
       " ('__pycache__', '/workspace/python/python_course/__pycache__'),\n",
       " ('exercise_quizz', '/workspace/python/python_course/exercise_quizz'),\n",
       " ('.ipynb_checkpoints', '/workspace/python/python_course/.ipynb_checkpoints'),\n",
       " ('lessons', '/workspace/python/python_course/lessons'),\n",
       " ('slides', '/workspace/python/python_course/slides')]"
      ]
     },
     "execution_count": 26,
     "metadata": {},
     "output_type": "execute_result"
    }
   ],
   "source": [
    "# what if you only want directories?\n",
    "subfolders = []\n",
    "for f in os.scandir(os.getcwd()):\n",
    "    if f.is_dir():\n",
    "        # look at some properties that you can get from a file/directory\n",
    "        subfolders.append((f.name, f.path))\n",
    "subfolders\n",
    "\n",
    "# same but using a list comprehension\n",
    "#subfolders = [(f.name, f.path) for f in os.scandir(os.getcwd()) if f.is_dir()]\n",
    "#subfolders"
   ]
  },
  {
   "cell_type": "code",
   "execution_count": 27,
   "metadata": {},
   "outputs": [
    {
     "data": {
      "text/plain": [
       "[('import_modules.ipynb',\n",
       "  '/workspace/python/python_course/import_modules.ipynb'),\n",
       " ('lists&tuples&sets.ipynb',\n",
       "  '/workspace/python/python_course/lists&tuples&sets.ipynb'),\n",
       " ('.~Course.pptx', '/workspace/python/python_course/.~Course.pptx'),\n",
       " ('oop-classes.ipynb', '/workspace/python/python_course/oop-classes.ipynb'),\n",
       " ('csv.ipynb', '/workspace/python/python_course/csv.ipynb'),\n",
       " ('debug_example.py', '/workspace/python/python_course/debug_example.py'),\n",
       " ('json.ipynb', '/workspace/python/python_course/json.ipynb'),\n",
       " ('my_module.py', '/workspace/python/python_course/my_module.py'),\n",
       " ('functions.ipynb', '/workspace/python/python_course/functions.ipynb'),\n",
       " ('conditionals.ipynb', '/workspace/python/python_course/conditionals.ipynb'),\n",
       " ('strings.ipynb', '/workspace/python/python_course/strings.ipynb'),\n",
       " ('variablescopes.ipynb',\n",
       "  '/workspace/python/python_course/variablescopes.ipynb'),\n",
       " ('loops.ipynb', '/workspace/python/python_course/loops.ipynb'),\n",
       " ('decorators.ipynb', '/workspace/python/python_course/decorators.ipynb'),\n",
       " ('comprehensions.ipynb',\n",
       "  '/workspace/python/python_course/comprehensions.ipynb'),\n",
       " ('myFirstProgram.py', '/workspace/python/python_course/myFirstProgram.py'),\n",
       " ('databases.ipynb', '/workspace/python/python_course/databases.ipynb'),\n",
       " ('Course.pptx', '/workspace/python/python_course/Course.pptx'),\n",
       " ('dictionaries.ipynb', '/workspace/python/python_course/dictionaries.ipynb'),\n",
       " ('functions.log', '/workspace/python/python_course/functions.log'),\n",
       " ('insightsPage-example.json',\n",
       "  '/workspace/python/python_course/insightsPage-example.json'),\n",
       " ('variables.ipynb', '/workspace/python/python_course/variables.ipynb'),\n",
       " ('new_example.csv', '/workspace/python/python_course/new_example.csv'),\n",
       " ('relational.sql', '/workspace/python/python_course/relational.sql'),\n",
       " ('virtualenv.ipynb', '/workspace/python/python_course/virtualenv.ipynb'),\n",
       " ('generators_mem_profile.py',\n",
       "  '/workspace/python/python_course/generators_mem_profile.py'),\n",
       " ('datatypes_recap.ipynb',\n",
       "  '/workspace/python/python_course/datatypes_recap.ipynb'),\n",
       " ('example.csv', '/workspace/python/python_course/example.csv'),\n",
       " ('integers&floats.ipynb',\n",
       "  '/workspace/python/python_course/integers&floats.ipynb'),\n",
       " ('data-analysis-and-feature-extraction-with-python.ipynb',\n",
       "  '/workspace/python/python_course/data-analysis-and-feature-extraction-with-python.ipynb'),\n",
       " ('noSQL.json', '/workspace/python/python_course/noSQL.json'),\n",
       " ('exceptions.ipynb', '/workspace/python/python_course/exceptions.ipynb')]"
      ]
     },
     "execution_count": 27,
     "metadata": {},
     "output_type": "execute_result"
    }
   ],
   "source": [
    "# what if you only want files?\n",
    "files_in_dir = []\n",
    "for f in os.scandir(os.getcwd()):\n",
    "    if f.is_file():\n",
    "        # look at some properties that you can get from a file/directory\n",
    "        files_in_dir.append((f.name, f.path))\n",
    "files_in_dir\n",
    "\n",
    "# same but using a list comprehension\n",
    "#files_in_dir = [(f.name, f.path) for f in os.scandir(os.getcwd()) if f.is_file()]\n",
    "#files_in_dir"
   ]
  },
  {
   "cell_type": "code",
   "execution_count": 28,
   "metadata": {},
   "outputs": [
    {
     "data": {
      "text/plain": [
       "<generator object walk at 0x7fe4e04a3550>"
      ]
     },
     "execution_count": 28,
     "metadata": {},
     "output_type": "execute_result"
    }
   ],
   "source": [
    "# what if you want to recursively scan the whole directory?\n",
    "# the walk() method accepts a directory and will scan the entire contents of that directory.\n",
    "# it return a tuple with 3 values: the possible paths inside the directory, the directory names and the filenames\n",
    "x = os.walk(os.getcwd())\n",
    "x"
   ]
  },
  {
   "cell_type": "code",
   "execution_count": 29,
   "metadata": {
    "scrolled": true
   },
   "outputs": [
    {
     "name": "stdout",
     "output_type": "stream",
     "text": [
      "('/workspace/python/python_course', ['exercise_csv', 'exercise_calculator', 'exercise_json', 'exercise_console', 'data_science', 'materials', 'scripts', 'exercise_job_interview', '__pycache__', 'exercise_quizz', '.ipynb_checkpoints', 'lessons', 'slides'], ['import_modules.ipynb', 'lists&tuples&sets.ipynb', '.~Course.pptx', 'oop-classes.ipynb', 'csv.ipynb', 'debug_example.py', 'json.ipynb', 'my_module.py', 'functions.ipynb', 'conditionals.ipynb', 'strings.ipynb', 'variablescopes.ipynb', 'loops.ipynb', 'decorators.ipynb', 'comprehensions.ipynb', 'myFirstProgram.py', 'databases.ipynb', 'Course.pptx', 'dictionaries.ipynb', 'functions.log', 'insightsPage-example.json', 'variables.ipynb', 'new_example.csv', 'relational.sql', 'virtualenv.ipynb', 'generators_mem_profile.py', 'datatypes_recap.ipynb', 'example.csv', 'integers&floats.ipynb', 'data-analysis-and-feature-extraction-with-python.ipynb', 'noSQL.json', 'exceptions.ipynb'])\n",
      "('/workspace/python/python_course/exercise_csv', ['.ipynb_checkpoints'], ['patrons.csv', 'csv.ipynb', 'briefing.ipynb'])\n",
      "('/workspace/python/python_course/exercise_csv/.ipynb_checkpoints', [], ['csv-checkpoint.ipynb', 'patrons-checkpoint.csv', 'briefing-checkpoint.ipynb'])\n",
      "('/workspace/python/python_course/exercise_calculator', ['.ipynb_checkpoints'], ['calculator.py', 'calculator-round.result.solved.py'])\n",
      "('/workspace/python/python_course/exercise_calculator/.ipynb_checkpoints', [], ['calculator-round.result.solved-checkpoint.py', 'calculator-checkpoint.py'])\n",
      "('/workspace/python/python_course/exercise_json', ['__pycache__', '.ipynb_checkpoints'], ['exercise_json.ipynb', 'exercise-json_old.ipynb', 'exercise_json_solution.ipynb'])\n",
      "('/workspace/python/python_course/exercise_json/__pycache__', [], ['api.cpython-37.pyc', 'api.cpython-36.pyc'])\n",
      "('/workspace/python/python_course/exercise_json/.ipynb_checkpoints', [], ['exercise2-Solved-checkpoint.ipynb', 'exercise-json-Solution-checkpoint.ipynb', 'exercise-json_old-checkpoint.ipynb', 'exercise-json-checkpoint.ipynb', 'exercise_json-checkpoint.ipynb', 'exercise_json_solution-checkpoint.ipynb', 'exercise_json_new-checkpoint.ipynb'])\n",
      "('/workspace/python/python_course/exercise_console', ['.ipynb_checkpoints'], ['console-app-solved.py', 'console-app-solved2.py', 'briefing.ipynb', 'console-app.py'])\n",
      "('/workspace/python/python_course/exercise_console/.ipynb_checkpoints', [], ['console-app-solved-checkpoint.py', 'console-app-solved2-checkpoint.py', 'console-app-checkpoint.py', 'briefing-checkpoint.ipynb'])\n",
      "('/workspace/python/python_course/data_science', ['figures', '.ipynb_checkpoints'], ['data_analysis_advanced.ipynb', 'data_analysis.ipynb', 'data_file.txt', 'final_data.csv', 'data_with_headers.csv', 'data_with_headers.xlsx', 'Untitled.ipynb', 'loans.csv'])\n",
      "('/workspace/python/python_course/data_science/figures', ['.ipynb_checkpoints'], ['my_Python_plot.png'])\n",
      "('/workspace/python/python_course/data_science/figures/.ipynb_checkpoints', [], ['my_Python_plot-checkpoint.png'])\n",
      "('/workspace/python/python_course/data_science/.ipynb_checkpoints', [], ['output_11_1-checkpoint.png', 'my_Python_plot-checkpoint.png', 'data_analysis-checkpoint.ipynb', 'data_analysis_advanced-checkpoint.ipynb', 'output_12_0-checkpoint.png', 'output_10_1-checkpoint.png', 'loans-checkpoint.csv', 'data_file-checkpoint.txt', 'untitled1-checkpoint.txt', 'final_data-checkpoint.csv', 'Untitled-checkpoint.ipynb', 'data_with_headers-checkpoint.csv', 'untitled-checkpoint.txt', 'notebook-checkpoint.tex'])\n",
      "('/workspace/python/python_course/materials', ['PYT002', 'PYT010', 'PYT005', 'PYT001', 'PYT009', 'PYT014', 'PYT013', 'PYT008', 'PYT004', 'PYT003', 'PYT007', 'PYT012', 'PYT006', 'PYT011'], [])\n",
      "('/workspace/python/python_course/materials/PYT002', [], ['AQ01.xls', 'CC10.pdf', 'FS02.pdf', 'FP01.pdf', 'Ficha de Identificação.url', 'Questionário Avaliação.url'])\n",
      "('/workspace/python/python_course/materials/PYT010', [], ['FQA.xls', 'CC10.pdf', 'FS02.pdf', 'FP01.pdf', 'AQ01.pdf', 'PYT010.pdf', 'AQ01.xlsx'])\n",
      "('/workspace/python/python_course/materials/PYT005', [], ['FQA.xls', 'CC10.pdf', 'FS02.pdf', 'FP01.pdf', 'AQ01.xlsx'])\n",
      "('/workspace/python/python_course/materials/PYT001', [], ['RFR05 - Regulamento-Formador.pdf', 'CC10.pdf', 'FS02.pdf', 'FP01.pdf', 'AQ01.xlsx', 'Ficha de Identificação.url', 'Questionário Avaliação.url'])\n",
      "('/workspace/python/python_course/materials/PYT009', [], ['CC10.pdf', 'FS02.pdf', 'FP01.pdf', 'AQ01.xlsx'])\n",
      "('/workspace/python/python_course/materials/PYT014', [], ['FQA.xls', 'Fatura QualiCAD_Python.pdf', 'CC10.pdf', 'FS02.pdf', 'FP01.pdf', 'PYT014_2.pdf', 'AQ01.xlsx', 'PYT014.pdf'])\n",
      "('/workspace/python/python_course/materials/PYT013', [], ['PYT013-AQ.pdf', 'CC10.pdf', 'PYT013.pdf', 'FS02.pdf', 'FP01.pdf', 'AQ01.xlsx'])\n",
      "('/workspace/python/python_course/materials/PYT008', [], ['PYT008.pdf', 'FQA.xls', 'CC10.pdf', 'FS02.pdf', 'FP01.pdf', 'AQ01.xlsx'])\n",
      "('/workspace/python/python_course/materials/PYT004', [], ['CC10.pdf', 'FS02.pdf', 'FP01.pdf', 'AQ01.xlsx', 'FQA.xlsx'])\n",
      "('/workspace/python/python_course/materials/PYT003', [], ['AQ01.xls', 'CC10.pdf', 'FS02.pdf', 'FP01.pdf', 'PYT003.pdf'])\n",
      "('/workspace/python/python_course/materials/PYT007', [], ['FQA.xls', 'AQ01.xls', 'PYT007.pdf', 'CC10.pdf', 'FS02.pdf', 'FP01.pdf'])\n",
      "('/workspace/python/python_course/materials/PYT012', [], ['FQA.xls', 'CC10.pdf', 'FS02.pdf', 'FP01.pdf', 'AQ01.xlsx', 'PYT012.pdf'])\n",
      "('/workspace/python/python_course/materials/PYT006', [], ['CC10.pdf', 'FS02.pdf', 'FP01.pdf', 'AQ01.xlsx'])\n",
      "('/workspace/python/python_course/materials/PYT011', [], ['FQA.xls', 'CC10.pdf', 'FS02.pdf', 'FP01.pdf', 'AQ01.xlsx', 'PYT011.pdf'])\n",
      "('/workspace/python/python_course/scripts', ['.ipynb_checkpoints'], ['regex.ipynb', 'toc_maker.ipynb', '__main__.ipynb', 'generators.ipynb'])\n",
      "('/workspace/python/python_course/scripts/.ipynb_checkpoints', [], ['toc_maker-checkpoint.ipynb', '__main__-checkpoint.ipynb', 'generators-checkpoint.ipynb', 'regex-checkpoint.ipynb'])\n",
      "('/workspace/python/python_course/exercise_job_interview', ['.ipynb_checkpoints'], ['job_interview.ipynb', 'job_interview-solved.ipynb'])\n",
      "('/workspace/python/python_course/exercise_job_interview/.ipynb_checkpoints', [], ['job_interview-checkpoint.ipynb', 'job_interview-solved-checkpoint.ipynb'])\n",
      "('/workspace/python/python_course/__pycache__', [], ['my_module.cpython-37.pyc'])\n",
      "('/workspace/python/python_course/exercise_quizz', ['.ipynb_checkpoints'], ['quizz_link.ipynb'])\n",
      "('/workspace/python/python_course/exercise_quizz/.ipynb_checkpoints', [], ['quizz_link-checkpoint.ipynb'])\n",
      "('/workspace/python/python_course/.ipynb_checkpoints', [], ['new_example-checkpoint.csv', 'import_modules-checkpoint.ipynb', 'conditionals-checkpoint.ipynb', 'variablescopes-checkpoint.ipynb', 'databases-checkpoint.ipynb', 'Untitled1-checkpoint.ipynb', 'loops-checkpoint.ipynb', 'functions-checkpoint.ipynb', 'example-checkpoint.csv', 'decorators-checkpoint.ipynb', 'insightsPage-example-checkpoint.json', 'lists&tuples&sets-checkpoint.ipynb', 'csv-checkpoint.ipynb', 'comprehensions-checkpoint.ipynb', 'dictionaries-checkpoint.ipynb', 'data-analysis-and-feature-extraction-with-python-checkpoint.ipynb', 'exceptions-checkpoint.ipynb', 'noSQL-checkpoint.json', 'json-checkpoint.ipynb', 'oop-classes-checkpoint.ipynb', 'datatypes_recap-checkpoint.ipynb', 'virtualenv-checkpoint.ipynb', 'strings-checkpoint.ipynb', 'relational-checkpoint.sql', 'integers&floats-checkpoint.ipynb', 'variables-checkpoint.ipynb', 'my_module-checkpoint.py'])\n",
      "('/workspace/python/python_course/lessons', ['os', 'sqlalchemy', 'article-resources-master', 'dask', 'visualization', 'numpy', 'excel', 'scraper', 'dataframes', '.ipynb_checkpoints'], [])\n",
      "('/workspace/python/python_course/lessons/os', ['matches_dataset', '.ipynb_checkpoints'], ['filesystem.ipynb', 'structure.png', 'my_file.txt', 'my_file.txt.bak', 'filesystem.html'])\n",
      "('/workspace/python/python_course/lessons/os/matches_dataset', ['2000-2019.zip', '1900-1999.zip', 'final', '1872-1899.zip'], [])\n",
      "('/workspace/python/python_course/lessons/os/matches_dataset/2000-2019.zip', ['.ipynb_checkpoints'], ['2000-2019.csv'])\n",
      "('/workspace/python/python_course/lessons/os/matches_dataset/2000-2019.zip/.ipynb_checkpoints', [], [])\n",
      "('/workspace/python/python_course/lessons/os/matches_dataset/1900-1999.zip', [], ['1950-2000.csv', '1900-1950.csv'])\n",
      "('/workspace/python/python_course/lessons/os/matches_dataset/final', ['.ipynb_checkpoints'], ['final_data.csv'])\n",
      "('/workspace/python/python_course/lessons/os/matches_dataset/final/.ipynb_checkpoints', [], ['final_data-checkpoint.csv'])\n",
      "('/workspace/python/python_course/lessons/os/matches_dataset/1872-1899.zip', [], ['xix_century.csv'])\n",
      "('/workspace/python/python_course/lessons/os/.ipynb_checkpoints', [], ['filesystem-checkpoint.ipynb', 'my_file-checkpoint.txt', 'my_file.txt-checkpoint.bak'])\n",
      "('/workspace/python/python_course/lessons/sqlalchemy', ['.ipynb_checkpoints'], ['sqlalchemy.html', 'sqlalchemy.ipynb'])\n",
      "('/workspace/python/python_course/lessons/sqlalchemy/.ipynb_checkpoints', [], ['sqlalchemy-checkpoint.ipynb'])\n",
      "('/workspace/python/python_course/lessons/article-resources-master', ['Ultimate Guide to Web Scraping', 'Python Pandas Tutorial A Complete Introduction for Beginners', 'Sentiment Analysis on Reddit Headlines with NLTK', 'Housing Price Index Regression', 'Python for Finance, Part 3', 'Intro to Reinforcement Q-Learning', 'K-Means Clustering', 'Predicting Reddit News Sentiment', 'LSH Recommendation Engine', 'How to Stream Text Data from Twitch with Sockets in Python', 'Essential Statistics', 'Python for Finance, Part 2', 'Guide to Using Databases with Python Postgres, SQLAlchemy, and Alembic', 'Python For Finance, Part I', 'From Good to Great Data Science, Part 1 Correlations and Confidence'], ['README.md'])\n",
      "('/workspace/python/python_course/lessons/article-resources-master/Ultimate Guide to Web Scraping', ['Part 1 - Requests and BeautifulSoup'], [])\n",
      "('/workspace/python/python_course/lessons/article-resources-master/Ultimate Guide to Web Scraping/Part 1 - Requests and BeautifulSoup', ['assets'], ['script.py', 'README.md', 'notebook.ipynb'])\n",
      "('/workspace/python/python_course/lessons/article-resources-master/Ultimate Guide to Web Scraping/Part 1 - Requests and BeautifulSoup/assets', [], ['finding table in HTML.mp4', 'css selector vs xpath.mp4', 'Media Bias Ratings AllSides.jpg', 'bias rating.mp4', 'progress bar.gif', 'agree ratio community feedback.mp4', 'news source name.mp4'])\n",
      "('/workspace/python/python_course/lessons/article-resources-master/Python Pandas Tutorial A Complete Introduction for Beginners', ['assets'], ['purchases.csv', 'purchases.json', 'notebook.ipynb', 'IMDB-Movie-Data.csv', 'database.db'])\n",
      "('/workspace/python/python_course/lessons/article-resources-master/Python Pandas Tutorial A Complete Introduction for Beginners/assets', [], ['the-rise-in-popularity-of-pandas.png', 'series-and-dataframe.png'])\n",
      "('/workspace/python/python_course/lessons/article-resources-master/Sentiment Analysis on Reddit Headlines with NLTK', [], ['README.md', 'Sentiment Analysis on Reddit Headlines with NLTK.ipynb'])\n",
      "('/workspace/python/python_course/lessons/article-resources-master/Housing Price Index Regression', [], ['seasons.csv', 'shiller.csv', 'Housing Regression.ipynb', 'unemployment-macro.csv', 'gdp.csv', 'fed_funds.csv', 'monthly-hpi.csv', 'readme.md'])\n",
      "('/workspace/python/python_course/lessons/article-resources-master/Python for Finance, Part 3', [], ['Python for Finance Part 3 - A Moving Average Trading Strategy.ipynb', 'data.pkl'])\n",
      "('/workspace/python/python_course/lessons/article-resources-master/Intro to Reinforcement Q-Learning', ['assets'], ['A_practical_introduction_to_Reinforcement_Learning.ipynb', 'utils.py'])\n",
      "('/workspace/python/python_course/lessons/article-resources-master/Intro to Reinforcement Q-Learning/assets', [], ['q matrix initialized.png', 'Reinforcement Learning Taxi Env.png', 'q-matrix-initialized-to-learned.png', 'Taxi-v2 render 1.png', 'q-matrix-after-run.png', 'q-matrix-initialized.png'])\n",
      "('/workspace/python/python_course/lessons/article-resources-master/K-Means Clustering', [], ['K-Means Clustering.ipynb', 'zachary1977.pdf'])\n",
      "('/workspace/python/python_course/lessons/article-resources-master/Predicting Reddit News Sentiment', [], ['Predicting Reddit News Sentiment with Naive Bayes and Other Text Classifiers.ipynb'])\n",
      "('/workspace/python/python_course/lessons/article-resources-master/LSH Recommendation Engine', ['assets'], ['LSH_Recommendation_Engine.ipynb'])\n",
      "('/workspace/python/python_course/lessons/article-resources-master/LSH Recommendation Engine/assets', [], ['intersection of sets.png', 'slide-4-permutation-4.png', 'slide-2-permutation-2.png', 'slide-1-permutation-1.png', 'locality-sensitive-hashing-lsh-buckets.png', 'slide-3-permutation-3.png', 'signature.png'])\n",
      "('/workspace/python/python_course/lessons/article-resources-master/How to Stream Text Data from Twitch with Sockets in Python', ['assets'], ['chat_parser.py', 'notebook.ipynb', 'chat_logger.py'])\n",
      "('/workspace/python/python_course/lessons/article-resources-master/How to Stream Text Data from Twitch with Sockets in Python/assets', [], ['twitch-irc-message-structure.png', 'ninja-stream-optimized.gif'])\n",
      "('/workspace/python/python_course/lessons/article-resources-master/Essential Statistics', [], ['Essential Statistics.ipynb', 'middle_tn_schools.csv', 'readme.md'])\n",
      "('/workspace/python/python_course/lessons/article-resources-master/Python for Finance, Part 2', [], ['Python for Finance Part 2 Intro to Quantitative Trading Strategies.ipynb', 'data.pkl'])\n",
      "('/workspace/python/python_course/lessons/article-resources-master/Guide to Using Databases with Python Postgres, SQLAlchemy, and Alembic', ['project'], [])\n",
      "('/workspace/python/python_course/lessons/article-resources-master/Guide to Using Databases with Python Postgres, SQLAlchemy, and Alembic/project', ['alembic'], ['config.py', 'books.yaml', 'models.py', 'crud.py', 'alembic.ini', 'cli.py'])\n",
      "('/workspace/python/python_course/lessons/article-resources-master/Guide to Using Databases with Python Postgres, SQLAlchemy, and Alembic/project/alembic', ['versions'], ['README', 'env.py', 'script.py.mako'])\n",
      "('/workspace/python/python_course/lessons/article-resources-master/Guide to Using Databases with Python Postgres, SQLAlchemy, and Alembic/project/alembic/versions', [], ['c98ef4af563a_added_price_column.py'])\n",
      "('/workspace/python/python_course/lessons/article-resources-master/Python For Finance, Part I', [], ['README.md', 'Python for Finance Part I.ipynb'])\n",
      "('/workspace/python/python_course/lessons/article-resources-master/From Good to Great Data Science, Part 1 Correlations and Confidence', [], ['hospital_ratings.csv', 'notebook.ipynb', 'prescriptions.csv'])\n",
      "('/workspace/python/python_course/lessons/dask', ['.ipynb_checkpoints'], ['dask.ipynb'])\n",
      "('/workspace/python/python_course/lessons/dask/.ipynb_checkpoints', [], ['dask-checkpoint.ipynb'])\n",
      "('/workspace/python/python_course/lessons/visualization', ['.ipynb_checkpoints'], ['seaborn.html', 'matplotlib.ipynb', 'altair.ipynb', 'plotly.ipynb', 'matplotlib.html', 'seaborn.ipynb', 'Pokemon.csv'])\n",
      "('/workspace/python/python_course/lessons/visualization/.ipynb_checkpoints', [], ['matplotlib-checkpoint.ipynb', 'filename-checkpoint.png', 'seaborn-checkpoint.ipynb', 'altair-checkpoint.ipynb', 'plotly-checkpoint.ipynb'])\n",
      "('/workspace/python/python_course/lessons/numpy', ['.ipynb_checkpoints'], ['numpy_advanced.ipynb', 'numpy_exercises.ipynb', 'numpy.ipynb', 'numpy_advanced.html', 'numpy_exercises.html', 'numpy.html'])\n",
      "('/workspace/python/python_course/lessons/numpy/.ipynb_checkpoints', [], ['numpy_exercises-checkpoint.ipynb', 'numpy-checkpoint.ipynb', 'numpy_advanced-checkpoint.ipynb'])\n",
      "('/workspace/python/python_course/lessons/excel', ['.ipynb_checkpoints'], ['excel.html', 'excel.ipynb', 'logo.jpeg', 'reviews-sample.xlsx'])\n",
      "('/workspace/python/python_course/lessons/excel/.ipynb_checkpoints', [], ['logo-checkpoint.jpeg', 'excel-checkpoint.ipynb'])\n",
      "('/workspace/python/python_course/lessons/scraper', ['.ipynb_checkpoints'], ['scraper.ipynb', 'scraper.html', 'comments.csv', 'example.html'])\n",
      "('/workspace/python/python_course/lessons/scraper/.ipynb_checkpoints', [], ['scraper-checkpoint.ipynb', 'example-checkpoint.html', 'comments-checkpoint.csv'])\n",
      "('/workspace/python/python_course/lessons/dataframes', ['pandas'], [])\n",
      "('/workspace/python/python_course/lessons/dataframes/pandas', ['parsing_large_files', '.ipynb_checkpoints'], ['pandas.html', 'new_purchases.csv', 'purchases.xlsx', 'pandas.ipynb', 'purchases.csv', 'new_purchases.xlsx', 'purchases.json', 'new_purchases.json', 'database_original.db', 'IMDB-Movie-Data.csv', 'database.db'])\n",
      "('/workspace/python/python_course/lessons/dataframes/pandas/parsing_large_files', ['.ipynb_checkpoints'], ['parsing_large_excel.ipynb', 'Accidents7904.csv.zip', 'parsing_large_excel.html'])\n",
      "('/workspace/python/python_course/lessons/dataframes/pandas/parsing_large_files/.ipynb_checkpoints', [], ['parsing_large_excel-checkpoint.ipynb'])\n",
      "('/workspace/python/python_course/lessons/dataframes/pandas/.ipynb_checkpoints', [], ['notebook-checkpoint.ipynb', 'purchases-checkpoint.json', 'parsing_large_excel-checkpoint.ipynb', 'pandas-checkpoint.ipynb'])\n",
      "('/workspace/python/python_course/lessons/.ipynb_checkpoints', [], [])\n",
      "('/workspace/python/python_course/slides', ['.ipynb_checkpoints'], ['14.csv.html', '2.integers&floats.html', '4.dictionaries.html', '5.datatypes_recap.html', 'my_module.py', '21.data_analysis_advanced.html', '8.functions.html', '0.toc.html', '11.variables.html', '9.exceptions.html', '19.classes.html', '7.loops.html', 'myFirstProgram.py', '1.strings.html', '22.toc_maker.html', 'markdown-guide.pdf', '15.json.html', '20.data_analysis.html', '12.variablescopes.html', 'example.csv', '16.databases.html', '13.virtualenv.html', '3.lists&tuples&sets.html', '17.comprehensions.html', '18.decorators.html', '6.conditionals.html', '10.import_modules.html'])\n",
      "('/workspace/python/python_course/slides/.ipynb_checkpoints', [], ['0.toc-checkpoint.html'])\n"
     ]
    }
   ],
   "source": [
    "# as you can see, x is a generator, meaning it doesn't hold any data, it will generate it when we ask for it\n",
    "# (imagine asking python to walk through a whole hard drive, it would take a lot of time!)\n",
    "# so we have to iterate the generator to get data from it:\n",
    "for x in os.walk(os.getcwd()):\n",
    "    print(x)\n",
    "\n",
    "# or using a list comprehension    \n",
    "#[x for x in os.walk(os.getcwd())]"
   ]
  },
  {
   "cell_type": "code",
   "execution_count": 30,
   "metadata": {
    "scrolled": true
   },
   "outputs": [
    {
     "name": "stdout",
     "output_type": "stream",
     "text": [
      "The directory: /workspace/python/python_course has these folders: ['exercise_csv', 'exercise_calculator', 'exercise_json', 'exercise_console', 'data_science', 'materials', 'scripts', 'exercise_job_interview', '__pycache__', 'exercise_quizz', '.ipynb_checkpoints', 'lessons', 'slides'] and these files ['import_modules.ipynb', 'lists&tuples&sets.ipynb', '.~Course.pptx', 'oop-classes.ipynb', 'csv.ipynb', 'debug_example.py', 'json.ipynb', 'my_module.py', 'functions.ipynb', 'conditionals.ipynb', 'strings.ipynb', 'variablescopes.ipynb', 'loops.ipynb', 'decorators.ipynb', 'comprehensions.ipynb', 'myFirstProgram.py', 'databases.ipynb', 'Course.pptx', 'dictionaries.ipynb', 'functions.log', 'insightsPage-example.json', 'variables.ipynb', 'new_example.csv', 'relational.sql', 'virtualenv.ipynb', 'generators_mem_profile.py', 'datatypes_recap.ipynb', 'example.csv', 'integers&floats.ipynb', 'data-analysis-and-feature-extraction-with-python.ipynb', 'noSQL.json', 'exceptions.ipynb']\n",
      "The directory: /workspace/python/python_course/exercise_csv has these folders: ['.ipynb_checkpoints'] and these files ['patrons.csv', 'csv.ipynb', 'briefing.ipynb']\n",
      "The directory: /workspace/python/python_course/exercise_csv/.ipynb_checkpoints has these folders: [] and these files ['csv-checkpoint.ipynb', 'patrons-checkpoint.csv', 'briefing-checkpoint.ipynb']\n",
      "The directory: /workspace/python/python_course/exercise_calculator has these folders: ['.ipynb_checkpoints'] and these files ['calculator.py', 'calculator-round.result.solved.py']\n",
      "The directory: /workspace/python/python_course/exercise_calculator/.ipynb_checkpoints has these folders: [] and these files ['calculator-round.result.solved-checkpoint.py', 'calculator-checkpoint.py']\n",
      "The directory: /workspace/python/python_course/exercise_json has these folders: ['__pycache__', '.ipynb_checkpoints'] and these files ['exercise_json.ipynb', 'exercise-json_old.ipynb', 'exercise_json_solution.ipynb']\n",
      "The directory: /workspace/python/python_course/exercise_json/__pycache__ has these folders: [] and these files ['api.cpython-37.pyc', 'api.cpython-36.pyc']\n",
      "The directory: /workspace/python/python_course/exercise_json/.ipynb_checkpoints has these folders: [] and these files ['exercise2-Solved-checkpoint.ipynb', 'exercise-json-Solution-checkpoint.ipynb', 'exercise-json_old-checkpoint.ipynb', 'exercise-json-checkpoint.ipynb', 'exercise_json-checkpoint.ipynb', 'exercise_json_solution-checkpoint.ipynb', 'exercise_json_new-checkpoint.ipynb']\n",
      "The directory: /workspace/python/python_course/exercise_console has these folders: ['.ipynb_checkpoints'] and these files ['console-app-solved.py', 'console-app-solved2.py', 'briefing.ipynb', 'console-app.py']\n",
      "The directory: /workspace/python/python_course/exercise_console/.ipynb_checkpoints has these folders: [] and these files ['console-app-solved-checkpoint.py', 'console-app-solved2-checkpoint.py', 'console-app-checkpoint.py', 'briefing-checkpoint.ipynb']\n",
      "The directory: /workspace/python/python_course/data_science has these folders: ['figures', '.ipynb_checkpoints'] and these files ['data_analysis_advanced.ipynb', 'data_analysis.ipynb', 'data_file.txt', 'final_data.csv', 'data_with_headers.csv', 'data_with_headers.xlsx', 'Untitled.ipynb', 'loans.csv']\n",
      "The directory: /workspace/python/python_course/data_science/figures has these folders: ['.ipynb_checkpoints'] and these files ['my_Python_plot.png']\n",
      "The directory: /workspace/python/python_course/data_science/figures/.ipynb_checkpoints has these folders: [] and these files ['my_Python_plot-checkpoint.png']\n",
      "The directory: /workspace/python/python_course/data_science/.ipynb_checkpoints has these folders: [] and these files ['output_11_1-checkpoint.png', 'my_Python_plot-checkpoint.png', 'data_analysis-checkpoint.ipynb', 'data_analysis_advanced-checkpoint.ipynb', 'output_12_0-checkpoint.png', 'output_10_1-checkpoint.png', 'loans-checkpoint.csv', 'data_file-checkpoint.txt', 'untitled1-checkpoint.txt', 'final_data-checkpoint.csv', 'Untitled-checkpoint.ipynb', 'data_with_headers-checkpoint.csv', 'untitled-checkpoint.txt', 'notebook-checkpoint.tex']\n",
      "The directory: /workspace/python/python_course/materials has these folders: ['PYT002', 'PYT010', 'PYT005', 'PYT001', 'PYT009', 'PYT014', 'PYT013', 'PYT008', 'PYT004', 'PYT003', 'PYT007', 'PYT012', 'PYT006', 'PYT011'] and these files []\n",
      "The directory: /workspace/python/python_course/materials/PYT002 has these folders: [] and these files ['AQ01.xls', 'CC10.pdf', 'FS02.pdf', 'FP01.pdf', 'Ficha de Identificação.url', 'Questionário Avaliação.url']\n",
      "The directory: /workspace/python/python_course/materials/PYT010 has these folders: [] and these files ['FQA.xls', 'CC10.pdf', 'FS02.pdf', 'FP01.pdf', 'AQ01.pdf', 'PYT010.pdf', 'AQ01.xlsx']\n",
      "The directory: /workspace/python/python_course/materials/PYT005 has these folders: [] and these files ['FQA.xls', 'CC10.pdf', 'FS02.pdf', 'FP01.pdf', 'AQ01.xlsx']\n",
      "The directory: /workspace/python/python_course/materials/PYT001 has these folders: [] and these files ['RFR05 - Regulamento-Formador.pdf', 'CC10.pdf', 'FS02.pdf', 'FP01.pdf', 'AQ01.xlsx', 'Ficha de Identificação.url', 'Questionário Avaliação.url']\n",
      "The directory: /workspace/python/python_course/materials/PYT009 has these folders: [] and these files ['CC10.pdf', 'FS02.pdf', 'FP01.pdf', 'AQ01.xlsx']\n",
      "The directory: /workspace/python/python_course/materials/PYT014 has these folders: [] and these files ['FQA.xls', 'Fatura QualiCAD_Python.pdf', 'CC10.pdf', 'FS02.pdf', 'FP01.pdf', 'PYT014_2.pdf', 'AQ01.xlsx', 'PYT014.pdf']\n",
      "The directory: /workspace/python/python_course/materials/PYT013 has these folders: [] and these files ['PYT013-AQ.pdf', 'CC10.pdf', 'PYT013.pdf', 'FS02.pdf', 'FP01.pdf', 'AQ01.xlsx']\n",
      "The directory: /workspace/python/python_course/materials/PYT008 has these folders: [] and these files ['PYT008.pdf', 'FQA.xls', 'CC10.pdf', 'FS02.pdf', 'FP01.pdf', 'AQ01.xlsx']\n",
      "The directory: /workspace/python/python_course/materials/PYT004 has these folders: [] and these files ['CC10.pdf', 'FS02.pdf', 'FP01.pdf', 'AQ01.xlsx', 'FQA.xlsx']\n",
      "The directory: /workspace/python/python_course/materials/PYT003 has these folders: [] and these files ['AQ01.xls', 'CC10.pdf', 'FS02.pdf', 'FP01.pdf', 'PYT003.pdf']\n",
      "The directory: /workspace/python/python_course/materials/PYT007 has these folders: [] and these files ['FQA.xls', 'AQ01.xls', 'PYT007.pdf', 'CC10.pdf', 'FS02.pdf', 'FP01.pdf']\n",
      "The directory: /workspace/python/python_course/materials/PYT012 has these folders: [] and these files ['FQA.xls', 'CC10.pdf', 'FS02.pdf', 'FP01.pdf', 'AQ01.xlsx', 'PYT012.pdf']\n",
      "The directory: /workspace/python/python_course/materials/PYT006 has these folders: [] and these files ['CC10.pdf', 'FS02.pdf', 'FP01.pdf', 'AQ01.xlsx']\n",
      "The directory: /workspace/python/python_course/materials/PYT011 has these folders: [] and these files ['FQA.xls', 'CC10.pdf', 'FS02.pdf', 'FP01.pdf', 'AQ01.xlsx', 'PYT011.pdf']\n",
      "The directory: /workspace/python/python_course/scripts has these folders: ['.ipynb_checkpoints'] and these files ['regex.ipynb', 'toc_maker.ipynb', '__main__.ipynb', 'generators.ipynb']\n",
      "The directory: /workspace/python/python_course/scripts/.ipynb_checkpoints has these folders: [] and these files ['toc_maker-checkpoint.ipynb', '__main__-checkpoint.ipynb', 'generators-checkpoint.ipynb', 'regex-checkpoint.ipynb']\n",
      "The directory: /workspace/python/python_course/exercise_job_interview has these folders: ['.ipynb_checkpoints'] and these files ['job_interview.ipynb', 'job_interview-solved.ipynb']\n",
      "The directory: /workspace/python/python_course/exercise_job_interview/.ipynb_checkpoints has these folders: [] and these files ['job_interview-checkpoint.ipynb', 'job_interview-solved-checkpoint.ipynb']\n",
      "The directory: /workspace/python/python_course/__pycache__ has these folders: [] and these files ['my_module.cpython-37.pyc']\n",
      "The directory: /workspace/python/python_course/exercise_quizz has these folders: ['.ipynb_checkpoints'] and these files ['quizz_link.ipynb']\n",
      "The directory: /workspace/python/python_course/exercise_quizz/.ipynb_checkpoints has these folders: [] and these files ['quizz_link-checkpoint.ipynb']\n",
      "The directory: /workspace/python/python_course/.ipynb_checkpoints has these folders: [] and these files ['new_example-checkpoint.csv', 'import_modules-checkpoint.ipynb', 'conditionals-checkpoint.ipynb', 'variablescopes-checkpoint.ipynb', 'databases-checkpoint.ipynb', 'Untitled1-checkpoint.ipynb', 'loops-checkpoint.ipynb', 'functions-checkpoint.ipynb', 'example-checkpoint.csv', 'decorators-checkpoint.ipynb', 'insightsPage-example-checkpoint.json', 'lists&tuples&sets-checkpoint.ipynb', 'csv-checkpoint.ipynb', 'comprehensions-checkpoint.ipynb', 'dictionaries-checkpoint.ipynb', 'data-analysis-and-feature-extraction-with-python-checkpoint.ipynb', 'exceptions-checkpoint.ipynb', 'noSQL-checkpoint.json', 'json-checkpoint.ipynb', 'oop-classes-checkpoint.ipynb', 'datatypes_recap-checkpoint.ipynb', 'virtualenv-checkpoint.ipynb', 'strings-checkpoint.ipynb', 'relational-checkpoint.sql', 'integers&floats-checkpoint.ipynb', 'variables-checkpoint.ipynb', 'my_module-checkpoint.py']\n",
      "The directory: /workspace/python/python_course/lessons has these folders: ['os', 'sqlalchemy', 'article-resources-master', 'dask', 'visualization', 'numpy', 'excel', 'scraper', 'dataframes', '.ipynb_checkpoints'] and these files []\n",
      "The directory: /workspace/python/python_course/lessons/os has these folders: ['matches_dataset', '.ipynb_checkpoints'] and these files ['filesystem.ipynb', 'structure.png', 'my_file.txt', 'my_file.txt.bak', 'filesystem.html']\n",
      "The directory: /workspace/python/python_course/lessons/os/matches_dataset has these folders: ['2000-2019.zip', '1900-1999.zip', 'final', '1872-1899.zip'] and these files []\n",
      "The directory: /workspace/python/python_course/lessons/os/matches_dataset/2000-2019.zip has these folders: ['.ipynb_checkpoints'] and these files ['2000-2019.csv']\n",
      "The directory: /workspace/python/python_course/lessons/os/matches_dataset/2000-2019.zip/.ipynb_checkpoints has these folders: [] and these files []\n",
      "The directory: /workspace/python/python_course/lessons/os/matches_dataset/1900-1999.zip has these folders: [] and these files ['1950-2000.csv', '1900-1950.csv']\n",
      "The directory: /workspace/python/python_course/lessons/os/matches_dataset/final has these folders: ['.ipynb_checkpoints'] and these files ['final_data.csv']\n",
      "The directory: /workspace/python/python_course/lessons/os/matches_dataset/final/.ipynb_checkpoints has these folders: [] and these files ['final_data-checkpoint.csv']\n",
      "The directory: /workspace/python/python_course/lessons/os/matches_dataset/1872-1899.zip has these folders: [] and these files ['xix_century.csv']\n",
      "The directory: /workspace/python/python_course/lessons/os/.ipynb_checkpoints has these folders: [] and these files ['filesystem-checkpoint.ipynb', 'my_file-checkpoint.txt', 'my_file.txt-checkpoint.bak']\n",
      "The directory: /workspace/python/python_course/lessons/sqlalchemy has these folders: ['.ipynb_checkpoints'] and these files ['sqlalchemy.html', 'sqlalchemy.ipynb']\n",
      "The directory: /workspace/python/python_course/lessons/sqlalchemy/.ipynb_checkpoints has these folders: [] and these files ['sqlalchemy-checkpoint.ipynb']\n",
      "The directory: /workspace/python/python_course/lessons/article-resources-master has these folders: ['Ultimate Guide to Web Scraping', 'Python Pandas Tutorial A Complete Introduction for Beginners', 'Sentiment Analysis on Reddit Headlines with NLTK', 'Housing Price Index Regression', 'Python for Finance, Part 3', 'Intro to Reinforcement Q-Learning', 'K-Means Clustering', 'Predicting Reddit News Sentiment', 'LSH Recommendation Engine', 'How to Stream Text Data from Twitch with Sockets in Python', 'Essential Statistics', 'Python for Finance, Part 2', 'Guide to Using Databases with Python Postgres, SQLAlchemy, and Alembic', 'Python For Finance, Part I', 'From Good to Great Data Science, Part 1 Correlations and Confidence'] and these files ['README.md']\n",
      "The directory: /workspace/python/python_course/lessons/article-resources-master/Ultimate Guide to Web Scraping has these folders: ['Part 1 - Requests and BeautifulSoup'] and these files []\n",
      "The directory: /workspace/python/python_course/lessons/article-resources-master/Ultimate Guide to Web Scraping/Part 1 - Requests and BeautifulSoup has these folders: ['assets'] and these files ['script.py', 'README.md', 'notebook.ipynb']\n",
      "The directory: /workspace/python/python_course/lessons/article-resources-master/Ultimate Guide to Web Scraping/Part 1 - Requests and BeautifulSoup/assets has these folders: [] and these files ['finding table in HTML.mp4', 'css selector vs xpath.mp4', 'Media Bias Ratings AllSides.jpg', 'bias rating.mp4', 'progress bar.gif', 'agree ratio community feedback.mp4', 'news source name.mp4']\n",
      "The directory: /workspace/python/python_course/lessons/article-resources-master/Python Pandas Tutorial A Complete Introduction for Beginners has these folders: ['assets'] and these files ['purchases.csv', 'purchases.json', 'notebook.ipynb', 'IMDB-Movie-Data.csv', 'database.db']\n",
      "The directory: /workspace/python/python_course/lessons/article-resources-master/Python Pandas Tutorial A Complete Introduction for Beginners/assets has these folders: [] and these files ['the-rise-in-popularity-of-pandas.png', 'series-and-dataframe.png']\n",
      "The directory: /workspace/python/python_course/lessons/article-resources-master/Sentiment Analysis on Reddit Headlines with NLTK has these folders: [] and these files ['README.md', 'Sentiment Analysis on Reddit Headlines with NLTK.ipynb']\n",
      "The directory: /workspace/python/python_course/lessons/article-resources-master/Housing Price Index Regression has these folders: [] and these files ['seasons.csv', 'shiller.csv', 'Housing Regression.ipynb', 'unemployment-macro.csv', 'gdp.csv', 'fed_funds.csv', 'monthly-hpi.csv', 'readme.md']\n",
      "The directory: /workspace/python/python_course/lessons/article-resources-master/Python for Finance, Part 3 has these folders: [] and these files ['Python for Finance Part 3 - A Moving Average Trading Strategy.ipynb', 'data.pkl']\n",
      "The directory: /workspace/python/python_course/lessons/article-resources-master/Intro to Reinforcement Q-Learning has these folders: ['assets'] and these files ['A_practical_introduction_to_Reinforcement_Learning.ipynb', 'utils.py']\n",
      "The directory: /workspace/python/python_course/lessons/article-resources-master/Intro to Reinforcement Q-Learning/assets has these folders: [] and these files ['q matrix initialized.png', 'Reinforcement Learning Taxi Env.png', 'q-matrix-initialized-to-learned.png', 'Taxi-v2 render 1.png', 'q-matrix-after-run.png', 'q-matrix-initialized.png']\n",
      "The directory: /workspace/python/python_course/lessons/article-resources-master/K-Means Clustering has these folders: [] and these files ['K-Means Clustering.ipynb', 'zachary1977.pdf']\n",
      "The directory: /workspace/python/python_course/lessons/article-resources-master/Predicting Reddit News Sentiment has these folders: [] and these files ['Predicting Reddit News Sentiment with Naive Bayes and Other Text Classifiers.ipynb']\n",
      "The directory: /workspace/python/python_course/lessons/article-resources-master/LSH Recommendation Engine has these folders: ['assets'] and these files ['LSH_Recommendation_Engine.ipynb']\n",
      "The directory: /workspace/python/python_course/lessons/article-resources-master/LSH Recommendation Engine/assets has these folders: [] and these files ['intersection of sets.png', 'slide-4-permutation-4.png', 'slide-2-permutation-2.png', 'slide-1-permutation-1.png', 'locality-sensitive-hashing-lsh-buckets.png', 'slide-3-permutation-3.png', 'signature.png']\n",
      "The directory: /workspace/python/python_course/lessons/article-resources-master/How to Stream Text Data from Twitch with Sockets in Python has these folders: ['assets'] and these files ['chat_parser.py', 'notebook.ipynb', 'chat_logger.py']\n",
      "The directory: /workspace/python/python_course/lessons/article-resources-master/How to Stream Text Data from Twitch with Sockets in Python/assets has these folders: [] and these files ['twitch-irc-message-structure.png', 'ninja-stream-optimized.gif']\n",
      "The directory: /workspace/python/python_course/lessons/article-resources-master/Essential Statistics has these folders: [] and these files ['Essential Statistics.ipynb', 'middle_tn_schools.csv', 'readme.md']\n",
      "The directory: /workspace/python/python_course/lessons/article-resources-master/Python for Finance, Part 2 has these folders: [] and these files ['Python for Finance Part 2 Intro to Quantitative Trading Strategies.ipynb', 'data.pkl']\n",
      "The directory: /workspace/python/python_course/lessons/article-resources-master/Guide to Using Databases with Python Postgres, SQLAlchemy, and Alembic has these folders: ['project'] and these files []\n",
      "The directory: /workspace/python/python_course/lessons/article-resources-master/Guide to Using Databases with Python Postgres, SQLAlchemy, and Alembic/project has these folders: ['alembic'] and these files ['config.py', 'books.yaml', 'models.py', 'crud.py', 'alembic.ini', 'cli.py']\n",
      "The directory: /workspace/python/python_course/lessons/article-resources-master/Guide to Using Databases with Python Postgres, SQLAlchemy, and Alembic/project/alembic has these folders: ['versions'] and these files ['README', 'env.py', 'script.py.mako']\n",
      "The directory: /workspace/python/python_course/lessons/article-resources-master/Guide to Using Databases with Python Postgres, SQLAlchemy, and Alembic/project/alembic/versions has these folders: [] and these files ['c98ef4af563a_added_price_column.py']\n",
      "The directory: /workspace/python/python_course/lessons/article-resources-master/Python For Finance, Part I has these folders: [] and these files ['README.md', 'Python for Finance Part I.ipynb']\n",
      "The directory: /workspace/python/python_course/lessons/article-resources-master/From Good to Great Data Science, Part 1 Correlations and Confidence has these folders: [] and these files ['hospital_ratings.csv', 'notebook.ipynb', 'prescriptions.csv']\n",
      "The directory: /workspace/python/python_course/lessons/dask has these folders: ['.ipynb_checkpoints'] and these files ['dask.ipynb']\n",
      "The directory: /workspace/python/python_course/lessons/dask/.ipynb_checkpoints has these folders: [] and these files ['dask-checkpoint.ipynb']\n",
      "The directory: /workspace/python/python_course/lessons/visualization has these folders: ['.ipynb_checkpoints'] and these files ['seaborn.html', 'matplotlib.ipynb', 'altair.ipynb', 'plotly.ipynb', 'matplotlib.html', 'seaborn.ipynb', 'Pokemon.csv']\n",
      "The directory: /workspace/python/python_course/lessons/visualization/.ipynb_checkpoints has these folders: [] and these files ['matplotlib-checkpoint.ipynb', 'filename-checkpoint.png', 'seaborn-checkpoint.ipynb', 'altair-checkpoint.ipynb', 'plotly-checkpoint.ipynb']\n",
      "The directory: /workspace/python/python_course/lessons/numpy has these folders: ['.ipynb_checkpoints'] and these files ['numpy_advanced.ipynb', 'numpy_exercises.ipynb', 'numpy.ipynb', 'numpy_advanced.html', 'numpy_exercises.html', 'numpy.html']\n",
      "The directory: /workspace/python/python_course/lessons/numpy/.ipynb_checkpoints has these folders: [] and these files ['numpy_exercises-checkpoint.ipynb', 'numpy-checkpoint.ipynb', 'numpy_advanced-checkpoint.ipynb']\n",
      "The directory: /workspace/python/python_course/lessons/excel has these folders: ['.ipynb_checkpoints'] and these files ['excel.html', 'excel.ipynb', 'logo.jpeg', 'reviews-sample.xlsx']\n",
      "The directory: /workspace/python/python_course/lessons/excel/.ipynb_checkpoints has these folders: [] and these files ['logo-checkpoint.jpeg', 'excel-checkpoint.ipynb']\n",
      "The directory: /workspace/python/python_course/lessons/scraper has these folders: ['.ipynb_checkpoints'] and these files ['scraper.ipynb', 'scraper.html', 'comments.csv', 'example.html']\n",
      "The directory: /workspace/python/python_course/lessons/scraper/.ipynb_checkpoints has these folders: [] and these files ['scraper-checkpoint.ipynb', 'example-checkpoint.html', 'comments-checkpoint.csv']\n",
      "The directory: /workspace/python/python_course/lessons/dataframes has these folders: ['pandas'] and these files []\n",
      "The directory: /workspace/python/python_course/lessons/dataframes/pandas has these folders: ['parsing_large_files', '.ipynb_checkpoints'] and these files ['pandas.html', 'new_purchases.csv', 'purchases.xlsx', 'pandas.ipynb', 'purchases.csv', 'new_purchases.xlsx', 'purchases.json', 'new_purchases.json', 'database_original.db', 'IMDB-Movie-Data.csv', 'database.db']\n",
      "The directory: /workspace/python/python_course/lessons/dataframes/pandas/parsing_large_files has these folders: ['.ipynb_checkpoints'] and these files ['parsing_large_excel.ipynb', 'Accidents7904.csv.zip', 'parsing_large_excel.html']\n",
      "The directory: /workspace/python/python_course/lessons/dataframes/pandas/parsing_large_files/.ipynb_checkpoints has these folders: [] and these files ['parsing_large_excel-checkpoint.ipynb']\n",
      "The directory: /workspace/python/python_course/lessons/dataframes/pandas/.ipynb_checkpoints has these folders: [] and these files ['notebook-checkpoint.ipynb', 'purchases-checkpoint.json', 'parsing_large_excel-checkpoint.ipynb', 'pandas-checkpoint.ipynb']\n",
      "The directory: /workspace/python/python_course/lessons/.ipynb_checkpoints has these folders: [] and these files []\n",
      "The directory: /workspace/python/python_course/slides has these folders: ['.ipynb_checkpoints'] and these files ['14.csv.html', '2.integers&floats.html', '4.dictionaries.html', '5.datatypes_recap.html', 'my_module.py', '21.data_analysis_advanced.html', '8.functions.html', '0.toc.html', '11.variables.html', '9.exceptions.html', '19.classes.html', '7.loops.html', 'myFirstProgram.py', '1.strings.html', '22.toc_maker.html', 'markdown-guide.pdf', '15.json.html', '20.data_analysis.html', '12.variablescopes.html', 'example.csv', '16.databases.html', '13.virtualenv.html', '3.lists&tuples&sets.html', '17.comprehensions.html', '18.decorators.html', '6.conditionals.html', '10.import_modules.html']\n",
      "The directory: /workspace/python/python_course/slides/.ipynb_checkpoints has these folders: [] and these files ['0.toc-checkpoint.html']\n"
     ]
    }
   ],
   "source": [
    "# or in a more understandable way:\n",
    "for x in os.walk(os.getcwd()):\n",
    "    print(f'The directory: {x[0]} has these folders: {x[1]} and these files {x[2]}')"
   ]
  },
  {
   "cell_type": "markdown",
   "metadata": {},
   "source": [
    "#### Managing directories and files"
   ]
  },
  {
   "cell_type": "code",
   "execution_count": 31,
   "metadata": {},
   "outputs": [
    {
     "name": "stdout",
     "output_type": "stream",
     "text": [
      "['my_new_folder', 'filesystem.ipynb', 'structure.png', 'my_file.txt', 'my_file.txt.bak', 'matches_dataset', 'filesystem.html', '.ipynb_checkpoints']\n",
      "\n",
      "/workspace/python/python_course\n",
      "\n",
      "['my_new_folder', 'filesystem.ipynb', 'structure.png', 'my_file.txt', 'another_new_folder', 'my_file.txt.bak', 'matches_dataset', 'filesystem.html', '.ipynb_checkpoints']\n"
     ]
    }
   ],
   "source": [
    "# creating new directories\n",
    "# the mkdir() method also follows the same absolute/relative path logic.\n",
    "# if you specify the full path the directory will be created in that location:\n",
    "os.mkdir('/workspace/python/python_course/lessons/os/my_new_folder')\n",
    "print(os.listdir('/workspace/python/python_course/lessons/os'))\n",
    "print()\n",
    "\n",
    "# if you don't, the directory will be created in the current path, which now is:\n",
    "#os.mkdir('my_new_folder')\n",
    "print(os.getcwd())\n",
    "print()\n",
    "\n",
    "# if you want to create multiple nested directories at once, just use the makedirs() method:\n",
    "os.makedirs('/workspace/python/python_course/lessons/os/another_new_folder/and_another/and_another')\n",
    "print(os.listdir('/workspace/python/python_course/lessons/os'))"
   ]
  },
  {
   "cell_type": "code",
   "execution_count": 32,
   "metadata": {},
   "outputs": [
    {
     "name": "stdout",
     "output_type": "stream",
     "text": [
      "Directory already exists.\n"
     ]
    }
   ],
   "source": [
    "# it's usually a good practice to check if a directory/file exists before trying to create it.\n",
    "# you can check for it's existence like this:\n",
    "if not os.path.exists('/workspace/python/python_course/lessons/os/my_new_folder'):\n",
    "    os.mkdir('/workspace/python/python_course/lessons/os/my_new_folder')\n",
    "else:\n",
    "    print('Directory already exists.')"
   ]
  },
  {
   "cell_type": "code",
   "execution_count": 33,
   "metadata": {},
   "outputs": [
    {
     "name": "stdout",
     "output_type": "stream",
     "text": [
      "['filesystem.ipynb', 'structure.png', 'my_file.txt', 'another_new_folder', 'my_file.txt.bak', 'matches_dataset', 'filesystem.html', 'my_new_folder_renamed', '.ipynb_checkpoints']\n",
      "\n",
      "/workspace/python/python_course\n"
     ]
    }
   ],
   "source": [
    "# renaming directories or files\n",
    "# the rename() method also follows the same absolute/relative path logic.\n",
    "# if you specify the full path the directory/file will be renamed in that location:\n",
    "os.rename('/workspace/python/python_course/lessons/os/my_new_folder','/workspace/python/python_course/lessons/os/my_new_folder_renamed')\n",
    "print(os.listdir('/workspace/python/python_course/lessons/os'))\n",
    "print()\n",
    "\n",
    "# if you don't, python will search for the directory/file in the current path and rename it, which now is:\n",
    "#os.rename('my_new_folder', 'my_new_folder_renamed')\n",
    "print(os.getcwd())"
   ]
  },
  {
   "cell_type": "code",
   "execution_count": 34,
   "metadata": {},
   "outputs": [
    {
     "name": "stdout",
     "output_type": "stream",
     "text": [
      "['filesystem.ipynb', 'structure.png', 'my_file.txt', 'another_new_folder', 'my_file.txt.bak', 'matches_dataset', 'filesystem.html', '.ipynb_checkpoints']\n",
      "\n",
      "/workspace/python/python_course\n"
     ]
    }
   ],
   "source": [
    "# removing empty directories\n",
    "# the rmdir() method also follows the same absolute/relative path logic.\n",
    "# if you specify the full path the directory will be removed from that location:\n",
    "os.rmdir('/workspace/python/python_course/lessons/os/my_new_folder_renamed')\n",
    "print(os.listdir('/workspace/python/python_course/lessons/os'))\n",
    "print()\n",
    "\n",
    "# if you don't, python will remove the directory from the current path, which now is:\n",
    "#os.rmdir('my_new_folder_renamed')\n",
    "print(os.getcwd())"
   ]
  },
  {
   "cell_type": "markdown",
   "metadata": {},
   "source": [
    "> **Note**: Python will throw an error in you try to remove the current working directory. You must change to another directory and then call the rmdir() method."
   ]
  },
  {
   "cell_type": "code",
   "execution_count": null,
   "metadata": {},
   "outputs": [],
   "source": [
    "# removing directories and their contents\n",
    "# if you wish to do this, you must use the rmtree() method from another module called shutil\n",
    "import shutil\n",
    "shutil.rmtree('/workspace/python/python_course/lessons/os/another_new_folder')\n",
    "print(os.listdir('/workspace/python/python_course/lessons/os'))"
   ]
  },
  {
   "cell_type": "code",
   "execution_count": null,
   "metadata": {},
   "outputs": [],
   "source": [
    "# removing files\n",
    "# the rmdir() method also follows the same absolute/relative path logic.\n",
    "# if you specify the full path the file will be removed from that location:\n",
    "os.remove('/workspace/python/python_course/lessons/os/my_file.txt')\n",
    "print(os.listdir('/workspace/python/python_course/lessons/os'))\n",
    "print()\n",
    "\n",
    "# if you don't, python will remove the file from the current path, which now is:\n",
    "#os.remove('my_file.txt')\n",
    "print(os.getcwd())"
   ]
  },
  {
   "cell_type": "markdown",
   "metadata": {},
   "source": [
    "#### Move & Copy operations, and accessing the machine's shell\n",
    "\n",
    "There are many ways of performing these operations in python. There's the `os` module, the `shutil` module we saw previously or the `subprocess` module, but let's keep the focus on the `os` module.\n",
    "\n",
    "There's a very powerful method in the `os` module called `system()` that gives you access to the shell/console/terminal of the operating system you're in.\n",
    "\n",
    "So not only you can move or copy files, you can do whatever you want!\n",
    "\n",
    "The `system()` method expects one argument only: the command to execute, meaning that you have to know the available commands in your operating system.\n",
    "\n",
    "So if you're on Windows and want to copy a file, you do `copy my_dir/my_file my_other_dir/my_file`, while on linux or mac you do `cp my_dir/my_file my_other_dir/my_file`."
   ]
  },
  {
   "cell_type": "code",
   "execution_count": null,
   "metadata": {},
   "outputs": [],
   "source": [
    "# here's an example on linux:\n",
    "os.system('cp /workspace/python/python_course/lessons/os/my_file.txt.bak /workspace/python/python_course/lessons/os/my_file.txt')"
   ]
  },
  {
   "cell_type": "markdown",
   "metadata": {},
   "source": [
    "This method has an underlying problem however. The output is always about the execution of the command, not the result/output of that execution, so we don't actually know if the file was copied or not.\n",
    "\n",
    "Enter the `subprocess` module. If we use this module instead:"
   ]
  },
  {
   "cell_type": "code",
   "execution_count": null,
   "metadata": {},
   "outputs": [],
   "source": [
    "import subprocess\n",
    "\n",
    "output = subprocess.check_output('hostname', shell=True)\n",
    "print(f'Subprocess: {output}')\n",
    "print(f'Subprocess(pretty): {output.decode(\"utf-8\")}')\n",
    "\n",
    "output_2 = os.system('hostname')\n",
    "print(f'OS: {output_2}')"
   ]
  },
  {
   "cell_type": "markdown",
   "metadata": {},
   "source": [
    "### Further reading\n",
    "\n",
    "Don't forget that you can always inspect the whole module by calling the `help()` function or visit <a href=\"https://docs.python.org/3.7/library/os\" target=\"blank\">https://docs.python.org/3.7/library/os</a>"
   ]
  },
  {
   "cell_type": "code",
   "execution_count": null,
   "metadata": {
    "scrolled": true
   },
   "outputs": [],
   "source": [
    "help(os)"
   ]
  },
  {
   "cell_type": "markdown",
   "metadata": {},
   "source": [
    "Or get help on a specific method:"
   ]
  },
  {
   "cell_type": "code",
   "execution_count": null,
   "metadata": {},
   "outputs": [],
   "source": [
    "help(os.listdir)"
   ]
  },
  {
   "cell_type": "markdown",
   "metadata": {},
   "source": [
    "### Exercises"
   ]
  },
  {
   "cell_type": "code",
   "execution_count": null,
   "metadata": {},
   "outputs": [],
   "source": [
    "# choose a random folder in your filesystem (preferably a complicated one) and find a way to get all the \n",
    "# directories and files in each subdirectory.\n",
    "\n",
    "# Hint: the best method to achieve this is the os.walk()\n",
    "\n"
   ]
  },
  {
   "cell_type": "code",
   "execution_count": 4,
   "metadata": {},
   "outputs": [
    {
     "name": "stdout",
     "output_type": "stream",
     "text": [
      "os/\n",
      "    filesystem.ipynb\n",
      "    structure.png\n",
      "    my_file.txt\n",
      "    my_file.txt.bak\n",
      "    matches_dataset/\n",
      "        2000-2019.zip/\n",
      "            2000-2019.csv\n",
      "            .ipynb_checkpoints/\n",
      "        1900-1999.zip/\n",
      "            1950-2000.csv\n",
      "            1900-1950.csv\n",
      "        final/\n",
      "            final_data.csv\n",
      "            .ipynb_checkpoints/\n",
      "                final_data-checkpoint.csv\n",
      "        1872-1899.zip/\n",
      "            xix_century.csv\n",
      "    .ipynb_checkpoints/\n",
      "        filesystem-checkpoint.ipynb\n",
      "        my_file-checkpoint.txt\n",
      "        my_file.txt-checkpoint.bak\n"
     ]
    }
   ],
   "source": [
    "def list_files(path=os.getcwd()):\n",
    "    indent_size = 4\n",
    "    for root, dirs, files in os.walk(path):\n",
    "        level = root.replace(path, '').count(os.sep)\n",
    "        indent = ' ' * indent_size * (level)\n",
    "        print(f'{indent}{os.path.basename(root)}/')\n",
    "        subindent = ' ' * indent_size * (level + 1)\n",
    "        for f in files:\n",
    "            print('{}{}'.format(subindent, f))\n",
    "\n",
    "os.chdir('/workspace/python/python_course')\n",
    "list_files()"
   ]
  },
  {
   "cell_type": "code",
   "execution_count": null,
   "metadata": {},
   "outputs": [],
   "source": [
    "# see the 'matches_dataset' directory, that contains multiple csv files. \n",
    "# The goal is to unite all the csv's into one. Ready?\n"
   ]
  },
  {
   "cell_type": "code",
   "execution_count": 2,
   "metadata": {},
   "outputs": [
    {
     "data": {
      "text/html": [
       "<div>\n",
       "<style scoped>\n",
       "    .dataframe tbody tr th:only-of-type {\n",
       "        vertical-align: middle;\n",
       "    }\n",
       "\n",
       "    .dataframe tbody tr th {\n",
       "        vertical-align: top;\n",
       "    }\n",
       "\n",
       "    .dataframe thead th {\n",
       "        text-align: right;\n",
       "    }\n",
       "</style>\n",
       "<table border=\"1\" class=\"dataframe\">\n",
       "  <thead>\n",
       "    <tr style=\"text-align: right;\">\n",
       "      <th></th>\n",
       "      <th>date</th>\n",
       "      <th>home_team</th>\n",
       "      <th>away_team</th>\n",
       "      <th>home_score</th>\n",
       "      <th>away_score</th>\n",
       "      <th>tournament</th>\n",
       "      <th>city</th>\n",
       "      <th>country</th>\n",
       "      <th>neutral</th>\n",
       "    </tr>\n",
       "  </thead>\n",
       "  <tbody>\n",
       "    <tr>\n",
       "      <th>0</th>\n",
       "      <td>1951-02-06</td>\n",
       "      <td>France</td>\n",
       "      <td>Yugoslavia</td>\n",
       "      <td>2</td>\n",
       "      <td>1</td>\n",
       "      <td>Friendly</td>\n",
       "      <td>Paris</td>\n",
       "      <td>France</td>\n",
       "      <td>False</td>\n",
       "    </tr>\n",
       "    <tr>\n",
       "      <th>1</th>\n",
       "      <td>1951-02-18</td>\n",
       "      <td>Spain</td>\n",
       "      <td>Switzerland</td>\n",
       "      <td>6</td>\n",
       "      <td>3</td>\n",
       "      <td>Friendly</td>\n",
       "      <td>Madrid</td>\n",
       "      <td>Spain</td>\n",
       "      <td>False</td>\n",
       "    </tr>\n",
       "    <tr>\n",
       "      <th>2</th>\n",
       "      <td>1951-02-24</td>\n",
       "      <td>Zimbabwe</td>\n",
       "      <td>Zambia</td>\n",
       "      <td>2</td>\n",
       "      <td>1</td>\n",
       "      <td>Friendly</td>\n",
       "      <td>Salisbury</td>\n",
       "      <td>Southern Rhodesia</td>\n",
       "      <td>False</td>\n",
       "    </tr>\n",
       "    <tr>\n",
       "      <th>3</th>\n",
       "      <td>1951-02-25</td>\n",
       "      <td>Costa Rica</td>\n",
       "      <td>Nicaragua</td>\n",
       "      <td>8</td>\n",
       "      <td>1</td>\n",
       "      <td>CCCF Championship</td>\n",
       "      <td>Panama City</td>\n",
       "      <td>Panama</td>\n",
       "      <td>True</td>\n",
       "    </tr>\n",
       "    <tr>\n",
       "      <th>4</th>\n",
       "      <td>1951-02-27</td>\n",
       "      <td>Panama</td>\n",
       "      <td>Costa Rica</td>\n",
       "      <td>2</td>\n",
       "      <td>0</td>\n",
       "      <td>CCCF Championship</td>\n",
       "      <td>Panama City</td>\n",
       "      <td>Panama</td>\n",
       "      <td>False</td>\n",
       "    </tr>\n",
       "    <tr>\n",
       "      <th>5</th>\n",
       "      <td>1951-02-28</td>\n",
       "      <td>Panama</td>\n",
       "      <td>Nicaragua</td>\n",
       "      <td>4</td>\n",
       "      <td>0</td>\n",
       "      <td>CCCF Championship</td>\n",
       "      <td>Panama City</td>\n",
       "      <td>Panama</td>\n",
       "      <td>False</td>\n",
       "    </tr>\n",
       "    <tr>\n",
       "      <th>6</th>\n",
       "      <td>1951-03-02</td>\n",
       "      <td>Panama</td>\n",
       "      <td>Costa Rica</td>\n",
       "      <td>1</td>\n",
       "      <td>1</td>\n",
       "      <td>CCCF Championship</td>\n",
       "      <td>Panama City</td>\n",
       "      <td>Panama</td>\n",
       "      <td>False</td>\n",
       "    </tr>\n",
       "    <tr>\n",
       "      <th>7</th>\n",
       "      <td>1951-03-03</td>\n",
       "      <td>Nicaragua</td>\n",
       "      <td>Costa Rica</td>\n",
       "      <td>1</td>\n",
       "      <td>4</td>\n",
       "      <td>CCCF Championship</td>\n",
       "      <td>Panama City</td>\n",
       "      <td>Panama</td>\n",
       "      <td>True</td>\n",
       "    </tr>\n",
       "    <tr>\n",
       "      <th>8</th>\n",
       "      <td>1951-03-04</td>\n",
       "      <td>Panama</td>\n",
       "      <td>Nicaragua</td>\n",
       "      <td>6</td>\n",
       "      <td>2</td>\n",
       "      <td>CCCF Championship</td>\n",
       "      <td>Panama City</td>\n",
       "      <td>Panama</td>\n",
       "      <td>False</td>\n",
       "    </tr>\n",
       "    <tr>\n",
       "      <th>9</th>\n",
       "      <td>1951-03-07</td>\n",
       "      <td>Northern Ireland</td>\n",
       "      <td>Wales</td>\n",
       "      <td>1</td>\n",
       "      <td>2</td>\n",
       "      <td>British Championship</td>\n",
       "      <td>Belfast</td>\n",
       "      <td>Northern Ireland</td>\n",
       "      <td>False</td>\n",
       "    </tr>\n",
       "  </tbody>\n",
       "</table>\n",
       "</div>"
      ],
      "text/plain": [
       "         date         home_team    away_team  home_score  away_score  \\\n",
       "0  1951-02-06            France   Yugoslavia           2           1   \n",
       "1  1951-02-18             Spain  Switzerland           6           3   \n",
       "2  1951-02-24          Zimbabwe       Zambia           2           1   \n",
       "3  1951-02-25        Costa Rica    Nicaragua           8           1   \n",
       "4  1951-02-27            Panama   Costa Rica           2           0   \n",
       "5  1951-02-28            Panama    Nicaragua           4           0   \n",
       "6  1951-03-02            Panama   Costa Rica           1           1   \n",
       "7  1951-03-03         Nicaragua   Costa Rica           1           4   \n",
       "8  1951-03-04            Panama    Nicaragua           6           2   \n",
       "9  1951-03-07  Northern Ireland        Wales           1           2   \n",
       "\n",
       "             tournament         city            country  neutral  \n",
       "0              Friendly        Paris             France    False  \n",
       "1              Friendly       Madrid              Spain    False  \n",
       "2              Friendly    Salisbury  Southern Rhodesia    False  \n",
       "3     CCCF Championship  Panama City             Panama     True  \n",
       "4     CCCF Championship  Panama City             Panama    False  \n",
       "5     CCCF Championship  Panama City             Panama    False  \n",
       "6     CCCF Championship  Panama City             Panama    False  \n",
       "7     CCCF Championship  Panama City             Panama     True  \n",
       "8     CCCF Championship  Panama City             Panama    False  \n",
       "9  British Championship      Belfast   Northern Ireland    False  "
      ]
     },
     "execution_count": 2,
     "metadata": {},
     "output_type": "execute_result"
    }
   ],
   "source": [
    "import os\n",
    "import pandas as pd\n",
    "\n",
    "def merge_datasets(path=os.getcwd()):\n",
    "    # create a list to hold the data from each file\n",
    "    all_data = []\n",
    "\n",
    "    # iteratively loop over all the directories\n",
    "    for root, dirs, files in os.walk(path):\n",
    "        # if directory has files\n",
    "        if files:\n",
    "            # for each file\n",
    "            for file in files:\n",
    "                # if file is a csv\n",
    "                if(file.lower().endswith('.csv')):\n",
    "                    # read the csv and create a dataframe using Pandas, and append it to our list\n",
    "                    all_data.append(pd.read_csv(root + '/' + file, index_col = None))          \n",
    "    # merge the dataframes into a single dataframe\n",
    "    merge_data = pd.concat(all_data[1:], sort=False)\n",
    "    \n",
    "    # create a new subdirectory of path if it doesn't exist\n",
    "    if not os.path.exists(path + '/final'):\n",
    "        os.mkdir(path + '/final')\n",
    "    # navigate to the directory\n",
    "    os.chdir(path + '/final')\n",
    "    # save a new csv with merge_data\n",
    "    merge_data.to_csv('final_data.csv', index = None, header = True)\n",
    "\n",
    "merge_datasets('/workspace/python/python_course/lessons/os/matches_dataset')\n",
    "data = pd.read_csv('final_data.csv', index_col = None)\n",
    "data.head(10)"
   ]
  }
 ],
 "metadata": {
  "kernelspec": {
   "display_name": "Python 3",
   "language": "python",
   "name": "python3"
  },
  "language_info": {
   "codemirror_mode": {
    "name": "ipython",
    "version": 3
   },
   "file_extension": ".py",
   "mimetype": "text/x-python",
   "name": "python",
   "nbconvert_exporter": "python",
   "pygments_lexer": "ipython3",
   "version": "3.7.4"
  }
 },
 "nbformat": 4,
 "nbformat_minor": 4
}
