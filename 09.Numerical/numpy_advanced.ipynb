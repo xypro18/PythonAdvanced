{
 "cells": [
  {
   "cell_type": "markdown",
   "metadata": {},
   "source": [
    "# Advanced numpy functions\n",
    "\n",
    "## `vectorize` – Make a scalar function work on vectors\n",
    "\n",
    "With the help of `numpy.vectorize` you can make a function that is meant to work on individual numbers, to work on arrays."
   ]
  },
  {
   "cell_type": "code",
   "execution_count": null,
   "metadata": {},
   "outputs": [],
   "source": [
    "import numpy as np\n",
    "\n",
    "# Define a scalar function\n",
    "def foo(x):\n",
    "    if x % 2 == 1:\n",
    "        return x**2\n",
    "    else:\n",
    "        return x/2\n",
    "\n",
    "# On a scalar\n",
    "print('x = 10 returns ', foo(10))\n",
    "print('x = 11 returns ', foo(11))\n",
    "\n",
    "# On a vector, doesn't work\n",
    "print('x = [10, 11, 12] returns ', foo([10, 11, 12]))  # Error"
   ]
  },
  {
   "cell_type": "markdown",
   "metadata": {},
   "source": [
    "Let’s vectorize `foo()` so that it will work on arrays.\n",
    "\n",
    "`numpy.vectorize` also accepts an optional `otypes` parameter where you provide what the datatype of the output should be. It makes the vectorized function run faster."
   ]
  },
  {
   "cell_type": "code",
   "execution_count": null,
   "metadata": {},
   "outputs": [],
   "source": [
    "foo_v = np.vectorize(foo, otypes=[float])\n",
    "\n",
    "print('x = [10, 11, 12] returns ', foo_v([10, 11, 12]))\n",
    "print('x = [[10, 11, 12], [1, 2, 3]] returns ', foo_v([[10, 11, 12], [1, 2, 3]]))"
   ]
  },
  {
   "cell_type": "markdown",
   "metadata": {},
   "source": [
    "## `apply_along_axis` – Apply a function column wise or row wise\n",
    "\n",
    "Let's first create a 2D array to show this."
   ]
  },
  {
   "cell_type": "code",
   "execution_count": 4,
   "metadata": {},
   "outputs": [
    {
     "data": {
      "text/plain": [
       "array([[9, 9, 4, 8, 8, 1, 5, 3, 6, 3],\n",
       "       [3, 3, 2, 1, 9, 5, 1, 7, 3, 5],\n",
       "       [2, 6, 4, 5, 5, 4, 8, 2, 2, 8],\n",
       "       [8, 1, 3, 4, 3, 6, 9, 2, 1, 8]])"
      ]
     },
     "execution_count": 4,
     "metadata": {},
     "output_type": "execute_result"
    }
   ],
   "source": [
    "# Create a 4x10 random array\n",
    "np.random.seed(100)\n",
    "arr_x = np.random.randint(1,10,size=[4,10])\n",
    "arr_x"
   ]
  },
  {
   "cell_type": "markdown",
   "metadata": {},
   "source": [
    "Let’s understand this by solving the following question:\n",
    "\n",
    "> *How to find the difference of the maximum and the minimum value in each row?*\n",
    "\n",
    "Well, the normal approach would be to write a for-loop that iterates along each row and then compute the max-min in each iteration.\n",
    "\n",
    "That sounds good, but it can get cumbersome if you want to do the same column wise or want to implement a more complex computation. Besides, it can consume more keystrokes.\n",
    "\n",
    "You can do this elegantly using the `numpy.apply_along_axis`.\n",
    "\n",
    "It takes as arguments:\n",
    "\n",
    "* Function that works on a 1D vector (fund1d)\n",
    "* Axis along which to apply func1d. For a 2D array, 1 is row wise and 0 is column wise.\n",
    "* Array on which func1d should be applied.\n",
    "\n",
    "Let’s implement this."
   ]
  },
  {
   "cell_type": "code",
   "execution_count": 5,
   "metadata": {},
   "outputs": [
    {
     "name": "stdout",
     "output_type": "stream",
     "text": [
      "Row wise:  [8 8 6 8]\n",
      "Column wise:  [7 8 2 7 6 5 8 5 5 5]\n"
     ]
    }
   ],
   "source": [
    "# Define func1d\n",
    "def max_minus_min(x):\n",
    "    return np.max(x) - np.min(x)\n",
    "\n",
    "# Apply along the rows\n",
    "print('Row wise: ', np.apply_along_axis(max_minus_min, 1, arr=arr_x))\n",
    "\n",
    "# Apply along the columns\n",
    "print('Column wise: ', np.apply_along_axis(max_minus_min, 0, arr=arr_x))"
   ]
  },
  {
   "cell_type": "markdown",
   "metadata": {},
   "source": [
    "## `searchsorted` – Find the location to insert so the array will remain sorted\n",
    "\n",
    "what does `numpy.searchsorted` do?\n",
    "\n",
    "It gives the index position at which a number should be inserted in order to keep the array sorted."
   ]
  },
  {
   "cell_type": "code",
   "execution_count": 7,
   "metadata": {},
   "outputs": [
    {
     "data": {
      "text/plain": [
       "array([0, 1, 2, 3, 4, 5, 6, 7, 8, 9])"
      ]
     },
     "execution_count": 7,
     "metadata": {},
     "output_type": "execute_result"
    }
   ],
   "source": [
    "x"
   ]
  },
  {
   "cell_type": "code",
   "execution_count": 6,
   "metadata": {},
   "outputs": [
    {
     "name": "stdout",
     "output_type": "stream",
     "text": [
      "Where should 5 be inserted?:  5\n",
      "Where should 5 be inserted (right)?:  6\n"
     ]
    }
   ],
   "source": [
    "# example of searchsorted\n",
    "x = np.arange(10)\n",
    "print('Where should 5 be inserted?: ', np.searchsorted(x, 5))\n",
    "print('Where should 5 be inserted (right)?: ', np.searchsorted(x, 5, side='right'))"
   ]
  },
  {
   "cell_type": "markdown",
   "metadata": {},
   "source": [
    "## `newaxis` - How to add a new axis to a numpy array?\n",
    "\n",
    "Sometimes you might want to convert a 1D array into a 2D array (like a spreadsheet) without adding any additional data.\n",
    "\n",
    "You might need this in order a 1D array as a single column in a csv file, or you might want to concatenate it with another array of similar shape.\n",
    "\n",
    "Whatever the reason be, you can do this by inserting a new axis using the `numpy.newaxis`.\n",
    "\n",
    "Actually, using this you can raise an array of a lower dimension to a higher dimension."
   ]
  },
  {
   "cell_type": "code",
   "execution_count": 8,
   "metadata": {},
   "outputs": [
    {
     "name": "stdout",
     "output_type": "stream",
     "text": [
      "Original array:  [0 1 2 3 4]\n",
      "\n",
      "x_col shape:  (5, 1)\n",
      "[[0]\n",
      " [1]\n",
      " [2]\n",
      " [3]\n",
      " [4]]\n",
      "\n",
      "x_row shape:  (1, 5)\n",
      "[[0 1 2 3 4]]\n"
     ]
    }
   ],
   "source": [
    "# Create a 1D array\n",
    "x = np.arange(5)\n",
    "print('Original array: ', x)\n",
    "print()\n",
    "\n",
    "# Introduce a new column axis\n",
    "x_col = x[:, np.newaxis]\n",
    "print('x_col shape: ', x_col.shape)\n",
    "print(x_col)\n",
    "print()\n",
    "\n",
    "# Introduce a new row axis\n",
    "x_row = x[np.newaxis, :]\n",
    "print('x_row shape: ', x_row.shape)\n",
    "print(x_row)"
   ]
  },
  {
   "cell_type": "markdown",
   "metadata": {},
   "source": [
    "## Other useful functions\n",
    "\n",
    "### Digitize\n",
    "\n",
    "Use `numpy.digitize` to return the index position of the bin each element belongs to."
   ]
  },
  {
   "cell_type": "code",
   "execution_count": 13,
   "metadata": {},
   "outputs": [
    {
     "name": "stdout",
     "output_type": "stream",
     "text": [
      "[0 1 2 3 4 5 6 7 8 9]\n",
      "\n"
     ]
    },
    {
     "data": {
      "text/plain": [
       "array([1, 1, 1, 2, 2, 2, 3, 3, 3, 4])"
      ]
     },
     "execution_count": 13,
     "metadata": {},
     "output_type": "execute_result"
    }
   ],
   "source": [
    "# Create the array and bins\n",
    "x = np.arange(10)\n",
    "bins = np.array([0, 3, 6, 9])\n",
    "print(x)\n",
    "print()\n",
    "\n",
    "# Get bin allotments\n",
    "np.digitize(x, bins)"
   ]
  },
  {
   "cell_type": "markdown",
   "metadata": {},
   "source": [
    "### Clip\n",
    "\n",
    "Use `numpy.clip` to cap the numbers within a given cutoff range. All number lesser than the lower limit will be replaced by the lower limit. \n",
    "\n",
    "Same applies to the upper limit also."
   ]
  },
  {
   "cell_type": "code",
   "execution_count": 14,
   "metadata": {},
   "outputs": [
    {
     "data": {
      "text/plain": [
       "array([3, 3, 3, 3, 4, 5, 6, 7, 8, 8])"
      ]
     },
     "execution_count": 14,
     "metadata": {},
     "output_type": "execute_result"
    }
   ],
   "source": [
    "# Cap all elements of x to lie between 3 and 8\n",
    "np.clip(x, 3, 8)"
   ]
  },
  {
   "cell_type": "markdown",
   "metadata": {},
   "source": [
    "### Histogram and Bincount\n",
    "\n",
    "Both `numpy.histogram` and `numpy.bincount` gives the frequency of occurences. But with certain differences.\n",
    "\n",
    "While `numpy.histogram` gives the frequency counts of the bins, `numpy.bincount` gives the frequency count of all the elements in the range of the array between the min and max values, including the values that did not occur."
   ]
  },
  {
   "cell_type": "code",
   "execution_count": 15,
   "metadata": {},
   "outputs": [
    {
     "name": "stdout",
     "output_type": "stream",
     "text": [
      "[0 2 3 0 2 1 3]\n",
      "\n",
      "Counts:  [2 3 3 3]\n",
      "Bins:  [0 2 4 6 8]\n"
     ]
    }
   ],
   "source": [
    "# Bincount example\n",
    "x = np.array([1,1,2,2,2,4,4,5,6,6,6]) # doesn't need to be sorted\n",
    "print(np.bincount(x)) # 0 occurs 0 times, 1 occurs 2 times, 2 occurs 3 times, 3 occurs 0 times, ...\n",
    "print()\n",
    "\n",
    "# Histogram example\n",
    "counts, bins = np.histogram(x, [0, 2, 4, 6, 8])\n",
    "print('Counts: ', counts)\n",
    "print('Bins: ', bins)"
   ]
  }
 ],
 "metadata": {
  "kernelspec": {
   "display_name": "Python 3",
   "language": "python",
   "name": "python3"
  },
  "language_info": {
   "codemirror_mode": {
    "name": "ipython",
    "version": 3
   },
   "file_extension": ".py",
   "mimetype": "text/x-python",
   "name": "python",
   "nbconvert_exporter": "python",
   "pygments_lexer": "ipython3",
   "version": "3.7.4"
  }
 },
 "nbformat": 4,
 "nbformat_minor": 4
}
