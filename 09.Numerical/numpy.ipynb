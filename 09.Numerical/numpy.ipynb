{
 "cells": [
  {
   "cell_type": "markdown",
   "metadata": {},
   "source": [
    "## numpy (Numerical Python)\n",
    "\n",
    "<p><a href=\"http://www.numpy.org/\" target=\"_blank\">Numpy</a> is the core library for scientific computing in Python.\n",
    "It provides a high-performance multidimensional array object, and tools for working with these\n",
    "arrays. If you are already familiar with MATLAB, you might find\n",
    "<a href=\"https://docs.scipy.org/doc/numpy/user/numpy-for-matlab-users.html\" target=\"_blank\">this tutorial useful</a> to get started with Numpy.</p>\n",
    "\n",
    "If you are going to work on data analysis or machine learning projects, then having a solid understanding of numpy is nearly mandatory, because other packages for data analysis (like pandas) are built on top of numpy, and the scikit-learn package which is used to build machine learning applications works heavily with numpy as well.\n",
    "\n",
    "So what does numpy provide?\n",
    "\n",
    "At the core, numpy provides the excellent ndarray objects, short for n-dimensional arrays.\n",
    "\n",
    "In a ‘ndarray’ object, aka ‘array’, you can store multiple items of the same data type. It is the facilities around the array object that makes numpy so convenient for performing math and data manipulations."
   ]
  },
  {
   "cell_type": "markdown",
   "metadata": {},
   "source": [
    "## How to create a numpy array?\n",
    "\n",
    "There are multiple ways to create a numpy array, most of which will be covered as you read this. However one of the most common ways is to create one from a list or a list like an object by passing it to the `np.array` function."
   ]
  },
  {
   "cell_type": "code",
   "execution_count": 69,
   "metadata": {},
   "outputs": [
    {
     "name": "stdout",
     "output_type": "stream",
     "text": [
      "<class 'numpy.ndarray'>\n"
     ]
    },
    {
     "data": {
      "text/plain": [
       "array([0, 1, 2, 3, 4])"
      ]
     },
     "execution_count": 69,
     "metadata": {},
     "output_type": "execute_result"
    }
   ],
   "source": [
    "import numpy as np\n",
    "\n",
    "# Create an 1 dimension array from a list\n",
    "list1 = [0,1,2,3,4]\n",
    "arr1d = np.array(list1)\n",
    "\n",
    "# Print the array and its type\n",
    "print(type(arr1d))\n",
    "arr1d"
   ]
  },
  {
   "cell_type": "markdown",
   "metadata": {},
   "source": [
    "The key difference between an array and a list is, arrays are designed to handle vectorized operations while a python list is not.\n",
    "\n",
    "That means, if you apply a function it is performed on every item in the array, rather than on the whole array object.\n",
    "\n",
    "Let’s suppose you want to add the number 2 to every item in the list. The intuitive way to do it is something like this:\n",
    "\n",
    "`list1 + 2  #error`\n",
    "\n",
    "That was not possible with a list. But you can do that on a ndarray."
   ]
  },
  {
   "cell_type": "code",
   "execution_count": 70,
   "metadata": {},
   "outputs": [
    {
     "data": {
      "text/plain": [
       "array([2, 3, 4, 5, 6])"
      ]
     },
     "execution_count": 70,
     "metadata": {},
     "output_type": "execute_result"
    }
   ],
   "source": [
    "# Add 2 to each element of arr1d\n",
    "arr1d = arr1d + 2\n",
    "\n",
    "arr1d"
   ]
  },
  {
   "cell_type": "markdown",
   "metadata": {},
   "source": [
    "Another characteristic is that, **once a numpy array is created, you cannot increase its size**. To do so, you will have to create a new array. But such a behavior of extending the size is natural in a list. Nevertheless, there are so many more advantages.\n",
    "\n",
    "So, that’s about 1d array. You can also pass a list of lists to create a matrix like a 2d array."
   ]
  },
  {
   "cell_type": "code",
   "execution_count": 71,
   "metadata": {},
   "outputs": [
    {
     "data": {
      "text/plain": [
       "array([[0, 1, 2],\n",
       "       [3, 4, 5],\n",
       "       [6, 7, 8]])"
      ]
     },
     "execution_count": 71,
     "metadata": {},
     "output_type": "execute_result"
    }
   ],
   "source": [
    "# Create a 2d array from a list of lists\n",
    "list2 = [[0,1,2], [3,4,5], [6,7,8]]\n",
    "arr2d = np.array(list2)\n",
    "arr2d"
   ]
  },
  {
   "cell_type": "markdown",
   "metadata": {},
   "source": [
    "You may also specify the datatype by setting the `dtype` argument. Some of the most commonly used numpy dtypes are: `float`, `int`, `bool`, `str` and `object`."
   ]
  },
  {
   "cell_type": "code",
   "execution_count": 72,
   "metadata": {},
   "outputs": [
    {
     "data": {
      "text/plain": [
       "array([[0., 1., 2.],\n",
       "       [3., 4., 5.],\n",
       "       [6., 7., 8.]])"
      ]
     },
     "execution_count": 72,
     "metadata": {},
     "output_type": "execute_result"
    }
   ],
   "source": [
    "# Create a float 2d array\n",
    "arr2d_f = np.array(list2, dtype='float')\n",
    "arr2d_f"
   ]
  },
  {
   "cell_type": "markdown",
   "metadata": {},
   "source": [
    "The decimal point after each number is indicative of the `float` datatype. You can also convert it to a different datatype using the `astype` method."
   ]
  },
  {
   "cell_type": "code",
   "execution_count": 77,
   "metadata": {},
   "outputs": [
    {
     "data": {
      "text/plain": [
       "array([[0., 1., 2.],\n",
       "       [3., 4., 5.],\n",
       "       [6., 7., 8.]])"
      ]
     },
     "execution_count": 77,
     "metadata": {},
     "output_type": "execute_result"
    }
   ],
   "source": [
    "# Convert to 'int' datatype\n",
    "arr2d_f.astype('int')"
   ]
  },
  {
   "cell_type": "code",
   "execution_count": 79,
   "metadata": {},
   "outputs": [
    {
     "data": {
      "text/plain": [
       "array([['0.0', '1.0', '2.0'],\n",
       "       ['3.0', '4.0', '5.0'],\n",
       "       ['6.0', '7.0', '8.0']], dtype='<U32')"
      ]
     },
     "execution_count": 79,
     "metadata": {},
     "output_type": "execute_result"
    }
   ],
   "source": [
    "# Convert to int then to str datatype\n",
    "arr2d_f.astype('float').astype('str')"
   ]
  },
  {
   "cell_type": "markdown",
   "metadata": {},
   "source": [
    "A numpy array **must have all items to be of the same data type**, unlike lists. This is another significant difference.\n",
    "\n",
    "However, if you are uncertain about what datatype your array will hold or if you want to hold characters and numbers in the same array, you can set the dtype as `object`."
   ]
  },
  {
   "cell_type": "code",
   "execution_count": 75,
   "metadata": {},
   "outputs": [
    {
     "data": {
      "text/plain": [
       "array([1, 'a'], dtype=object)"
      ]
     },
     "execution_count": 75,
     "metadata": {},
     "output_type": "execute_result"
    }
   ],
   "source": [
    "# Create an object array to hold numbers as well as strings\n",
    "arr1d_obj = np.array([1, 'a'], dtype='object')\n",
    "arr1d_obj"
   ]
  },
  {
   "cell_type": "markdown",
   "metadata": {},
   "source": [
    "Finally, you can always convert an array back to a python list using `tolist()`."
   ]
  },
  {
   "cell_type": "code",
   "execution_count": 76,
   "metadata": {},
   "outputs": [
    {
     "data": {
      "text/plain": [
       "[1, 'a']"
      ]
     },
     "execution_count": 76,
     "metadata": {},
     "output_type": "execute_result"
    }
   ],
   "source": [
    "# Convert an array back to a list\n",
    "arr1d_obj.tolist()"
   ]
  },
  {
   "cell_type": "markdown",
   "metadata": {},
   "source": [
    "## How to inspect the size and shape of a numpy array?\n",
    "\n",
    "Let’s suppose you were handed a numpy vector that you didn’t create yourself. What are the things you would want to explore in order to know about that array?\n",
    "\n",
    "* If it is a 1D or a 2D array or more. (`ndim`)\n",
    "\n",
    "* How many items are present in each dimension (`shape`)\n",
    "\n",
    "* What is its datatype (`dtype`)\n",
    "\n",
    "* What is the total number of items in it (`size`)"
   ]
  },
  {
   "cell_type": "code",
   "execution_count": 80,
   "metadata": {},
   "outputs": [
    {
     "data": {
      "text/plain": [
       "array([[1., 2., 3., 4.],\n",
       "       [3., 4., 5., 6.],\n",
       "       [5., 6., 7., 8.]])"
      ]
     },
     "execution_count": 80,
     "metadata": {},
     "output_type": "execute_result"
    }
   ],
   "source": [
    "# Create a 2d array with 3 rows and 4 columns\n",
    "list2 = [[1, 2, 3, 4],[3, 4, 5, 6], [5, 6, 7, 8]]\n",
    "arr2 = np.array(list2, dtype='float')\n",
    "arr2"
   ]
  },
  {
   "cell_type": "code",
   "execution_count": 81,
   "metadata": {},
   "outputs": [
    {
     "name": "stdout",
     "output_type": "stream",
     "text": [
      "Shape:  (3, 4)\n",
      "Datatype:  float64\n",
      "Size:  12\n",
      "Num Dimensions:  2\n"
     ]
    }
   ],
   "source": [
    "# shape\n",
    "print('Shape: ', arr2.shape)\n",
    "\n",
    "# dtype\n",
    "print('Datatype: ', arr2.dtype)\n",
    "\n",
    "# size\n",
    "print('Size: ', arr2.size)\n",
    "\n",
    "# ndim\n",
    "print('Num Dimensions: ', arr2.ndim)"
   ]
  },
  {
   "cell_type": "markdown",
   "metadata": {},
   "source": [
    "## How to extract specific items from an array?\n",
    "\n",
    "You can extract specific portions on an array using indexing starting with 0, something similar to how you would do with python lists.\n",
    "\n",
    "But unlike lists, numpy arrays can optionally accept as many parameters in the square brackets as there is number of dimensions."
   ]
  },
  {
   "cell_type": "code",
   "execution_count": 82,
   "metadata": {},
   "outputs": [
    {
     "data": {
      "text/plain": [
       "array([[1., 2., 3., 4.],\n",
       "       [3., 4., 5., 6.],\n",
       "       [5., 6., 7., 8.]])"
      ]
     },
     "execution_count": 82,
     "metadata": {},
     "output_type": "execute_result"
    }
   ],
   "source": [
    "arr2"
   ]
  },
  {
   "cell_type": "code",
   "execution_count": 84,
   "metadata": {},
   "outputs": [
    {
     "data": {
      "text/plain": [
       "array([[1., 2.],\n",
       "       [3., 4.]])"
      ]
     },
     "execution_count": 84,
     "metadata": {},
     "output_type": "execute_result"
    }
   ],
   "source": [
    "# Extract the first 2 rows and columns\n",
    "arr2[:2, :2]"
   ]
  },
  {
   "cell_type": "markdown",
   "metadata": {},
   "source": [
    "Additionally, numpy arrays support boolean indexing.\n",
    "\n",
    "A boolean index array is of the same shape as the array-to-be-filtered and it contains only True and False values. The values corresponding to True positions are retained in the output."
   ]
  },
  {
   "cell_type": "code",
   "execution_count": 85,
   "metadata": {},
   "outputs": [
    {
     "data": {
      "text/plain": [
       "array([[False, False, False, False],\n",
       "       [False, False,  True,  True],\n",
       "       [ True,  True,  True,  True]])"
      ]
     },
     "execution_count": 85,
     "metadata": {},
     "output_type": "execute_result"
    }
   ],
   "source": [
    "# Get the boolean output by applying the condition to each element.\n",
    "b = arr2 > 4\n",
    "b"
   ]
  },
  {
   "cell_type": "code",
   "execution_count": 86,
   "metadata": {},
   "outputs": [
    {
     "data": {
      "text/plain": [
       "array([5., 6., 5., 6., 7., 8.])"
      ]
     },
     "execution_count": 86,
     "metadata": {},
     "output_type": "execute_result"
    }
   ],
   "source": [
    "arr2[b]"
   ]
  },
  {
   "cell_type": "markdown",
   "metadata": {},
   "source": [
    "## How to reverse the rows and the whole array?\n",
    "\n",
    "Reversing an array works like how you would do with lists, but you need to do for all the axes (dimensions) if you want a complete reversal."
   ]
  },
  {
   "cell_type": "code",
   "execution_count": 89,
   "metadata": {},
   "outputs": [
    {
     "data": {
      "text/plain": [
       "array([[1., 2., 3., 4.],\n",
       "       [3., 4., 5., 6.],\n",
       "       [5., 6., 7., 8.]])"
      ]
     },
     "execution_count": 89,
     "metadata": {},
     "output_type": "execute_result"
    }
   ],
   "source": [
    "arr2"
   ]
  },
  {
   "cell_type": "code",
   "execution_count": 87,
   "metadata": {},
   "outputs": [
    {
     "data": {
      "text/plain": [
       "array([[5., 6., 7., 8.],\n",
       "       [3., 4., 5., 6.],\n",
       "       [1., 2., 3., 4.]])"
      ]
     },
     "execution_count": 87,
     "metadata": {},
     "output_type": "execute_result"
    }
   ],
   "source": [
    "# Reverse only the row positions\n",
    "arr2[::-1, ]"
   ]
  },
  {
   "cell_type": "code",
   "execution_count": 88,
   "metadata": {},
   "outputs": [
    {
     "data": {
      "text/plain": [
       "array([[8., 7., 6., 5.],\n",
       "       [6., 5., 4., 3.],\n",
       "       [4., 3., 2., 1.]])"
      ]
     },
     "execution_count": 88,
     "metadata": {},
     "output_type": "execute_result"
    }
   ],
   "source": [
    "# Reverse the row and column positions\n",
    "arr2[::-1, ::-1]"
   ]
  },
  {
   "cell_type": "markdown",
   "metadata": {},
   "source": [
    "## How to represent missing values and infinite?\n",
    "\n",
    "Missing values can be represented using `np.nan` object, while `np.inf` represents infinite. Let’s place some in `arr2`."
   ]
  },
  {
   "cell_type": "code",
   "execution_count": 90,
   "metadata": {},
   "outputs": [
    {
     "data": {
      "text/plain": [
       "array([[ 1.,  2.,  3.,  4.],\n",
       "       [ 3., nan, inf,  6.],\n",
       "       [ 5.,  6.,  7.,  8.]])"
      ]
     },
     "execution_count": 90,
     "metadata": {},
     "output_type": "execute_result"
    }
   ],
   "source": [
    "# Insert a nan and an inf\n",
    "arr2[1,1] = np.nan  # not a number\n",
    "arr2[1,2] = np.inf  # infinite\n",
    "arr2"
   ]
  },
  {
   "cell_type": "code",
   "execution_count": 92,
   "metadata": {},
   "outputs": [
    {
     "data": {
      "text/plain": [
       "array([[ 1.,  2.,  3.,  4.],\n",
       "       [ 3., -1., -1.,  6.],\n",
       "       [ 5.,  6.,  7.,  8.]])"
      ]
     },
     "execution_count": 92,
     "metadata": {},
     "output_type": "execute_result"
    }
   ],
   "source": [
    "# Replace nan and inf with -1. Don't use arr2 == np.nan\n",
    "missing_bool = np.isnan(arr2) | np.isinf(arr2)\n",
    "arr2[missing_bool] = -1  \n",
    "arr2"
   ]
  },
  {
   "cell_type": "markdown",
   "metadata": {},
   "source": [
    "## How to compute mean, min, max on the ndarray?"
   ]
  },
  {
   "cell_type": "code",
   "execution_count": 93,
   "metadata": {},
   "outputs": [
    {
     "name": "stdout",
     "output_type": "stream",
     "text": [
      "Mean value is:  3.5833333333333335\n",
      "Max value is:  8.0\n",
      "Min value is:  -1.0\n"
     ]
    }
   ],
   "source": [
    "# mean, max and min\n",
    "print(\"Mean value is: \", arr2.mean())\n",
    "print(\"Max value is: \", arr2.max())\n",
    "print(\"Min value is: \", arr2.min())"
   ]
  },
  {
   "cell_type": "markdown",
   "metadata": {},
   "source": [
    "However, if you want to compute the minimum values row wise or column wise, use the `np.mean`, `np.amax` and the `np.amin` version instead."
   ]
  },
  {
   "cell_type": "code",
   "execution_count": 95,
   "metadata": {},
   "outputs": [
    {
     "data": {
      "text/plain": [
       "array([[ 1.,  2.,  3.,  4.],\n",
       "       [ 3., -1., -1.,  6.],\n",
       "       [ 5.,  6.,  7.,  8.]])"
      ]
     },
     "execution_count": 95,
     "metadata": {},
     "output_type": "execute_result"
    }
   ],
   "source": [
    "arr2"
   ]
  },
  {
   "cell_type": "code",
   "execution_count": 94,
   "metadata": {},
   "outputs": [
    {
     "name": "stdout",
     "output_type": "stream",
     "text": [
      "Column wise mean:  [3.   2.33 3.   6.  ]\n",
      "Row wise mean:  [2.5  1.75 6.5 ]\n",
      "\n",
      "Column wise maximum:  [5. 6. 7. 8.]\n",
      "Row wise maximum:  [4. 6. 8.]\n",
      "\n",
      "Column wise minimum:  [ 1. -1. -1.  4.]\n",
      "Row wise minimum:  [ 1. -1.  5.]\n"
     ]
    }
   ],
   "source": [
    "# Row wise and column wise mean\n",
    "print(\"Column wise mean: \", np.mean(arr2, axis=0))\n",
    "print(\"Row wise mean: \", np.mean(arr2, axis=1))\n",
    "print()\n",
    "\n",
    "# Row wise and column wise max\n",
    "print(\"Column wise maximum: \", np.amax(arr2, axis=0))\n",
    "print(\"Row wise maximum: \", np.amax(arr2, axis=1))\n",
    "print()\n",
    "\n",
    "# Row wise and column wise min\n",
    "print(\"Column wise minimum: \", np.amin(arr2, axis=0))\n",
    "print(\"Row wise minimum: \", np.amin(arr2, axis=1))"
   ]
  },
  {
   "cell_type": "code",
   "execution_count": 96,
   "metadata": {},
   "outputs": [
    {
     "data": {
      "text/plain": [
       "array([ 1.,  3.,  6., 10., 13., 12., 11., 17., 22., 28., 35., 43.])"
      ]
     },
     "execution_count": 96,
     "metadata": {},
     "output_type": "execute_result"
    }
   ],
   "source": [
    "# Cumulative Sum\n",
    "np.cumsum(arr2)"
   ]
  },
  {
   "cell_type": "markdown",
   "metadata": {},
   "source": [
    "## How to create a new array from an existing array?\n",
    "\n",
    "If you just assign a portion of an array to another array, the new array you just created actually refers to the parent array in memory.\n",
    "\n",
    "That means, if you make any changes to the new array, it will reflect in the parent array as well.\n",
    "\n",
    "So to avoid disturbing the parent array, you need to make a copy of it using `copy()`."
   ]
  },
  {
   "cell_type": "code",
   "execution_count": 97,
   "metadata": {},
   "outputs": [
    {
     "data": {
      "text/plain": [
       "array([[100.,   2.,   3.,   4.],\n",
       "       [  3.,  -1.,  -1.,   6.],\n",
       "       [  5.,   6.,   7.,   8.]])"
      ]
     },
     "execution_count": 97,
     "metadata": {},
     "output_type": "execute_result"
    }
   ],
   "source": [
    "# Assign portion of arr2 to arr2a. Doesn't really create a new array.\n",
    "arr2a = arr2[:2,:2]  \n",
    "arr2a[:1, :1] = 100  # 100 will reflect in arr2\n",
    "arr2"
   ]
  },
  {
   "cell_type": "code",
   "execution_count": 98,
   "metadata": {},
   "outputs": [
    {
     "name": "stdout",
     "output_type": "stream",
     "text": [
      "[[100.   2.   3.   4.]\n",
      " [  3.  -1.  -1.   6.]\n",
      " [  5.   6.   7.   8.]]\n",
      "\n",
      "[[101.   2.]\n",
      " [  3.  -1.]]\n"
     ]
    }
   ],
   "source": [
    "# Copy portion of arr2 to arr2b\n",
    "arr2b = arr2[:2, :2].copy()\n",
    "arr2b[:1, :1] = 101  # 101 will not reflect in arr2\n",
    "print(arr2)\n",
    "print()\n",
    "print(arr2b)"
   ]
  },
  {
   "cell_type": "markdown",
   "metadata": {},
   "source": [
    "## Reshaping and Flattening Multidimensional arrays\n",
    "\n",
    "Reshaping is changing the arrangement of items so that shape of the array changes while maintaining the same number of dimensions.\n",
    "\n",
    "Flattening, however, will convert a multi-dimensional array to a flat 1d array. And not any other shape.\n",
    "\n",
    "First, let’s reshape the `arr2` array from 3×4 to 4×3 shape."
   ]
  },
  {
   "cell_type": "code",
   "execution_count": 105,
   "metadata": {},
   "outputs": [
    {
     "data": {
      "text/plain": [
       "array([[100.,   2.,   3.],\n",
       "       [  4.,   3.,  -1.],\n",
       "       [ -1.,   6.,   5.],\n",
       "       [  6.,   7.,   8.]])"
      ]
     },
     "execution_count": 105,
     "metadata": {},
     "output_type": "execute_result"
    }
   ],
   "source": [
    "# Reshape a 3x4 array to 4x3 array\n",
    "arr2.reshape(4, 3)"
   ]
  },
  {
   "cell_type": "markdown",
   "metadata": {},
   "source": [
    "### What is the difference between `flatten()` and `ravel()`?\n",
    "\n",
    "There are 2 popular ways to implement flattening. That is using the `flatten()` method and the other using the `ravel()` method.\n",
    "\n",
    "The difference between ravel and flatten is that the new array created using ravel is actually a reference to the parent array. So, any changes to the new array will affect the parent as well. But is memory efficient since it does not create a copy."
   ]
  },
  {
   "cell_type": "code",
   "execution_count": 106,
   "metadata": {},
   "outputs": [
    {
     "data": {
      "text/plain": [
       "array([100.,   2.,   3.,   4.,   3.,  -1.,  -1.,   6.,   5.,   6.,   7.,\n",
       "         8.])"
      ]
     },
     "execution_count": 106,
     "metadata": {},
     "output_type": "execute_result"
    }
   ],
   "source": [
    "# Flatten it to a 1d array\n",
    "arr2.flatten()"
   ]
  },
  {
   "cell_type": "code",
   "execution_count": 107,
   "metadata": {},
   "outputs": [
    {
     "data": {
      "text/plain": [
       "array([[100.,   2.,   3.,   4.],\n",
       "       [  3.,  -1.,  -1.,   6.],\n",
       "       [  5.,   6.,   7.,   8.]])"
      ]
     },
     "execution_count": 107,
     "metadata": {},
     "output_type": "execute_result"
    }
   ],
   "source": [
    "# Changing the flattened array does not change parent\n",
    "b1 = arr2.flatten()  \n",
    "b1[0] = 101  # changing b1 does not affect arr2\n",
    "arr2"
   ]
  },
  {
   "cell_type": "code",
   "execution_count": 108,
   "metadata": {},
   "outputs": [
    {
     "data": {
      "text/plain": [
       "array([[101.,   2.,   3.,   4.],\n",
       "       [  3.,  -1.,  -1.,   6.],\n",
       "       [  5.,   6.,   7.,   8.]])"
      ]
     },
     "execution_count": 108,
     "metadata": {},
     "output_type": "execute_result"
    }
   ],
   "source": [
    "# Changing the raveled array changes the parent also.\n",
    "b2 = arr2.ravel()  \n",
    "b2[0] = 101  # changing b2 changes arr2 also\n",
    "arr2"
   ]
  },
  {
   "cell_type": "markdown",
   "metadata": {},
   "source": [
    "## How to create sequences, repetitions and random numbers using numpy?\n",
    "\n",
    "The `np.arange` function comes handy to create customised number sequences as `ndarray`."
   ]
  },
  {
   "cell_type": "code",
   "execution_count": 109,
   "metadata": {},
   "outputs": [
    {
     "name": "stdout",
     "output_type": "stream",
     "text": [
      "[0 1 2 3 4]\n",
      "\n",
      "[0 1 2 3 4 5 6 7 8 9]\n",
      "\n",
      "[0 2 4 6 8]\n",
      "\n",
      "[10  9  8  7  6  5  4  3  2  1]\n"
     ]
    }
   ],
   "source": [
    "# Index starts at zero\n",
    "print(np.arange(5))  \n",
    "print()\n",
    "\n",
    "# 0 to 9\n",
    "print(np.arange(0, 10))  \n",
    "print()\n",
    "\n",
    "# 0 to 9 with step of 2\n",
    "print(np.arange(0, 10, 2))  \n",
    "print()\n",
    "\n",
    "# 10 to 1, decreasing order\n",
    "print(np.arange(10, 0, -1))"
   ]
  },
  {
   "cell_type": "markdown",
   "metadata": {},
   "source": [
    "You can set the starting and end positions using `np.arange`. But if you're focused on the number of items in the array you will have to manually calculate the appropriate step value.\n",
    "\n",
    "Say, you want to create an array of exactly 10 numbers between 1 and 50: can you compute what would the step value be?\n",
    "\n",
    "Well, you can use the `np.linspace` instead."
   ]
  },
  {
   "cell_type": "code",
   "execution_count": 112,
   "metadata": {},
   "outputs": [
    {
     "data": {
      "text/plain": [
       "array([ 1,  6, 11, 17, 22, 28, 33, 39, 44, 50])"
      ]
     },
     "execution_count": 112,
     "metadata": {},
     "output_type": "execute_result"
    }
   ],
   "source": [
    "# Start at 1 and end at 50\n",
    "np.linspace(start=1, stop=50, num=10, dtype=int)"
   ]
  },
  {
   "cell_type": "markdown",
   "metadata": {},
   "source": [
    "Notice since I explicitly forced the `dtype` to be `int`, the numbers are not equally spaced because of the rounding.\n",
    "\n",
    "Similar to `np.linspace`, there is also `np.logspace` which rises in a logarithmic scale. In `np.logspace`, the given start value is actually base^start and ends with base^stop, with a default based value of 10."
   ]
  },
  {
   "cell_type": "code",
   "execution_count": 113,
   "metadata": {},
   "outputs": [
    {
     "data": {
      "text/plain": [
       "array([1.00e+01, 2.78e+06, 7.74e+11, 2.15e+17, 5.99e+22, 1.67e+28,\n",
       "       4.64e+33, 1.29e+39, 3.59e+44, 1.00e+50])"
      ]
     },
     "execution_count": 113,
     "metadata": {},
     "output_type": "execute_result"
    }
   ],
   "source": [
    "# Limit the number of digits after the decimal to 2\n",
    "np.set_printoptions(precision=2)  \n",
    "\n",
    "# Start at 10^1 and end at 10^50\n",
    "np.logspace(start=1, stop=50, num=10, base=10)"
   ]
  },
  {
   "cell_type": "markdown",
   "metadata": {},
   "source": [
    "The `np.zeros` and `np.ones` functions lets you create arrays of desired shape where all the items are either 0’s or 1’s."
   ]
  },
  {
   "cell_type": "code",
   "execution_count": 114,
   "metadata": {},
   "outputs": [
    {
     "data": {
      "text/plain": [
       "array([[0, 0],\n",
       "       [0, 0]])"
      ]
     },
     "execution_count": 114,
     "metadata": {},
     "output_type": "execute_result"
    }
   ],
   "source": [
    "np.zeros([2,2], dtype=int)"
   ]
  },
  {
   "cell_type": "code",
   "execution_count": 115,
   "metadata": {},
   "outputs": [
    {
     "data": {
      "text/plain": [
       "array([[1, 1],\n",
       "       [1, 1]])"
      ]
     },
     "execution_count": 115,
     "metadata": {},
     "output_type": "execute_result"
    }
   ],
   "source": [
    "np.ones([2,2], dtype=int)"
   ]
  },
  {
   "cell_type": "markdown",
   "metadata": {},
   "source": [
    "### How to create repeating sequences?\n",
    "\n",
    "`np.tile` will repeat a whole list or array `n` times. Whereas `np.repeat` repeats each item n times."
   ]
  },
  {
   "cell_type": "code",
   "execution_count": 118,
   "metadata": {},
   "outputs": [
    {
     "name": "stdout",
     "output_type": "stream",
     "text": [
      "Tile:    [1 2 3 1 2 3]\n",
      "Repeat:  [1 1 2 2 3 3]\n"
     ]
    }
   ],
   "source": [
    "a = [1,2,3] \n",
    "\n",
    "# Repeat whole of 'a' two times\n",
    "print('Tile:   ', np.tile(a, 2))\n",
    "\n",
    "# Repeat each element of 'a' two times\n",
    "print('Repeat: ', np.repeat(a, 2))"
   ]
  },
  {
   "cell_type": "markdown",
   "metadata": {},
   "source": [
    "### How to generate random numbers?\n",
    "\n",
    "The `random` module provides nice functions to generate random numbers (and also statistical distributions) of any given shape."
   ]
  },
  {
   "cell_type": "code",
   "execution_count": 119,
   "metadata": {},
   "outputs": [
    {
     "name": "stdout",
     "output_type": "stream",
     "text": [
      "[[0.48 0.47]\n",
      " [0.47 0.87]]\n",
      "\n",
      "[[ 0.93  1.73]\n",
      " [ 0.51 -0.33]]\n",
      "\n",
      "[[1 8]\n",
      " [1 9]]\n",
      "\n",
      "0.13062548097479965\n",
      "\n",
      "[[0.64 0.73]\n",
      " [0.72 0.85]]\n",
      "\n",
      "['e' 'a' 'i' 'o' 'a' 'e' 'a' 'o' 'o' 'e']\n",
      "\n",
      "['o' 'o' 'a' 'a' 'i' 'e' 'o' 'o' 'o' 'i']\n"
     ]
    }
   ],
   "source": [
    "# Random numbers between [0,1) of shape 2,2\n",
    "print(np.random.rand(2,2))\n",
    "print()\n",
    "\n",
    "# Normal distribution with mean=0 and variance=1 of shape 2,2\n",
    "print(np.random.randn(2,2))\n",
    "print()\n",
    "\n",
    "# Random integers between [0, 10) of shape 2,2\n",
    "print(np.random.randint(0, 10, size=[2,2]))\n",
    "print()\n",
    "\n",
    "# One random number between [0,1)\n",
    "print(np.random.random())\n",
    "print()\n",
    "\n",
    "# Random numbers between [0,1) of shape 2,2\n",
    "print(np.random.random(size=[2,2]))\n",
    "print()\n",
    "\n",
    "# Pick 10 items from a given list, with equal probability\n",
    "print(np.random.choice(['a', 'e', 'i', 'o', 'u'], size=10))  \n",
    "print()\n",
    "\n",
    "# Pick 10 items from a given list with a predefined probability 'p'\n",
    "print(np.random.choice(['a', 'e', 'i', 'o', 'u'], size=10, p=[0.3, .1, 0.1, 0.4, 0.1]))  # picks more o's"
   ]
  },
  {
   "cell_type": "markdown",
   "metadata": {},
   "source": [
    "## How to get the unique items and the counts?\n",
    "\n",
    "The `np.unique` method can be used to get the unique items. If you want the repetition counts of each item, set the `return_counts` parameter to `True`."
   ]
  },
  {
   "cell_type": "code",
   "execution_count": 120,
   "metadata": {},
   "outputs": [
    {
     "data": {
      "text/plain": [
       "array([8, 8, 3, 5, 1, 0, 9, 8, 4, 4])"
      ]
     },
     "execution_count": 120,
     "metadata": {},
     "output_type": "execute_result"
    }
   ],
   "source": [
    "arr_rand = np.random.randint(0, 10, size=10)\n",
    "arr_rand"
   ]
  },
  {
   "cell_type": "code",
   "execution_count": 121,
   "metadata": {},
   "outputs": [
    {
     "name": "stdout",
     "output_type": "stream",
     "text": [
      "Unique items :  [0 1 3 4 5 8 9]\n",
      "Counts       :  [1 1 1 2 1 3 1]\n"
     ]
    }
   ],
   "source": [
    "# Get the unique items and their counts\n",
    "uniqs, counts = np.unique(arr_rand, return_counts=True)\n",
    "print(\"Unique items : \", uniqs)\n",
    "print(\"Counts       : \", counts)"
   ]
  },
  {
   "cell_type": "markdown",
   "metadata": {},
   "source": [
    "## How to get index locations that satisfy a given condition using `np.where`?\n",
    "\n",
    "Previously you saw how to extract items from an array that satisfy a given condition. Boolean indexing, remember?\n",
    "\n",
    "But sometimes we want to know the index positions of the items (that satisfy a condition) and do whatever you want with it.\n",
    "\n",
    "`np.where` locates the positions in the array where a given condition holds true."
   ]
  },
  {
   "cell_type": "code",
   "execution_count": 122,
   "metadata": {},
   "outputs": [
    {
     "name": "stdout",
     "output_type": "stream",
     "text": [
      "Array:  [8 8 3 7 7 0 4 2 5 2]\n",
      "Positions where value > 5:  (array([0, 1, 3, 4]),)\n"
     ]
    }
   ],
   "source": [
    "# Create an array\n",
    "arr_rand = np.array([8, 8, 3, 7, 7, 0, 4, 2, 5, 2])\n",
    "print(\"Array: \", arr_rand)\n",
    "\n",
    "# Positions where value > 5\n",
    "index_gt5 = np.where(arr_rand > 5)\n",
    "print(\"Positions where value > 5: \", index_gt5)"
   ]
  },
  {
   "cell_type": "markdown",
   "metadata": {},
   "source": [
    "Once you have the positions, you can extract them using the array’s take method."
   ]
  },
  {
   "cell_type": "code",
   "execution_count": 123,
   "metadata": {},
   "outputs": [
    {
     "data": {
      "text/plain": [
       "array([[8, 8, 7, 7]])"
      ]
     },
     "execution_count": 123,
     "metadata": {},
     "output_type": "execute_result"
    }
   ],
   "source": [
    "# Take items at given index\n",
    "arr_rand.take(index_gt5)"
   ]
  },
  {
   "cell_type": "markdown",
   "metadata": {},
   "source": [
    "Thankfully, `np.where` also accepts 2 more optional arguments x and y. Whenever condition is true, `x` is yielded else `y`.\n",
    "\n",
    "Below, I try to create an array that will have the string *gt5* whenever the condition is true, else, it will have *lt5*."
   ]
  },
  {
   "cell_type": "code",
   "execution_count": 125,
   "metadata": {},
   "outputs": [
    {
     "data": {
      "text/plain": [
       "array(['gt5', 'gt5', 'lt5', 'gt5', 'gt5', 'lt5', 'lt5', 'lt5', 'lt5',\n",
       "       'lt5'], dtype='<U3')"
      ]
     },
     "execution_count": 125,
     "metadata": {},
     "output_type": "execute_result"
    }
   ],
   "source": [
    "# If value > 5, then yield 'gt5' else 'le5'\n",
    "np.where(arr_rand > 5, 'gt5', 'lt5')"
   ]
  },
  {
   "cell_type": "markdown",
   "metadata": {},
   "source": [
    "Let’s find the location of the maximum and minimum values as well."
   ]
  },
  {
   "cell_type": "code",
   "execution_count": 127,
   "metadata": {},
   "outputs": [
    {
     "data": {
      "text/plain": [
       "array([8, 8, 3, 7, 7, 0, 4, 2, 5, 2])"
      ]
     },
     "execution_count": 127,
     "metadata": {},
     "output_type": "execute_result"
    }
   ],
   "source": [
    "arr_rand"
   ]
  },
  {
   "cell_type": "code",
   "execution_count": 126,
   "metadata": {},
   "outputs": [
    {
     "name": "stdout",
     "output_type": "stream",
     "text": [
      "Position of max value:  0\n",
      "Position of min value:  5\n"
     ]
    }
   ],
   "source": [
    "# Location of the max\n",
    "print('Position of max value: ', np.argmax(arr_rand))  \n",
    "\n",
    "# Location of the min\n",
    "print('Position of min value: ', np.argmin(arr_rand))"
   ]
  },
  {
   "cell_type": "markdown",
   "metadata": {},
   "source": [
    "## How to import and export data as a csv file?\n",
    "\n",
    "A standard way to import datasets is to use the `np.genfromtxt` function. It can import datasets from web URLs, handle missing values, multiple delimiters, handle irregular number of columns etc.\n",
    "\n",
    "A less versatile version is the `np.loadtxt` which assumes the dataset has no missing values.\n",
    "\n",
    "As an example, let’s try to read a .csv file from the below URL. Since all elements in a numpy array should be of the same data type, the last column which is a text will be imported as a *nan* by default.\n",
    "\n",
    "By setting the `filling_values` argument you can replace the missing values with something else."
   ]
  },
  {
   "cell_type": "code",
   "execution_count": 128,
   "metadata": {},
   "outputs": [
    {
     "data": {
      "text/plain": [
       "array([[  18. ,    8. ,  307. ,  130. , 3504. ,   12. ,   70. ,    1. ,\n",
       "        -999. ],\n",
       "       [  15. ,    8. ,  350. ,  165. , 3693. ,   11.5,   70. ,    1. ,\n",
       "        -999. ],\n",
       "       [  18. ,    8. ,  318. ,  150. , 3436. ,   11. ,   70. ,    1. ,\n",
       "        -999. ]])"
      ]
     },
     "execution_count": 128,
     "metadata": {},
     "output_type": "execute_result"
    }
   ],
   "source": [
    "# Turn off scientific notation\n",
    "np.set_printoptions(suppress=True)  \n",
    "\n",
    "# Import data from csv file url\n",
    "path = 'https://raw.githubusercontent.com/selva86/datasets/master/Auto.csv'\n",
    "data = np.genfromtxt(path, delimiter=',', skip_header=1, filling_values=-999, dtype='float')\n",
    "# see first 3 rows\n",
    "data[:3]"
   ]
  },
  {
   "cell_type": "markdown",
   "metadata": {},
   "source": [
    "## How to handle datasets that have both numbers and text columns?\n",
    "\n",
    "If you really **must** have the text column as it is without replacing it with a placeholder, you can either set the `dtype` as *object* or as *None*."
   ]
  },
  {
   "cell_type": "code",
   "execution_count": 129,
   "metadata": {},
   "outputs": [
    {
     "data": {
      "text/plain": [
       "array([(18., 8, 307., 130, 3504, 12. , 70, 1, '\"chevrolet chevelle malibu\"'),\n",
       "       (15., 8, 350., 165, 3693, 11.5, 70, 1, '\"buick skylark 320\"'),\n",
       "       (18., 8, 318., 150, 3436, 11. , 70, 1, '\"plymouth satellite\"')],\n",
       "      dtype=[('f0', '<f8'), ('f1', '<i8'), ('f2', '<f8'), ('f3', '<i8'), ('f4', '<i8'), ('f5', '<f8'), ('f6', '<i8'), ('f7', '<i8'), ('f8', '<U38')])"
      ]
     },
     "execution_count": 129,
     "metadata": {},
     "output_type": "execute_result"
    }
   ],
   "source": [
    "data2 = np.genfromtxt(path, delimiter=',', skip_header=1, dtype=None, encoding=None)\n",
    "# see first 3 rows\n",
    "data2[:3]"
   ]
  },
  {
   "cell_type": "markdown",
   "metadata": {},
   "source": [
    "Finally, `np.savetxt` lets you export the array as a csv file."
   ]
  },
  {
   "cell_type": "code",
   "execution_count": 133,
   "metadata": {},
   "outputs": [],
   "source": [
    "# Save the array as a csv file\n",
    "np.savetxt(\"out.csv\", data, delimiter=\",\", fmt='%f')"
   ]
  },
  {
   "cell_type": "markdown",
   "metadata": {},
   "source": [
    "## How to save and load numpy objects?\n",
    "\n",
    "At some point, we will want to save large transformed numpy arrays to disk and load it back to console directly without having the re-run the data transformations code.\n",
    "\n",
    "Numpy provides the `.npy` and the `.npz` file types for this purpose.\n",
    "\n",
    "If you want to store a single ndarray object, store it as a `.npy` file using `np.save`. This can be loaded back using the `np.load`.\n",
    "\n",
    "If you want to store more than 1 ndarray object in a single file, then save it as a `.npz` file using `np.savez`."
   ]
  },
  {
   "cell_type": "code",
   "execution_count": 134,
   "metadata": {},
   "outputs": [],
   "source": [
    "# Save single numpy array object as .npy file\n",
    "np.save('myarray.npy', arr2d)  \n",
    "\n",
    "# Save multiple numpy arrays as a .npz file\n",
    "np.savez('array.npz', arr2d_f, arr2d)"
   ]
  },
  {
   "cell_type": "markdown",
   "metadata": {},
   "source": [
    "Load back the `.npy` file."
   ]
  },
  {
   "cell_type": "code",
   "execution_count": 135,
   "metadata": {},
   "outputs": [
    {
     "name": "stdout",
     "output_type": "stream",
     "text": [
      "[[0 1 2]\n",
      " [3 4 5]\n",
      " [6 7 8]]\n"
     ]
    }
   ],
   "source": [
    "# Load a .npy file\n",
    "a = np.load('myarray.npy')\n",
    "print(a)"
   ]
  },
  {
   "cell_type": "markdown",
   "metadata": {},
   "source": [
    "Load back the `.npz` file."
   ]
  },
  {
   "cell_type": "code",
   "execution_count": 136,
   "metadata": {},
   "outputs": [
    {
     "name": "stdout",
     "output_type": "stream",
     "text": [
      "['arr_0', 'arr_1']\n"
     ]
    },
    {
     "data": {
      "text/plain": [
       "array([[0., 1., 2.],\n",
       "       [3., 4., 5.],\n",
       "       [6., 7., 8.]])"
      ]
     },
     "execution_count": 136,
     "metadata": {},
     "output_type": "execute_result"
    }
   ],
   "source": [
    "# Load a .npz file\n",
    "b = np.load('array.npz')\n",
    "# check the arrays inside it\n",
    "print(b.files)\n",
    "# get one of the arrays\n",
    "b['arr_0']"
   ]
  },
  {
   "cell_type": "markdown",
   "metadata": {},
   "source": [
    "## How to concatenate two numpy arrays column wise and row wise?\n",
    "\n",
    "There are 3 different ways of concatenating two or more numpy arrays.\n",
    "\n",
    "* Method 1: `np.concatenate` by changing the axis parameter to 0 and 1\n",
    "* Method 2: `np.vstack` and `np.hstack`\n",
    "* Method 3: `np.r_` and `np.c_`\n",
    "\n",
    "All three methods provide the same output.\n",
    "\n",
    "One key difference to notice is that unlike the other 2 methods, both `np.r_` and `np.c_` use square brackets to stack arrays. \n",
    "\n",
    "Let's create the arrays to be concatenated."
   ]
  },
  {
   "cell_type": "code",
   "execution_count": 137,
   "metadata": {},
   "outputs": [
    {
     "name": "stdout",
     "output_type": "stream",
     "text": [
      "[[0. 0. 0. 0.]\n",
      " [0. 0. 0. 0.]\n",
      " [0. 0. 0. 0.]\n",
      " [0. 0. 0. 0.]]\n",
      "[[1. 1. 1. 1.]\n",
      " [1. 1. 1. 1.]\n",
      " [1. 1. 1. 1.]\n",
      " [1. 1. 1. 1.]]\n"
     ]
    }
   ],
   "source": [
    "a = np.zeros([4, 4])\n",
    "b = np.ones([4, 4])\n",
    "print(a)\n",
    "print(b)"
   ]
  },
  {
   "cell_type": "markdown",
   "metadata": {},
   "source": [
    "### Stacking vertically (row wise)"
   ]
  },
  {
   "cell_type": "code",
   "execution_count": 138,
   "metadata": {},
   "outputs": [
    {
     "data": {
      "text/plain": [
       "array([[0., 0., 0., 0.],\n",
       "       [0., 0., 0., 0.],\n",
       "       [0., 0., 0., 0.],\n",
       "       [0., 0., 0., 0.],\n",
       "       [1., 1., 1., 1.],\n",
       "       [1., 1., 1., 1.],\n",
       "       [1., 1., 1., 1.],\n",
       "       [1., 1., 1., 1.]])"
      ]
     },
     "execution_count": 138,
     "metadata": {},
     "output_type": "execute_result"
    }
   ],
   "source": [
    "# using concatenate \n",
    "np.concatenate([a, b], axis=0)"
   ]
  },
  {
   "cell_type": "code",
   "execution_count": 139,
   "metadata": {},
   "outputs": [
    {
     "data": {
      "text/plain": [
       "array([[0., 0., 0., 0.],\n",
       "       [0., 0., 0., 0.],\n",
       "       [0., 0., 0., 0.],\n",
       "       [0., 0., 0., 0.],\n",
       "       [1., 1., 1., 1.],\n",
       "       [1., 1., 1., 1.],\n",
       "       [1., 1., 1., 1.],\n",
       "       [1., 1., 1., 1.]])"
      ]
     },
     "execution_count": 139,
     "metadata": {},
     "output_type": "execute_result"
    }
   ],
   "source": [
    "# using vstack \n",
    "np.vstack([a,b])"
   ]
  },
  {
   "cell_type": "code",
   "execution_count": 140,
   "metadata": {},
   "outputs": [
    {
     "data": {
      "text/plain": [
       "array([[0., 0., 0., 0.],\n",
       "       [0., 0., 0., 0.],\n",
       "       [0., 0., 0., 0.],\n",
       "       [0., 0., 0., 0.],\n",
       "       [1., 1., 1., 1.],\n",
       "       [1., 1., 1., 1.],\n",
       "       [1., 1., 1., 1.],\n",
       "       [1., 1., 1., 1.]])"
      ]
     },
     "execution_count": 140,
     "metadata": {},
     "output_type": "execute_result"
    }
   ],
   "source": [
    "# using np.r_\n",
    "np.r_[a,b] "
   ]
  },
  {
   "cell_type": "markdown",
   "metadata": {},
   "source": [
    "### Stacking horizontally (column wise)"
   ]
  },
  {
   "cell_type": "code",
   "execution_count": 141,
   "metadata": {},
   "outputs": [
    {
     "data": {
      "text/plain": [
       "array([[0., 0., 0., 0., 1., 1., 1., 1.],\n",
       "       [0., 0., 0., 0., 1., 1., 1., 1.],\n",
       "       [0., 0., 0., 0., 1., 1., 1., 1.],\n",
       "       [0., 0., 0., 0., 1., 1., 1., 1.]])"
      ]
     },
     "execution_count": 141,
     "metadata": {},
     "output_type": "execute_result"
    }
   ],
   "source": [
    "# using concatenate\n",
    "np.concatenate([a, b], axis=1) "
   ]
  },
  {
   "cell_type": "code",
   "execution_count": 142,
   "metadata": {},
   "outputs": [
    {
     "data": {
      "text/plain": [
       "array([[0., 0., 0., 0., 1., 1., 1., 1.],\n",
       "       [0., 0., 0., 0., 1., 1., 1., 1.],\n",
       "       [0., 0., 0., 0., 1., 1., 1., 1.],\n",
       "       [0., 0., 0., 0., 1., 1., 1., 1.]])"
      ]
     },
     "execution_count": 142,
     "metadata": {},
     "output_type": "execute_result"
    }
   ],
   "source": [
    "# using hstack \n",
    "np.hstack([a,b])  "
   ]
  },
  {
   "cell_type": "code",
   "execution_count": 143,
   "metadata": {},
   "outputs": [
    {
     "data": {
      "text/plain": [
       "array([[0., 0., 0., 0., 1., 1., 1., 1.],\n",
       "       [0., 0., 0., 0., 1., 1., 1., 1.],\n",
       "       [0., 0., 0., 0., 1., 1., 1., 1.],\n",
       "       [0., 0., 0., 0., 1., 1., 1., 1.]])"
      ]
     },
     "execution_count": 143,
     "metadata": {},
     "output_type": "execute_result"
    }
   ],
   "source": [
    " # using np.c_\n",
    "np.c_[a,b]"
   ]
  },
  {
   "cell_type": "markdown",
   "metadata": {},
   "source": [
    "## How to sort a numpy array based on one or more columns?\n",
    "\n",
    "Let’s try and sort a 2d array based on the first column."
   ]
  },
  {
   "cell_type": "code",
   "execution_count": 144,
   "metadata": {},
   "outputs": [
    {
     "data": {
      "text/plain": [
       "array([[3, 5, 4, 1],\n",
       "       [2, 4, 3, 2],\n",
       "       [3, 3, 4, 3],\n",
       "       [1, 5, 3, 4],\n",
       "       [1, 2, 1, 4],\n",
       "       [2, 2, 1, 4],\n",
       "       [2, 5, 4, 1],\n",
       "       [1, 3, 1, 5]])"
      ]
     },
     "execution_count": 144,
     "metadata": {},
     "output_type": "execute_result"
    }
   ],
   "source": [
    "arr = np.random.randint(1,6, size=[8, 4])\n",
    "arr"
   ]
  },
  {
   "cell_type": "markdown",
   "metadata": {},
   "source": [
    "We have a random array of 8 rows and 4 columns.\n",
    "\n",
    "If you use the `np.sort` function with `axis=0`, all the columns will be sorted in ascending order independent of eachother, effectively compromising the integrity of the row items. \n",
    "\n",
    "In simple terms, the values in each row gets corrupted with values from other rows."
   ]
  },
  {
   "cell_type": "code",
   "execution_count": 147,
   "metadata": {},
   "outputs": [
    {
     "data": {
      "text/plain": [
       "array([[1, 2, 1, 1],\n",
       "       [1, 2, 1, 1],\n",
       "       [1, 3, 1, 2],\n",
       "       [2, 3, 3, 3],\n",
       "       [2, 4, 3, 4],\n",
       "       [2, 5, 4, 4],\n",
       "       [3, 5, 4, 4],\n",
       "       [3, 5, 4, 5]])"
      ]
     },
     "execution_count": 147,
     "metadata": {},
     "output_type": "execute_result"
    }
   ],
   "source": [
    "# Sort each columns of arr\n",
    "np.sort(arr, axis=0)"
   ]
  },
  {
   "cell_type": "markdown",
   "metadata": {},
   "source": [
    "Since we don’t want the content of rows to be disturbed, we'll have to resort a method called `np.argsort`.\n",
    "\n",
    "Let’s first understand what `np.argsort` does.\n",
    "\n",
    "`np.argsort` returns the index positions of what would make a given 1d array sorted."
   ]
  },
  {
   "cell_type": "code",
   "execution_count": 148,
   "metadata": {},
   "outputs": [
    {
     "name": "stdout",
     "output_type": "stream",
     "text": [
      "[0 3 2 4 5 1]\n"
     ]
    }
   ],
   "source": [
    "# Get the index positions that would sort the array\n",
    "x = np.array([1, 10, 5, 2, 8, 9])\n",
    "sort_index = np.argsort(x)\n",
    "print(sort_index)"
   ]
  },
  {
   "cell_type": "markdown",
   "metadata": {},
   "source": [
    "How to interpret this?\n",
    "\n",
    "In array `x`, the 0th item is the smallest, 3rd item is the second smallest and so on."
   ]
  },
  {
   "cell_type": "code",
   "execution_count": 149,
   "metadata": {},
   "outputs": [
    {
     "data": {
      "text/plain": [
       "array([ 1,  2,  5,  8,  9, 10])"
      ]
     },
     "execution_count": 149,
     "metadata": {},
     "output_type": "execute_result"
    }
   ],
   "source": [
    "x[sort_index]"
   ]
  },
  {
   "cell_type": "markdown",
   "metadata": {},
   "source": [
    "Now, in order to sort our `arr`, we're going to do an `argsort` on the 1st column and use the resulting index positions to sort `arr`."
   ]
  },
  {
   "cell_type": "code",
   "execution_count": 151,
   "metadata": {},
   "outputs": [
    {
     "data": {
      "text/plain": [
       "array([[3, 5, 4, 1],\n",
       "       [2, 4, 3, 2],\n",
       "       [3, 3, 4, 3],\n",
       "       [1, 5, 3, 4],\n",
       "       [1, 2, 1, 4],\n",
       "       [2, 2, 1, 4],\n",
       "       [2, 5, 4, 1],\n",
       "       [1, 3, 1, 5]])"
      ]
     },
     "execution_count": 151,
     "metadata": {},
     "output_type": "execute_result"
    }
   ],
   "source": [
    "arr"
   ]
  },
  {
   "cell_type": "code",
   "execution_count": 152,
   "metadata": {},
   "outputs": [
    {
     "data": {
      "text/plain": [
       "array([[1, 5, 3, 4],\n",
       "       [1, 2, 1, 4],\n",
       "       [1, 3, 1, 5],\n",
       "       [2, 4, 3, 2],\n",
       "       [2, 2, 1, 4],\n",
       "       [2, 5, 4, 1],\n",
       "       [3, 5, 4, 1],\n",
       "       [3, 3, 4, 3]])"
      ]
     },
     "execution_count": 152,
     "metadata": {},
     "output_type": "execute_result"
    }
   ],
   "source": [
    "# Argsort the first column\n",
    "sorted_index_1stcol = arr[:, 0].argsort()\n",
    "\n",
    "# Sort 'arr' by first column without disturbing the integrity of rows\n",
    "arr[sorted_index_1stcol]"
   ]
  },
  {
   "cell_type": "markdown",
   "metadata": {},
   "source": [
    "To sort it in decreasing order, simply reverse the argsorted index:"
   ]
  },
  {
   "cell_type": "code",
   "execution_count": 153,
   "metadata": {},
   "outputs": [
    {
     "data": {
      "text/plain": [
       "array([[3, 3, 4, 3],\n",
       "       [3, 5, 4, 1],\n",
       "       [2, 5, 4, 1],\n",
       "       [2, 2, 1, 4],\n",
       "       [2, 4, 3, 2],\n",
       "       [1, 3, 1, 5],\n",
       "       [1, 2, 1, 4],\n",
       "       [1, 5, 3, 4]])"
      ]
     },
     "execution_count": 153,
     "metadata": {},
     "output_type": "execute_result"
    }
   ],
   "source": [
    "# Descending sort\n",
    "arr[sorted_index_1stcol[::-1]]"
   ]
  },
  {
   "cell_type": "markdown",
   "metadata": {},
   "source": [
    "## How to sort a numpy array based on 2 or more columns?\n",
    "\n",
    "You can do this using `np.lexsort` by passing a tuple of columns based on which the array should be sorted.\n",
    "\n",
    "Just remember to place the column to be sorted first at the rightmost side inside the tuple."
   ]
  },
  {
   "cell_type": "code",
   "execution_count": 156,
   "metadata": {},
   "outputs": [
    {
     "data": {
      "text/plain": [
       "array([[1, 5, 3, 4],\n",
       "       [1, 2, 1, 4],\n",
       "       [1, 3, 1, 5],\n",
       "       [2, 4, 3, 2],\n",
       "       [2, 2, 1, 4],\n",
       "       [2, 5, 4, 1],\n",
       "       [3, 5, 4, 1],\n",
       "       [3, 3, 4, 3]])"
      ]
     },
     "execution_count": 156,
     "metadata": {},
     "output_type": "execute_result"
    }
   ],
   "source": [
    "arr[sorted_index_1stcol]"
   ]
  },
  {
   "cell_type": "code",
   "execution_count": 157,
   "metadata": {},
   "outputs": [
    {
     "data": {
      "text/plain": [
       "array([[1, 2, 1, 4],\n",
       "       [2, 2, 1, 4],\n",
       "       [1, 3, 1, 5],\n",
       "       [3, 3, 4, 3],\n",
       "       [2, 4, 3, 2],\n",
       "       [1, 5, 3, 4],\n",
       "       [2, 5, 4, 1],\n",
       "       [3, 5, 4, 1]])"
      ]
     },
     "execution_count": 157,
     "metadata": {},
     "output_type": "execute_result"
    }
   ],
   "source": [
    "# Sort by column 0, then by column 1\n",
    "lexsorted_index = np.lexsort((arr[:, 0], arr[:, 1])) \n",
    "arr[lexsorted_index]"
   ]
  }
 ],
 "metadata": {
  "kernelspec": {
   "display_name": "Python 3",
   "language": "python",
   "name": "python3"
  },
  "language_info": {
   "codemirror_mode": {
    "name": "ipython",
    "version": 3
   },
   "file_extension": ".py",
   "mimetype": "text/x-python",
   "name": "python",
   "nbconvert_exporter": "python",
   "pygments_lexer": "ipython3",
   "version": "3.7.4"
  }
 },
 "nbformat": 4,
 "nbformat_minor": 4
}
