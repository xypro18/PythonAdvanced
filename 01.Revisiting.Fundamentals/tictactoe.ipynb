{
 "cells": [
  {
   "cell_type": "markdown",
   "metadata": {},
   "source": [
    "# Remembering Python Fundamentals"
   ]
  },
  {
   "cell_type": "markdown",
   "metadata": {},
   "source": [
    "## Building a console tic tac toe game"
   ]
  },
  {
   "cell_type": "markdown",
   "metadata": {},
   "source": [
    "### Setting up the board and player moves\n",
    "\n",
    "First, we need a board to play. \n",
    "\n",
    "Let's assume that empty spots in the board will be 0's, player one will be 1's and player two will be 2's.\n",
    "\n",
    "Here's a way to display the board in the console:"
   ]
  },
  {
   "cell_type": "code",
   "execution_count": 3,
   "metadata": {},
   "outputs": [
    {
     "name": "stdout",
     "output_type": "stream",
     "text": [
      "[0, 0, 0]\n",
      "[0, 0, 0]\n",
      "[0, 0, 0]\n"
     ]
    }
   ],
   "source": [
    "game = [[0, 0, 0],\n",
    "        [0, 0, 0],\n",
    "        [0, 0, 0]]\n",
    "\n",
    "for row in game:\n",
    "    print(row)"
   ]
  },
  {
   "cell_type": "markdown",
   "metadata": {},
   "source": [
    "Next up, how will players tell where they'll want to play? Why not by defining coordinates?\n",
    "\n",
    "So, let's find a way to let them know our board's available coordinates:"
   ]
  },
  {
   "cell_type": "code",
   "execution_count": 4,
   "metadata": {},
   "outputs": [
    {
     "name": "stdout",
     "output_type": "stream",
     "text": [
      "   0  1  2\n",
      "0 [0, 0, 0]\n",
      "1 [0, 0, 0]\n",
      "2 [0, 0, 0]\n"
     ]
    }
   ],
   "source": [
    "game = [[0, 0, 0],\n",
    "        [0, 0, 0],\n",
    "        [0, 0, 0],]\n",
    "\n",
    "print(\"   0  1  2\")\n",
    "\n",
    "for count, row in enumerate(game):\n",
    "    print(count, row)"
   ]
  },
  {
   "cell_type": "markdown",
   "metadata": {},
   "source": [
    "Ok, now players can decide where they want to play by giving us a pair of numbers: one for the column number and another for the row number.\n",
    "\n",
    "When they provide such numbers, we can use indexes to mark their play in the board. Here's an example:"
   ]
  },
  {
   "cell_type": "code",
   "execution_count": 5,
   "metadata": {},
   "outputs": [
    {
     "name": "stdout",
     "output_type": "stream",
     "text": [
      "   0  1  2\n",
      "0 [0, 2, 0]\n",
      "1 [0, 0, 0]\n",
      "2 [0, 0, 0]\n"
     ]
    }
   ],
   "source": [
    "game = [[0, 0, 0],\n",
    "        [0, 0, 0],\n",
    "        [0, 0, 0]]\n",
    "\n",
    "game[0][1] = 2\n",
    "\n",
    "print(\"   0  1  2\")\n",
    "\n",
    "for count, row in enumerate(game):\n",
    "    print(count, row)"
   ]
  },
  {
   "cell_type": "markdown",
   "metadata": {},
   "source": [
    "### Applying the DRY principle\n",
    "\n",
    "Great, so that's how we can actually set a value. Now we're almost ready to start playing on the map, but, every time we do that, we're going to be re-printing out the game after a player plays. That's going to be a lot of repeated code, so how do we eliminate that need? Yep, functions are the answer.\n",
    "\n",
    "This is our new code:"
   ]
  },
  {
   "cell_type": "code",
   "execution_count": 6,
   "metadata": {},
   "outputs": [],
   "source": [
    "game = [[0, 0, 0],\n",
    "        [0, 0, 0],\n",
    "        [0, 0, 0]]\n",
    "\n",
    "def game_board():\n",
    "    print(\"   0  1  2\")\n",
    "    for count, row in enumerate(game):\n",
    "        print(count, row)"
   ]
  },
  {
   "cell_type": "markdown",
   "metadata": {},
   "source": [
    "We start the game with:"
   ]
  },
  {
   "cell_type": "code",
   "execution_count": 7,
   "metadata": {},
   "outputs": [
    {
     "name": "stdout",
     "output_type": "stream",
     "text": [
      "   0  1  2\n",
      "0 [0, 0, 0]\n",
      "1 [0, 0, 0]\n",
      "2 [0, 0, 0]\n"
     ]
    }
   ],
   "source": [
    "game_board()"
   ]
  },
  {
   "cell_type": "markdown",
   "metadata": {},
   "source": [
    "And everytime someone makes a move, we just refresh the board:"
   ]
  },
  {
   "cell_type": "code",
   "execution_count": 8,
   "metadata": {},
   "outputs": [
    {
     "name": "stdout",
     "output_type": "stream",
     "text": [
      "   0  1  2\n",
      "0 [0, 2, 0]\n",
      "1 [0, 0, 0]\n",
      "2 [0, 0, 0]\n"
     ]
    }
   ],
   "source": [
    "game[0][1] = 2\n",
    "\n",
    "game_board()"
   ]
  },
  {
   "cell_type": "markdown",
   "metadata": {},
   "source": [
    "Hmm, so now we always have to refresh the board after a move? That's also boring.\n",
    "\n",
    "What if we add arguments to our function to pass every move? Let's look into it."
   ]
  },
  {
   "cell_type": "code",
   "execution_count": 9,
   "metadata": {},
   "outputs": [
    {
     "name": "stdout",
     "output_type": "stream",
     "text": [
      "   0  1  2\n",
      "0 [0, 2, 0]\n",
      "1 [0, 0, 0]\n",
      "2 [0, 0, 0]\n"
     ]
    }
   ],
   "source": [
    "game = [[0, 0, 0],\n",
    "        [0, 0, 0],\n",
    "        [0, 0, 0]]\n",
    "\n",
    "def game_board(player, row, column):\n",
    "    game[row][column] = player\n",
    "    print(\"   0  1  2\")\n",
    "    for count, row in enumerate(game):\n",
    "        print(count, row)\n",
    "\n",
    "game_board(player=2, row=0, column=1)"
   ]
  },
  {
   "cell_type": "markdown",
   "metadata": {},
   "source": [
    "It works! But how do we show an empty board on game start?\n",
    "\n",
    "We could do this:"
   ]
  },
  {
   "cell_type": "code",
   "execution_count": 10,
   "metadata": {},
   "outputs": [
    {
     "name": "stdout",
     "output_type": "stream",
     "text": [
      "   0  1  2\n",
      "0 [0, 0, 0]\n",
      "1 [0, 0, 0]\n",
      "2 [0, 0, 0]\n"
     ]
    }
   ],
   "source": [
    "game = [[0, 0, 0],\n",
    "        [0, 0, 0],\n",
    "        [0, 0, 0]]\n",
    "\n",
    "game_board(player=0, row=0, column=0)"
   ]
  },
  {
   "cell_type": "markdown",
   "metadata": {},
   "source": [
    "But we're smarter than that. Let's set defaults for all arguments, so if we don't specify them it means we want to clean the board."
   ]
  },
  {
   "cell_type": "code",
   "execution_count": 11,
   "metadata": {},
   "outputs": [
    {
     "name": "stdout",
     "output_type": "stream",
     "text": [
      "   0  1  2\n",
      "0 [0, 0, 0]\n",
      "1 [0, 0, 0]\n",
      "2 [0, 0, 0]\n",
      "\n",
      "   0  1  2\n",
      "0 [2, 0, 0]\n",
      "1 [0, 0, 0]\n",
      "2 [0, 0, 0]\n",
      "\n",
      "   0  1  2\n",
      "0 [0, 0, 0]\n",
      "1 [0, 0, 0]\n",
      "2 [0, 0, 0]\n"
     ]
    }
   ],
   "source": [
    "game = [[0, 0, 0],\n",
    "        [0, 0, 0],\n",
    "        [0, 0, 0]]\n",
    "\n",
    "def game_board(player=0, row=0, column=0):\n",
    "    game[row][column] = player\n",
    "    print(\"   0  1  2\")\n",
    "    for count, row in enumerate(game):\n",
    "        print(count, row)\n",
    "\n",
    "# start the game\n",
    "game_board()\n",
    "print()\n",
    "# player makes a move\n",
    "game_board(player=2, row=0, column=0)\n",
    "print()\n",
    "# game restart\n",
    "game_board()"
   ]
  },
  {
   "cell_type": "markdown",
   "metadata": {},
   "source": [
    "Now we have another issue to solve: what if we simply want to show the current game board? Right now there's no way to do it, because we're either marking new moves or cleaning the board.\n",
    "\n",
    "Easy, let's add a new `just_display` argument, and set it's default as well:"
   ]
  },
  {
   "cell_type": "code",
   "execution_count": 12,
   "metadata": {},
   "outputs": [
    {
     "name": "stdout",
     "output_type": "stream",
     "text": [
      "   0  1  2\n",
      "0 [0, 0, 0]\n",
      "1 [0, 0, 0]\n",
      "2 [0, 0, 0]\n",
      "\n",
      "   0  1  2\n",
      "0 [2, 0, 0]\n",
      "1 [0, 0, 0]\n",
      "2 [0, 0, 0]\n",
      "\n",
      "   0  1  2\n",
      "0 [2, 0, 0]\n",
      "1 [0, 0, 0]\n",
      "2 [0, 0, 0]\n",
      "\n",
      "   0  1  2\n",
      "0 [0, 0, 0]\n",
      "1 [0, 0, 0]\n",
      "2 [0, 0, 0]\n"
     ]
    }
   ],
   "source": [
    "game = [[0, 0, 0],\n",
    "        [0, 0, 0],\n",
    "        [0, 0, 0]]\n",
    "\n",
    "def game_board(player=0, row=0, column=0, just_display=False):\n",
    "    if not just_display:\n",
    "        game[row][column] = player\n",
    "    print(\"   0  1  2\")\n",
    "    for count, row in enumerate(game):\n",
    "        print(count, row)\n",
    "\n",
    "# start the game\n",
    "game_board()\n",
    "print()\n",
    "# player makes a move\n",
    "game_board(player=2, row=0, column=0)\n",
    "print()\n",
    "# just display the current board\n",
    "game_board(just_display=True)\n",
    "print()\n",
    "# game restart\n",
    "game_board()"
   ]
  },
  {
   "cell_type": "markdown",
   "metadata": {},
   "source": [
    "### Dealing with errors\n",
    "\n",
    "Ok, so what happens if a player tries to make a move outside of our board? Something like:"
   ]
  },
  {
   "cell_type": "code",
   "execution_count": 13,
   "metadata": {},
   "outputs": [
    {
     "ename": "IndexError",
     "evalue": "list index out of range",
     "output_type": "error",
     "traceback": [
      "\u001b[0;31m---------------------------------------------------------------------------\u001b[0m",
      "\u001b[0;31mIndexError\u001b[0m                                Traceback (most recent call last)",
      "\u001b[0;32m<ipython-input-13-1f1501995090>\u001b[0m in \u001b[0;36m<module>\u001b[0;34m\u001b[0m\n\u001b[0;32m----> 1\u001b[0;31m \u001b[0mgame_board\u001b[0m\u001b[0;34m(\u001b[0m\u001b[0mplayer\u001b[0m\u001b[0;34m=\u001b[0m\u001b[0;36m2\u001b[0m\u001b[0;34m,\u001b[0m \u001b[0mrow\u001b[0m\u001b[0;34m=\u001b[0m\u001b[0;36m3\u001b[0m\u001b[0;34m,\u001b[0m \u001b[0mcolumn\u001b[0m\u001b[0;34m=\u001b[0m\u001b[0;36m0\u001b[0m\u001b[0;34m)\u001b[0m\u001b[0;34m\u001b[0m\u001b[0;34m\u001b[0m\u001b[0m\n\u001b[0m",
      "\u001b[0;32m<ipython-input-12-69f269df5782>\u001b[0m in \u001b[0;36mgame_board\u001b[0;34m(player, row, column, just_display)\u001b[0m\n\u001b[1;32m      5\u001b[0m \u001b[0;32mdef\u001b[0m \u001b[0mgame_board\u001b[0m\u001b[0;34m(\u001b[0m\u001b[0mplayer\u001b[0m\u001b[0;34m=\u001b[0m\u001b[0;36m0\u001b[0m\u001b[0;34m,\u001b[0m \u001b[0mrow\u001b[0m\u001b[0;34m=\u001b[0m\u001b[0;36m0\u001b[0m\u001b[0;34m,\u001b[0m \u001b[0mcolumn\u001b[0m\u001b[0;34m=\u001b[0m\u001b[0;36m0\u001b[0m\u001b[0;34m,\u001b[0m \u001b[0mjust_display\u001b[0m\u001b[0;34m=\u001b[0m\u001b[0;32mFalse\u001b[0m\u001b[0;34m)\u001b[0m\u001b[0;34m:\u001b[0m\u001b[0;34m\u001b[0m\u001b[0;34m\u001b[0m\u001b[0m\n\u001b[1;32m      6\u001b[0m     \u001b[0;32mif\u001b[0m \u001b[0;32mnot\u001b[0m \u001b[0mjust_display\u001b[0m\u001b[0;34m:\u001b[0m\u001b[0;34m\u001b[0m\u001b[0;34m\u001b[0m\u001b[0m\n\u001b[0;32m----> 7\u001b[0;31m         \u001b[0mgame\u001b[0m\u001b[0;34m[\u001b[0m\u001b[0mrow\u001b[0m\u001b[0;34m]\u001b[0m\u001b[0;34m[\u001b[0m\u001b[0mcolumn\u001b[0m\u001b[0;34m]\u001b[0m \u001b[0;34m=\u001b[0m \u001b[0mplayer\u001b[0m\u001b[0;34m\u001b[0m\u001b[0;34m\u001b[0m\u001b[0m\n\u001b[0m\u001b[1;32m      8\u001b[0m     \u001b[0mprint\u001b[0m\u001b[0;34m(\u001b[0m\u001b[0;34m\"   0  1  2\"\u001b[0m\u001b[0;34m)\u001b[0m\u001b[0;34m\u001b[0m\u001b[0;34m\u001b[0m\u001b[0m\n\u001b[1;32m      9\u001b[0m     \u001b[0;32mfor\u001b[0m \u001b[0mcount\u001b[0m\u001b[0;34m,\u001b[0m \u001b[0mrow\u001b[0m \u001b[0;32min\u001b[0m \u001b[0menumerate\u001b[0m\u001b[0;34m(\u001b[0m\u001b[0mgame\u001b[0m\u001b[0;34m)\u001b[0m\u001b[0;34m:\u001b[0m\u001b[0;34m\u001b[0m\u001b[0;34m\u001b[0m\u001b[0m\n",
      "\u001b[0;31mIndexError\u001b[0m: list index out of range"
     ]
    }
   ],
   "source": [
    "game_board(player=2, row=3, column=0)"
   ]
  },
  {
   "cell_type": "markdown",
   "metadata": {},
   "source": [
    "Oops. Time to do some exception handling:"
   ]
  },
  {
   "cell_type": "code",
   "execution_count": 14,
   "metadata": {},
   "outputs": [
    {
     "name": "stdout",
     "output_type": "stream",
     "text": [
      "A bad thing just happened.\n"
     ]
    }
   ],
   "source": [
    "def game_board(player=0, row=0, column=0, just_display=False):\n",
    "    try:\n",
    "        if not just_display:\n",
    "            game[row][column] = player\n",
    "        print(\"   0  1  2\")\n",
    "        for count, row in enumerate(game):\n",
    "            print(count, row)\n",
    "    except:\n",
    "        print(\"A bad thing just happened.\")\n",
    "    \n",
    "# let's try again:\n",
    "game_board(player=2, row=3, column=0)"
   ]
  },
  {
   "cell_type": "markdown",
   "metadata": {},
   "source": [
    "Not the greatest of messages, right? Let's elaborate on this:"
   ]
  },
  {
   "cell_type": "code",
   "execution_count": 15,
   "metadata": {},
   "outputs": [
    {
     "name": "stdout",
     "output_type": "stream",
     "text": [
      "Did you attempt to play a row or column outside the range of 0, 1 or 2?\n"
     ]
    }
   ],
   "source": [
    "def game_board(player=0, row=0, column=0, just_display=False):\n",
    "    try:\n",
    "        if not just_display:\n",
    "            game[row][column] = player\n",
    "        print(\"   0  1  2\")\n",
    "        for count, row in enumerate(game):\n",
    "            print(count, row)\n",
    "    except IndexError:\n",
    "        print(\"Did you attempt to play a row or column outside the range of 0, 1 or 2?\")\n",
    "    except:\n",
    "        print(\"Something went terribly wrong.\")\n",
    "    \n",
    "# let's try again:\n",
    "game_board(player=2, row=3, column=0)"
   ]
  },
  {
   "cell_type": "markdown",
   "metadata": {},
   "source": [
    "### Dealing with cheating\n",
    "\n",
    "Much better. What if the player tries to make a move on an already chosen place? \n",
    "\n",
    "Time to set up some validations and raise warnings:"
   ]
  },
  {
   "cell_type": "code",
   "execution_count": 16,
   "metadata": {},
   "outputs": [
    {
     "name": "stdout",
     "output_type": "stream",
     "text": [
      "   0  1  2\n",
      "0 [0, 0, 0]\n",
      "1 [0, 2, 0]\n",
      "2 [0, 0, 0]\n",
      "\n",
      "That spot is already taken. Focus!\n",
      "\n"
     ]
    }
   ],
   "source": [
    "game = [[0, 0, 0],\n",
    "        [0, 0, 0],\n",
    "        [0, 0, 0]]\n",
    "\n",
    "# Our custom exception can be as simple as:\n",
    "class CheatingError(Exception):\n",
    "    pass\n",
    "\n",
    "def game_board(player=0, row=0, column=0, just_display=False):\n",
    "    try:\n",
    "        if not just_display:\n",
    "            if game[row][column] == 0:\n",
    "                game[row][column] = player\n",
    "            else:\n",
    "                # calling our custom exception\n",
    "                raise CheatingError\n",
    "        print(\"   0  1  2\")\n",
    "        for count, row in enumerate(game):\n",
    "            print(count, row)\n",
    "    except IndexError:\n",
    "        print(\"Did you attempt to play a row or column outside the range of 0, 1 or 2?\")\n",
    "    # handling our custom exception\n",
    "    except CheatingError:\n",
    "        print(\"That spot is already taken. Focus!\")\n",
    "    except:\n",
    "        print(\"Something went terribly wrong.\")\n",
    "    \n",
    "# player 2 makes a move\n",
    "game_board(player=2, row=1, column=1)\n",
    "print()\n",
    "# player 1 tries to make the same move\n",
    "game_board(player=1, row=1, column=1)\n",
    "print()"
   ]
  },
  {
   "cell_type": "markdown",
   "metadata": {},
   "source": [
    "### Calculating horizontal winner\n",
    "\n",
    "Imagine the board is like this:"
   ]
  },
  {
   "cell_type": "code",
   "execution_count": 17,
   "metadata": {},
   "outputs": [],
   "source": [
    "game = [[1, 1, 1],\n",
    "        [2, 2, 0],\n",
    "        [1, 2, 0]]"
   ]
  },
  {
   "cell_type": "markdown",
   "metadata": {},
   "source": [
    "Clearly player 1 has won with the top row. We could determine that with the following function:"
   ]
  },
  {
   "cell_type": "code",
   "execution_count": null,
   "metadata": {},
   "outputs": [],
   "source": [
    "def win(current_game):\n",
    "    for row in current_game:\n",
    "        print(row)\n",
    "        # how might we check all items in this row? We could do something like:\n",
    "        column_1 = row[0]\n",
    "        column_2 = row[1]\n",
    "        column_3 = row[2]\n",
    "        if column_1 == column_2 == column_3:\n",
    "            print(\"WINNER!\")\n",
    "win(game)"
   ]
  },
  {
   "cell_type": "markdown",
   "metadata": {},
   "source": [
    "It works. But do you see the problem in that function? When the board is empty (all zeros) there's a winner too!\n",
    "\n",
    "We could just make a simple change and make it work: `if column_1 == column_2 == column_3 and column_1 != 0:`\n",
    "\n",
    "Still, the code feels very static, there's no room for dynamics here, like for example what if we wanted to have a dynamic board? In some games it would be 3x3 and in others 5x5?"
   ]
  },
  {
   "cell_type": "code",
   "execution_count": 18,
   "metadata": {},
   "outputs": [
    {
     "name": "stdout",
     "output_type": "stream",
     "text": [
      "[1, 1, 1]\n",
      "Player 1 is the winner horizontally!\n",
      "[2, 2, 0]\n",
      "[1, 2, 0]\n"
     ]
    }
   ],
   "source": [
    "game = [[1, 1, 1],\n",
    "        [2, 2, 0],\n",
    "        [1, 2, 0]]\n",
    "\n",
    "def win(current_game):\n",
    "    for row in game:\n",
    "        print(row)\n",
    "        # this is where we introduce the dynamics\n",
    "        if row.count(row[0]) == len(row) and row[0] != 0:\n",
    "            # let's print a nicer message\n",
    "            print(f\"Player {row[0]} is the winner horizontally!\")\n",
    "\n",
    "win(game)"
   ]
  },
  {
   "cell_type": "markdown",
   "metadata": {},
   "source": [
    "So much better, don't you agree?"
   ]
  },
  {
   "cell_type": "markdown",
   "metadata": {},
   "source": [
    "### Calculating vertical winner\n",
    "\n",
    "Imagine the board is like this:"
   ]
  },
  {
   "cell_type": "code",
   "execution_count": 21,
   "metadata": {},
   "outputs": [],
   "source": [
    "game = [[1, 0, 1],\n",
    "        [1, 2, 0],\n",
    "        [1, 2, 0]]"
   ]
  },
  {
   "cell_type": "markdown",
   "metadata": {},
   "source": [
    "Try to understand what's going on here:"
   ]
  },
  {
   "cell_type": "code",
   "execution_count": 23,
   "metadata": {},
   "outputs": [
    {
     "name": "stdout",
     "output_type": "stream",
     "text": [
      "Player 1 is the winner vertically!\n"
     ]
    }
   ],
   "source": [
    "def win(current_game):\n",
    "    for col in range(len(current_game[0])):\n",
    "        check = []\n",
    "        for row in current_game:\n",
    "            check.append(row[col])\n",
    "        if check.count(check[0]) == len(check) and check[0] != 0:\n",
    "            print(f\"Player {check[0]} is the winner vertically!\")\n",
    "        \n",
    "win(game)"
   ]
  },
  {
   "cell_type": "markdown",
   "metadata": {},
   "source": [
    "### Calculating diagonal winner\n",
    "\n",
    "Imagine the board is like this:"
   ]
  },
  {
   "cell_type": "code",
   "execution_count": 24,
   "metadata": {},
   "outputs": [],
   "source": [
    "game = [[1, 0, 1],\n",
    "        [1, 1, 2],\n",
    "        [2, 2, 1]]"
   ]
  },
  {
   "cell_type": "markdown",
   "metadata": {},
   "source": [
    "Let's start with this code:"
   ]
  },
  {
   "cell_type": "code",
   "execution_count": 25,
   "metadata": {},
   "outputs": [
    {
     "name": "stdout",
     "output_type": "stream",
     "text": [
      "[1, 1, 1]\n"
     ]
    }
   ],
   "source": [
    "diags = []\n",
    "for ix in range(len(game)):\n",
    "    diags.append(game[ix][ix])\n",
    "\n",
    "print(diags)"
   ]
  },
  {
   "cell_type": "markdown",
   "metadata": {},
   "source": [
    "We got the result we wanted. So if we add the same check as we did before:"
   ]
  },
  {
   "cell_type": "code",
   "execution_count": 26,
   "metadata": {},
   "outputs": [
    {
     "name": "stdout",
     "output_type": "stream",
     "text": [
      "Winner!\n"
     ]
    }
   ],
   "source": [
    "if diags.count(diags[0]) == len(diags) and diags[0] != 0:\n",
    "    print(\"Winner!\")"
   ]
  },
  {
   "cell_type": "markdown",
   "metadata": {},
   "source": [
    "It works!\n",
    "\n",
    "So the final code will be:"
   ]
  },
  {
   "cell_type": "code",
   "execution_count": 27,
   "metadata": {},
   "outputs": [
    {
     "name": "stdout",
     "output_type": "stream",
     "text": [
      "Player 1 is the winner diagonally!\n"
     ]
    }
   ],
   "source": [
    "game = [[1, 0, 1],\n",
    "        [1, 1, 2],\n",
    "        [2, 2, 1]]\n",
    "\n",
    "diags = []\n",
    "for ix in range(len(game)):\n",
    "    diags.append(game[ix][ix])\n",
    "\n",
    "if diags.count(diags[0]) == len(diags) and diags[0] != 0:\n",
    "    print(f\"Player {diags[0]} is the winner diagonally!\")"
   ]
  },
  {
   "cell_type": "markdown",
   "metadata": {},
   "source": [
    "### Calculating diagonal winner (right to left)\n",
    "\n",
    "Ok, we got the left to right diagonal done. What about the right to left diagonal?\n",
    "\n",
    "We need some way to iterate backwards over the range of the len. I wonder if there's a builtin function for this...of course there is, it's called `reversed`!\n",
    "\n",
    "Let's check if it works:"
   ]
  },
  {
   "cell_type": "code",
   "execution_count": 28,
   "metadata": {},
   "outputs": [
    {
     "name": "stdout",
     "output_type": "stream",
     "text": [
      "2\n",
      "1\n",
      "0\n"
     ]
    }
   ],
   "source": [
    "game = [[1, 0, 2],\n",
    "        [1, 2, 2],\n",
    "        [2, 2, 1]]\n",
    "\n",
    "for i in reversed(range(len(game))):\n",
    "    print(i)"
   ]
  },
  {
   "cell_type": "markdown",
   "metadata": {},
   "source": [
    "Ok, so our columns will be in reverse, but our rows must continue to be in the original order:"
   ]
  },
  {
   "cell_type": "code",
   "execution_count": 29,
   "metadata": {},
   "outputs": [],
   "source": [
    "cols = reversed(range(len(game)))\n",
    "rows = range(len(game))"
   ]
  },
  {
   "cell_type": "markdown",
   "metadata": {},
   "source": [
    "And then we would iterate them like this, to do the same as before:"
   ]
  },
  {
   "cell_type": "code",
   "execution_count": 30,
   "metadata": {},
   "outputs": [
    {
     "ename": "TypeError",
     "evalue": "'range_iterator' object is not subscriptable",
     "output_type": "error",
     "traceback": [
      "\u001b[0;31m---------------------------------------------------------------------------\u001b[0m",
      "\u001b[0;31mTypeError\u001b[0m                                 Traceback (most recent call last)",
      "\u001b[0;32m<ipython-input-30-009235d05041>\u001b[0m in \u001b[0;36m<module>\u001b[0;34m\u001b[0m\n\u001b[1;32m      1\u001b[0m \u001b[0;32mfor\u001b[0m \u001b[0midx\u001b[0m \u001b[0;32min\u001b[0m \u001b[0mrows\u001b[0m\u001b[0;34m:\u001b[0m\u001b[0;34m\u001b[0m\u001b[0;34m\u001b[0m\u001b[0m\n\u001b[0;32m----> 2\u001b[0;31m     \u001b[0mprint\u001b[0m\u001b[0;34m(\u001b[0m\u001b[0midx\u001b[0m\u001b[0;34m,\u001b[0m \u001b[0mcols\u001b[0m\u001b[0;34m[\u001b[0m\u001b[0midx\u001b[0m\u001b[0;34m]\u001b[0m\u001b[0;34m)\u001b[0m\u001b[0;34m\u001b[0m\u001b[0;34m\u001b[0m\u001b[0m\n\u001b[0m",
      "\u001b[0;31mTypeError\u001b[0m: 'range_iterator' object is not subscriptable"
     ]
    }
   ],
   "source": [
    "for idx in rows:\n",
    "    print(idx, cols[idx])"
   ]
  },
  {
   "cell_type": "markdown",
   "metadata": {},
   "source": [
    "What does this mean? That the `reversed` function returns an iterator, not a sequence. So you can't use `cols` immediatly, you'd have to iterate over them first.\n",
    "\n",
    "Unless...you cast/convert the result of `reversed` to a `list`!"
   ]
  },
  {
   "cell_type": "code",
   "execution_count": 31,
   "metadata": {},
   "outputs": [
    {
     "name": "stdout",
     "output_type": "stream",
     "text": [
      "0 2\n",
      "1 1\n",
      "2 0\n"
     ]
    }
   ],
   "source": [
    "game = [[1, 0, 2],\n",
    "        [1, 2, 2],\n",
    "        [2, 2, 1]]\n",
    "\n",
    "cols = list(reversed(range(len(game))))\n",
    "rows = range(len(game))\n",
    "\n",
    "for idx in rows:\n",
    "    print(idx, cols[idx])"
   ]
  },
  {
   "cell_type": "markdown",
   "metadata": {},
   "source": [
    "It worked! Each pair of numbers above is indeed the index we need to evaluate the spots in the board in a right to left diagonal.\n",
    "\n",
    "Now we're ready to check if there's a winner:"
   ]
  },
  {
   "cell_type": "code",
   "execution_count": 32,
   "metadata": {},
   "outputs": [
    {
     "name": "stdout",
     "output_type": "stream",
     "text": [
      "Player 2 is the winner diagonally!\n"
     ]
    }
   ],
   "source": [
    "game = [[1, 0, 2],\n",
    "        [1, 2, 2],\n",
    "        [2, 2, 1]]\n",
    "\n",
    "cols = list(reversed(range(len(game))))\n",
    "rows = range(len(game))\n",
    "diags = []\n",
    "\n",
    "for idx in rows:\n",
    "    diags.append(game[idx][cols[idx]])\n",
    "    \n",
    "if diags.count(diags[0]) == len(diags) and diags[0] != 0:\n",
    "    print(f\"Player {diags[0]} is the winner diagonally!\")"
   ]
  },
  {
   "cell_type": "markdown",
   "metadata": {},
   "source": [
    "### Combining all the wins together\n",
    "\n",
    "Ok, now we're ready to create a function that will contain all the possible wins:"
   ]
  },
  {
   "cell_type": "code",
   "execution_count": null,
   "metadata": {},
   "outputs": [],
   "source": [
    "game = [[2, 2, 1],\n",
    "        [0, 1, 2],\n",
    "        [1, 2, 1]]\n",
    "\n",
    "\n",
    "def win():\n",
    "    outcome = ''\n",
    "    # horizontal\n",
    "    for row in game:\n",
    "        print(row)\n",
    "        if row.count(row[0]) == len(row) and row[0] != 0:\n",
    "            outcome = f\"Player {row[0]} is the winner horizontally!\"\n",
    "    # vertical\n",
    "    for col in range(len(game[0])):\n",
    "        check = []\n",
    "        for row in game:\n",
    "            check.append(row[col])\n",
    "        if check.count(check[0]) == len(check) and check[0] != 0:\n",
    "            outcome = f\"Player {check[0]} is the winner vertically!\"\n",
    "\n",
    "    diags = []\n",
    "    # / diagonal\n",
    "    cols = list(reversed(range(len(game))))\n",
    "    rows = range(len(game))\n",
    "\n",
    "    for idx in rows:\n",
    "        diags.append(game[idx][cols[idx]])\n",
    "    \n",
    "    if diags.count(diags[0]) == len(diags) and diags[0] != 0:\n",
    "        outcome = f\"Player {diags[0]} has won Diagonally (/)\"\n",
    "\n",
    "    # \\ diagonal\n",
    "    for ix in range(len(game)):\n",
    "        diags.append(game[ix][ix])\n",
    "\n",
    "    if diags.count(diags[0]) == len(diags) and diags[0] != 0:\n",
    "        outcome = f\"Player {diags[0]} has won Diagonally (\\\\)\"\n",
    "    \n",
    "    return outcome\n",
    "\n",
    "win()"
   ]
  },
  {
   "cell_type": "markdown",
   "metadata": {},
   "source": [
    "### Putting it all together\n",
    "\n",
    "We have to implement some things to complete the game:\n",
    "\n",
    "* which player will randomly start the game\n",
    "* the automatic switch of players between moves\n",
    "* give the option to retry after a failed move\n",
    "* determining if anyone wins after a move\n",
    "\n",
    "Also let's start gluing the code:"
   ]
  },
  {
   "cell_type": "code",
   "execution_count": null,
   "metadata": {},
   "outputs": [],
   "source": [
    "# we'll use this builtin package to easily cycle between players and switch them\n",
    "from itertools import cycle\n",
    "\n",
    "# the win function\n",
    "def win(current_game):\n",
    "    outcome = ''\n",
    "    # horizontal\n",
    "    for row in game:\n",
    "        if row.count(row[0]) == len(row) and row[0] != 0:\n",
    "            outcome = f\"Player {row[0]} is the winner horizontally!\"\n",
    "    # vertical\n",
    "    for col in range(len(game[0])):\n",
    "        check = []\n",
    "        for row in game:\n",
    "            check.append(row[col])\n",
    "        if check.count(check[0]) == len(check) and check[0] != 0:\n",
    "            outcome = f\"Player {check[0]} is the winner vertically!\"\n",
    "\n",
    "    # / diagonal\n",
    "    diags = []\n",
    "    cols = list(reversed(range(len(game))))\n",
    "    rows = range(len(game))\n",
    "\n",
    "    for idx in rows:\n",
    "        diags.append(game[idx][cols[idx]])\n",
    "    \n",
    "    if diags.count(diags[0]) == len(diags) and diags[0] != 0:\n",
    "        outcome = f\"Player {diags[0]} has won Diagonally (/)\"\n",
    "\n",
    "    # \\ diagonal\n",
    "    diags = []\n",
    "    for ix in range(len(game)):\n",
    "        diags.append(game[ix][ix])\n",
    "\n",
    "    if diags.count(diags[0]) == len(diags) and diags[0] != 0:\n",
    "        outcome = f\"Player {diags[0]} has won Diagonally (\\\\)\"\n",
    "    \n",
    "    return outcome\n",
    "\n",
    "\n",
    "# the custom exception for the cheating error\n",
    "class CheatingError(Exception):\n",
    "    pass\n",
    "\n",
    "# our board and game manager\n",
    "def game_board(game_map, player=0, row=0, column=0, just_display=False):\n",
    "    try:\n",
    "        if not just_display:\n",
    "            if game_map[row][column] == 0:\n",
    "                game_map[row][column] = player\n",
    "            else:\n",
    "                raise CheatingError\n",
    "        print(\"   0  1  2\")\n",
    "        for count, row in enumerate(game_map):\n",
    "            print(count, row)\n",
    "    except IndexError:\n",
    "        print(\"Did you attempt to play a row or column outside the range of 0, 1 or 2?\")\n",
    "        return False\n",
    "    except CheatingError:\n",
    "        print(\"That spot is already taken. Focus!\")\n",
    "        return False\n",
    "    except:\n",
    "        print(\"Something went terribly wrong.\")\n",
    "        return False\n",
    "    return True\n",
    "\n",
    "# the main loop of the game\n",
    "play = True\n",
    "players = [1, 2]\n",
    "while play:\n",
    "    game = [[0, 0, 0],\n",
    "            [0, 0, 0],\n",
    "            [0, 0, 0]]\n",
    "\n",
    "    game_won = False\n",
    "    player_cycle = cycle(players)\n",
    "    game_board(game, just_display=True)\n",
    "    while not game_won:\n",
    "        current_player = next(player_cycle)\n",
    "        played = False\n",
    "        while not played:\n",
    "            print(f\"Player: {current_player}\")\n",
    "            column_choice = int(input(\"Which column? \"))\n",
    "            row_choice = int(input(\"Which row? \"))\n",
    "            played = game_board(game, player=current_player, row=row_choice, column=column_choice)\n",
    "            has_won = win(game)\n",
    "        if has_won != '':\n",
    "            game_won = True\n",
    "            print(has_won)\n",
    "            again = input(\"The game is over, would you like to play again? (y/n) \")\n",
    "            if again.lower() == \"y\":\n",
    "                print(\"Restarting!\")\n",
    "            elif again.lower() == \"n\":\n",
    "                print(\"Byeeeee!!!\")\n",
    "                play = False\n",
    "            else:\n",
    "                print(\"Not a valid answer, but... c ya!\")\n",
    "                play = False"
   ]
  },
  {
   "cell_type": "markdown",
   "metadata": {},
   "source": [
    "There's still room for improvement, but for now it's ready to experiment.\n",
    "\n",
    "Save this code as a *.py file and run in on a console.\n",
    "\n",
    "### Final words\n",
    "\n",
    "Building this game allowed us to touch several features of the python language, such as:\n",
    "\n",
    "* playing with conditionals\n",
    "* iterating variables\n",
    "* building functions that apply some of the DRY principles (like the use of default argument values that allow the functions to work under several scenarios)\n",
    "* using builtin functions (`reversed`, `input`, etc) and packages (`itertools`) from the standard library\n",
    "* handling exceptions and creating custom ones"
   ]
  }
 ],
 "metadata": {
  "kernelspec": {
   "display_name": "Python 3",
   "language": "python",
   "name": "python3"
  },
  "language_info": {
   "codemirror_mode": {
    "name": "ipython",
    "version": 3
   },
   "file_extension": ".py",
   "mimetype": "text/x-python",
   "name": "python",
   "nbconvert_exporter": "python",
   "pygments_lexer": "ipython3",
   "version": "3.7.4"
  }
 },
 "nbformat": 4,
 "nbformat_minor": 4
}
