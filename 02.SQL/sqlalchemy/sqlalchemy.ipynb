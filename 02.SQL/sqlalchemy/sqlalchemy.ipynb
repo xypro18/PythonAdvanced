{
 "cells": [
  {
   "cell_type": "markdown",
   "metadata": {},
   "source": [
    "## What is SQLAlchemy\n",
    "\n",
    "SQLAlchemy is a dtabase toolkit and an ORM (object-relational mapper) implementation written in Python, and provides a generalized interface for creating and executing database-agnostic code without needing to write SQL statements.\n",
    "\n",
    "A benefit many developers enjoy with SQLAlchemy is that it allows them to write Python code in their project to map from the database schema to the application's Python objects. No SQL is required to create, maintain and query the database. The mapping allows SQLAlchemy to handle the underlying database so developers can work with their Python objects instead of writing bridge code to get data in and out of relational tables. This ORM feature is however mostly used in web applications such as Flask, while in this tutorial we will be using the Core features of SQLAlchemy.\n",
    "\n",
    "SQLAlchemy currently supports 5 types of SQL databases: SQLite, MySQL and PostgreSQL, Oracle and Firebird.\n",
    "\n",
    "If you need a graphical program to manage your databases, consider <a href=\"https://sqlitebrowser.org/\" target=\"_blank\">https://sqlitebrowser.org/</a> or <a href=\"https://dbeaver.io/\" target=\"_blank\">https://dbeaver.io/</a> for any operating system.\n",
    "\n",
    "If the package doesn't exist in your system, just install it with: `pip install sqlalchemy` or `conda install sqlalchemy`, depending on your python distribution.\n",
    "\n",
    "### Creating a database and connecting to it"
   ]
  },
  {
   "cell_type": "code",
   "execution_count": 66,
   "metadata": {},
   "outputs": [
    {
     "name": "stdout",
     "output_type": "stream",
     "text": [
      "Engine(sqlite:///example.db)\n"
     ]
    }
   ],
   "source": [
    "# the create_engine() function will create a new file if it doesn't exist and do nothing if it does\n",
    "from sqlalchemy import create_engine\n",
    "\n",
    "# using relative path\n",
    "engine = create_engine('sqlite:///example.db')\n",
    "\n",
    "# using absolute path\n",
    "#engine = create_engine('sqlite:////path/to/database.db') \n",
    "\n",
    "engine.connect()\n",
    " \n",
    "print(engine)"
   ]
  },
  {
   "cell_type": "markdown",
   "metadata": {
    "toc-hr-collapsed": true
   },
   "source": [
    "## Defining the database schema"
   ]
  },
  {
   "cell_type": "markdown",
   "metadata": {},
   "source": [
    "### Simple table\n",
    "\n",
    "Tables in SQLAlchemy are represented as an instance of the Table class. The Table constructor function accepts table name, metadata and one or more columns as arguments. Here is an example:"
   ]
  },
  {
   "cell_type": "code",
   "execution_count": 67,
   "metadata": {},
   "outputs": [],
   "source": [
    "from sqlalchemy import MetaData, Table, String, Column, Text, DateTime, Boolean, Integer, Numeric, CheckConstraint, ForeignKey\n",
    "from datetime import datetime\n",
    "\n",
    "# the MetaData object holds all the information about the database and the tables it contains. \n",
    "# we use an instance of it to create or drop tables in the database.\n",
    "metadata = MetaData()\n",
    "\n",
    "users = Table('users', metadata,\n",
    "    Column('id', Integer(), primary_key=True),\n",
    "    Column('name', String(200), nullable=False),\n",
    ")\n",
    "\n",
    "items = Table('items', metadata,\n",
    "    Column('id', Integer(), primary_key=True),\n",
    "    Column('name', String(200), nullable=False),\n",
    "    Column('cost_price', Numeric(10, 2), nullable=False),\n",
    "    Column('selling_price', Numeric(10, 2),  nullable=False),\n",
    "    Column('quantity', Integer(), nullable=False),\n",
    "    CheckConstraint('quantity > 0', name='quantity_check')\n",
    ")"
   ]
  },
  {
   "cell_type": "markdown",
   "metadata": {},
   "source": [
    "Here's a quick comparison table for the most common data types between SQLAlchemy, Python and SQL:\n",
    "\n",
    "<table>\n",
    "<thead>\n",
    "<tr><th>SQLAlchemy </th>\n",
    "<th> Python </th>\n",
    "<th> SQL</th>\n",
    "</tr>\n",
    "</thead>\n",
    "<tbody>\n",
    "<tr><td>BigInteger </td>\n",
    "<td> int </td>\n",
    "<td> BIGINT</td>\n",
    "</tr>\n",
    "\n",
    "<tr><td>Boolean </td>\n",
    "<td> bool </td>\n",
    "<td> BOOLEAN or SMALLINT</td>\n",
    "</tr>\n",
    "\n",
    "<tr><td>Date </td>\n",
    "<td> datetime.date </td>\n",
    "<td> DATE</td>\n",
    "</tr>\n",
    "\n",
    "<tr><td>DateTime </td>\n",
    "<td> datetime.datetime </td>\n",
    "<td> DATETIME</td>\n",
    "</tr>\n",
    "\n",
    "<tr><td>Integer </td>\n",
    "<td> int </td>\n",
    "<td> INTEGER</td>\n",
    "</tr>\n",
    "\n",
    "<tr><td>Float </td>\n",
    "<td> float </td>\n",
    "<td> FLOAT or REAL</td>\n",
    "</tr>\n",
    "\n",
    "<tr><td>Numeric </td>\n",
    "<td> decimal.Decimal </td>\n",
    "<td> NUMERIC</td>\n",
    "</tr>\n",
    "\n",
    "<tr><td>Text </td>\n",
    "<td> str </td>\n",
    "<td> VARCHAR or TEXT</td>\n",
    "</tr>\n",
    "</tbody></table>"
   ]
  },
  {
   "cell_type": "markdown",
   "metadata": {},
   "source": [
    "### One-to-Many relationship"
   ]
  },
  {
   "cell_type": "code",
   "execution_count": 68,
   "metadata": {},
   "outputs": [],
   "source": [
    "# we create a new table, adding the field that will contain the relationship: user_id\n",
    "posts = Table('posts', metadata,\n",
    "    Column('id', Integer(), primary_key=True),\n",
    "    Column('post_title', String(200), nullable=False),\n",
    "    Column('post_slug', String(200),  nullable=False),\n",
    "    Column('content', Text(),  nullable=False),\n",
    "    Column('published', Boolean(),  default=False),\n",
    "    Column('created_on', DateTime(), default=datetime.now),\n",
    "    Column('updated_on', DateTime(), default=datetime.now, onupdate=datetime.now),\n",
    "    Column('user_id', ForeignKey(\"users.id\"))\n",
    ")"
   ]
  },
  {
   "cell_type": "markdown",
   "metadata": {},
   "source": [
    "### One-to-One relationship"
   ]
  },
  {
   "cell_type": "code",
   "execution_count": 69,
   "metadata": {},
   "outputs": [],
   "source": [
    "# we create a new table, setting the relationship between the users table and this one.\n",
    "user_details = Table('user_details', metadata,\n",
    "    Column('id', Integer(), primary_key=True),                 \n",
    "    Column('user_id', ForeignKey('users.id'), unique=True), # the relationship field. Notice the 'unique' option, ensuring the one-to-one relationship.\n",
    "    Column('picture', String(200), nullable=False),\n",
    "    Column('url', String(200), nullable=False),\n",
    "    Column('twitter_profile', String(200), nullable=False)  \n",
    ")"
   ]
  },
  {
   "cell_type": "markdown",
   "metadata": {},
   "source": [
    "### Many-to-Many relationship"
   ]
  },
  {
   "cell_type": "code",
   "execution_count": 70,
   "metadata": {},
   "outputs": [],
   "source": [
    "tags = Table('tags', metadata,\n",
    "    Column('id', Integer(), primary_key=True),\n",
    "    Column('tag', String(200), nullable=False),\n",
    "    Column('tag_slug', String(200),  nullable=False),    \n",
    ")\n",
    " \n",
    "post_tags = Table('post_tags', metadata,\n",
    "    Column('post_id', ForeignKey('posts.id')),\n",
    "    Column('tag_id', ForeignKey('tags.id'))\n",
    ")"
   ]
  },
  {
   "cell_type": "markdown",
   "metadata": {},
   "source": [
    "### Submiting your schema to the database\n",
    "\n",
    "The `create_all()` method only creates a table if it doesn’t already exist in the database. That means you can call `create_all()` safely multiple times. Note that calling `create_all()` method after changing the table definition will not alter the table schema. To do that, we can use a database migration tool called <a href=\"https://alembic.sqlalchemy.org/en/latest/\" target=\"_blank\">Alembic</a>."
   ]
  },
  {
   "cell_type": "code",
   "execution_count": 71,
   "metadata": {},
   "outputs": [],
   "source": [
    "metadata.create_all(engine)"
   ]
  },
  {
   "cell_type": "markdown",
   "metadata": {},
   "source": [
    "### Inspecting your database schema\n",
    "\n",
    "The `metadata` object is where all the information about the database lies. It has multiple properties that allow us to query our database."
   ]
  },
  {
   "cell_type": "code",
   "execution_count": 72,
   "metadata": {},
   "outputs": [
    {
     "name": "stdout",
     "output_type": "stream",
     "text": [
      "users\n",
      "items\n",
      "posts\n",
      "user_details\n",
      "tags\n",
      "post_tags\n"
     ]
    }
   ],
   "source": [
    "# the tables property to list our tables\n",
    "for table in metadata.tables:\n",
    "    print(table)"
   ]
  },
  {
   "cell_type": "code",
   "execution_count": 73,
   "metadata": {},
   "outputs": [
    {
     "name": "stdout",
     "output_type": "stream",
     "text": [
      "Information for table: users\n",
      "----------------------------------------\n",
      "['users.id', 'users.name']\n",
      "['users.id', 'users.name']\n",
      "set()\n",
      "PrimaryKeyConstraint(Column('id', Integer(), table=<users>, primary_key=True, nullable=False))\n",
      "MetaData(bind=None)\n",
      "\n",
      "Information for table: items\n",
      "----------------------------------------\n",
      "['items.id', 'items.name', 'items.cost_price', 'items.selling_price', 'items.quantity']\n",
      "['items.id', 'items.name', 'items.cost_price', 'items.selling_price', 'items.quantity']\n",
      "set()\n",
      "PrimaryKeyConstraint(Column('id', Integer(), table=<items>, primary_key=True, nullable=False))\n",
      "MetaData(bind=None)\n",
      "\n",
      "Information for table: posts\n",
      "----------------------------------------\n",
      "['posts.id', 'posts.post_title', 'posts.post_slug', 'posts.content', 'posts.published', 'posts.created_on', 'posts.updated_on', 'posts.user_id']\n",
      "['posts.id', 'posts.post_title', 'posts.post_slug', 'posts.content', 'posts.published', 'posts.created_on', 'posts.updated_on', 'posts.user_id']\n",
      "{ForeignKey('users.id')}\n",
      "PrimaryKeyConstraint(Column('id', Integer(), table=<posts>, primary_key=True, nullable=False))\n",
      "MetaData(bind=None)\n",
      "\n",
      "Information for table: user_details\n",
      "----------------------------------------\n",
      "['user_details.id', 'user_details.user_id', 'user_details.picture', 'user_details.url', 'user_details.twitter_profile']\n",
      "['user_details.id', 'user_details.user_id', 'user_details.picture', 'user_details.url', 'user_details.twitter_profile']\n",
      "{ForeignKey('users.id')}\n",
      "PrimaryKeyConstraint(Column('id', Integer(), table=<user_details>, primary_key=True, nullable=False))\n",
      "MetaData(bind=None)\n",
      "\n",
      "Information for table: tags\n",
      "----------------------------------------\n",
      "['tags.id', 'tags.tag', 'tags.tag_slug']\n",
      "['tags.id', 'tags.tag', 'tags.tag_slug']\n",
      "set()\n",
      "PrimaryKeyConstraint(Column('id', Integer(), table=<tags>, primary_key=True, nullable=False))\n",
      "MetaData(bind=None)\n",
      "\n",
      "Information for table: post_tags\n",
      "----------------------------------------\n",
      "['post_tags.post_id', 'post_tags.tag_id']\n",
      "['post_tags.post_id', 'post_tags.tag_id']\n",
      "{ForeignKey('posts.id'), ForeignKey('tags.id')}\n",
      "PrimaryKeyConstraint()\n",
      "MetaData(bind=None)\n",
      "\n"
     ]
    }
   ],
   "source": [
    "# once we have our table info, we can query it's details as well:\n",
    "for table in metadata.tables:\n",
    "    print(f'Information for table: {table}')\n",
    "    table_obj = metadata.tables[table]\n",
    "    print('-' * 40)\n",
    "    print(table_obj.columns)         # return a list of columns\n",
    "    print(table_obj.c)               # same as above\n",
    "    print(table_obj.foreign_keys)    # returns a set containing foreign keys on the table\n",
    "    print(table_obj.primary_key)     # returns the primary key of the table\n",
    "    print(table_obj.metadata)        # get the MetaData object from the table\n",
    "    print()"
   ]
  },
  {
   "cell_type": "code",
   "execution_count": 74,
   "metadata": {},
   "outputs": [
    {
     "name": "stdout",
     "output_type": "stream",
     "text": [
      "Columns in table: posts\n",
      "----------------------------------------\n",
      "id\n",
      "INTEGER\n",
      "False\n",
      "True\n",
      "None\n",
      "\n",
      "post_title\n",
      "VARCHAR(200)\n",
      "False\n",
      "False\n",
      "None\n",
      "\n",
      "post_slug\n",
      "VARCHAR(200)\n",
      "False\n",
      "False\n",
      "None\n",
      "\n",
      "content\n",
      "TEXT\n",
      "False\n",
      "False\n",
      "None\n",
      "\n",
      "published\n",
      "BOOLEAN\n",
      "True\n",
      "False\n",
      "None\n",
      "\n",
      "created_on\n",
      "DATETIME\n",
      "True\n",
      "False\n",
      "None\n",
      "\n",
      "updated_on\n",
      "DATETIME\n",
      "True\n",
      "False\n",
      "None\n",
      "\n",
      "user_id\n",
      "INTEGER\n",
      "True\n",
      "False\n",
      "None\n",
      "\n"
     ]
    }
   ],
   "source": [
    "# we can go even further and get information about each column\n",
    "for table in metadata.tables:\n",
    "    if(table == 'posts'):\n",
    "        print(f'Columns in table: {table}')\n",
    "        table_obj = metadata.tables[table]\n",
    "        print('-' * 40)\n",
    "        for col in table_obj.columns:\n",
    "            print(col.name)        # column name\n",
    "            print(col.type)        # column type\n",
    "            print(col.nullable)    # can it be null?\n",
    "            print(col.primary_key) # is it a primary key?\n",
    "            print(col.comment)     # print the comment\n",
    "            print()\n",
    "            \n",
    "            "
   ]
  },
  {
   "cell_type": "markdown",
   "metadata": {},
   "source": [
    "## CRUD (create, read, update, delete) operations"
   ]
  },
  {
   "cell_type": "markdown",
   "metadata": {
    "toc-hr-collapsed": true
   },
   "source": [
    "### Creating (inserting) records\n",
    "\n",
    "There are several ways to insert records into the database. The most basic way is to use the `insert()` method of the Table instance and pass values of the columns as keyword arguments to the `values()` method."
   ]
  },
  {
   "cell_type": "code",
   "execution_count": 75,
   "metadata": {},
   "outputs": [],
   "source": [
    "ins = users.insert().values(\n",
    "    name = 'John Doe'\n",
    ")"
   ]
  },
  {
   "cell_type": "code",
   "execution_count": 76,
   "metadata": {},
   "outputs": [
    {
     "name": "stdout",
     "output_type": "stream",
     "text": [
      "INSERT INTO users (name) VALUES (:name)\n",
      "\n"
     ]
    },
    {
     "data": {
      "text/plain": [
       "{'name': 'John Doe'}"
      ]
     },
     "execution_count": 76,
     "metadata": {},
     "output_type": "execute_result"
    }
   ],
   "source": [
    "# to inspect the generated sql:\n",
    "print(str(ins))\n",
    "print()\n",
    "\n",
    "# to view the whole object being inserted\n",
    "ins.compile().params"
   ]
  },
  {
   "cell_type": "code",
   "execution_count": 77,
   "metadata": {},
   "outputs": [
    {
     "data": {
      "text/plain": [
       "<sqlalchemy.engine.result.ResultProxy at 0x7f156e52add0>"
      ]
     },
     "execution_count": 77,
     "metadata": {},
     "output_type": "execute_result"
    }
   ],
   "source": [
    "# now we need to execute the query in the database\n",
    "conn = engine.connect()\n",
    "r = conn.execute(ins)\n",
    "r"
   ]
  },
  {
   "cell_type": "code",
   "execution_count": 78,
   "metadata": {},
   "outputs": [
    {
     "name": "stdout",
     "output_type": "stream",
     "text": [
      "[1]\n",
      "\n",
      "1\n"
     ]
    }
   ],
   "source": [
    "# this ResultProxy object has some nice attributes you can use:\n",
    "# know the id of the inserted element\n",
    "print(r.inserted_primary_key)\n",
    "print()\n",
    "\n",
    "# how many rows where inserted\n",
    "print(r.rowcount)"
   ]
  },
  {
   "cell_type": "markdown",
   "metadata": {
    "toc-hr-collapsed": true
   },
   "source": [
    "#### Multiple inserts"
   ]
  },
  {
   "cell_type": "code",
   "execution_count": 79,
   "metadata": {},
   "outputs": [
    {
     "name": "stdout",
     "output_type": "stream",
     "text": [
      "3\n",
      "\n"
     ]
    }
   ],
   "source": [
    "# set the insert object\n",
    "multiple_ins = users.insert()\n",
    "\n",
    "# define the list that holds our records\n",
    "user_list = [\n",
    "    { 'name': 'Jane Doe' },\n",
    "    { 'name': 'Peter Doe' },\n",
    "    { 'name': 'Margaret Doe' }\n",
    "]\n",
    "\n",
    "# connect and execute\n",
    "conn = engine.connect()\n",
    "r = conn.execute(multiple_ins, user_list)\n",
    "\n",
    "#total inserted rows\n",
    "print(r.rowcount)\n",
    "print()"
   ]
  },
  {
   "cell_type": "markdown",
   "metadata": {},
   "source": [
    "### Reading (selecting) records"
   ]
  },
  {
   "cell_type": "code",
   "execution_count": 80,
   "metadata": {},
   "outputs": [
    {
     "name": "stdout",
     "output_type": "stream",
     "text": [
      "SELECT users.id, users.name \n",
      "FROM users\n"
     ]
    }
   ],
   "source": [
    "all_users = users.select()\n",
    "print(str(all_users))"
   ]
  },
  {
   "cell_type": "code",
   "execution_count": 81,
   "metadata": {},
   "outputs": [
    {
     "data": {
      "text/plain": [
       "[(1, 'John Doe'), (2, 'Jane Doe'), (3, 'Peter Doe'), (4, 'Margaret Doe')]"
      ]
     },
     "execution_count": 81,
     "metadata": {},
     "output_type": "execute_result"
    }
   ],
   "source": [
    "r = conn.execute(all_users)\n",
    "r.fetchall()"
   ]
  },
  {
   "cell_type": "markdown",
   "metadata": {},
   "source": [
    "> **Note** : the `fetchall()` method loads all the results into the memory at once. Thus, it is not very efficient on a large result set. Alternatively, you can use for loop to iterate over the result set one at a time."
   ]
  },
  {
   "cell_type": "code",
   "execution_count": 82,
   "metadata": {},
   "outputs": [
    {
     "name": "stdout",
     "output_type": "stream",
     "text": [
      "(1, 'John Doe')\n",
      "(2, 'Jane Doe')\n",
      "(3, 'Peter Doe')\n",
      "(4, 'Margaret Doe')\n"
     ]
    }
   ],
   "source": [
    "all_users = users.select()\n",
    "r = conn.execute(all_users)\n",
    "for row in r:\n",
    "    print(row)"
   ]
  },
  {
   "cell_type": "markdown",
   "metadata": {},
   "source": [
    "Here is a list of some common methods and attributes of the `ResultProxy` object.\n",
    "\n",
    "<table>\n",
    "<thead>\n",
    "<tr><th>Method/Attribute </th>\n",
    "<th> Description</th>\n",
    "</tr>\n",
    "</thead>\n",
    "<tbody>\n",
    "<tr><td>fetchone()</td>\n",
    "<td> fetch the next row from the result set. If the result set has been exhausted, subsequent calls to <code>fetchone()</code> returns <code>None</code>.</td>\n",
    "</tr>\n",
    "\n",
    "<tr><td>fetchmany(size=None)</td>\n",
    "<td> fetch the specified number of rows from the result set. If the result set has been exhausted, subsequent calls to <code>fetchmany()</code> returns <code>None</code>.</td>\n",
    "</tr>\n",
    "\n",
    "<tr><td>fetchall()</td>\n",
    "<td> fetch all the rows from the result set. If the result set has been exhausted, subsequent calls to <code>fetchall()</code> returns <code>None</code>.</td>\n",
    "</tr>\n",
    "\n",
    "<tr><td>first()</td>\n",
    "<td> fetch the first row from the result set and close the connection. This means that after calling the <code>first()</code> method we can't access any other rows in the result set, until we send the query to the database again (using the <code>execute()</code> method).</td>\n",
    "</tr>\n",
    "\n",
    "<tr><td>keys()</td>\n",
    "<td> returns a list of columns from where data is retrieved.</td>\n",
    "</tr>\n",
    "</tbody></table>\n",
    "\n",
    "Let's try them out:"
   ]
  },
  {
   "cell_type": "code",
   "execution_count": 83,
   "metadata": {},
   "outputs": [
    {
     "name": "stdout",
     "output_type": "stream",
     "text": [
      "(1, 'John Doe')\n",
      "(2, 'Jane Doe')\n",
      "(3, 'Peter Doe')\n"
     ]
    }
   ],
   "source": [
    "# fetchone()\n",
    "r = conn.execute(all_users)\n",
    "print(r.fetchone())\n",
    "print(r.fetchone())\n",
    "print(r.fetchone())"
   ]
  },
  {
   "cell_type": "code",
   "execution_count": 84,
   "metadata": {},
   "outputs": [
    {
     "name": "stdout",
     "output_type": "stream",
     "text": [
      "[(1, 'John Doe')]\n",
      "\n",
      "[(2, 'Jane Doe'), (3, 'Peter Doe'), (4, 'Margaret Doe')]\n"
     ]
    }
   ],
   "source": [
    "# fetchmany()\n",
    "r = conn.execute(all_users)\n",
    "print(r.fetchmany()) # defaults to 1, same as first()\n",
    "print()\n",
    "\n",
    "print(r.fetchmany(3)) # same as LIMIT in SQL"
   ]
  },
  {
   "cell_type": "code",
   "execution_count": 85,
   "metadata": {},
   "outputs": [
    {
     "name": "stdout",
     "output_type": "stream",
     "text": [
      "(1, 'John Doe')\n"
     ]
    }
   ],
   "source": [
    "# first()\n",
    "r = conn.execute(all_users)\n",
    "print(r.first())"
   ]
  },
  {
   "cell_type": "code",
   "execution_count": 86,
   "metadata": {},
   "outputs": [
    {
     "name": "stdout",
     "output_type": "stream",
     "text": [
      "['id', 'name']\n"
     ]
    }
   ],
   "source": [
    "# keys()\n",
    "r = conn.execute(all_users)\n",
    "print(r.keys())"
   ]
  },
  {
   "cell_type": "markdown",
   "metadata": {},
   "source": [
    "#### Accessing the selected records\n",
    "\n",
    "If you look at the data returned by `fetchXXX()`, you'll notice that it seems like a list of tuples, being each tuple a record. But that's actually not the case. It is a RowProxy object, which allows us to access data in the row using column name, index position or `Column` instance. For example:"
   ]
  },
  {
   "cell_type": "code",
   "execution_count": 88,
   "metadata": {},
   "outputs": [
    {
     "name": "stdout",
     "output_type": "stream",
     "text": [
      "(1, 'John Doe')\n",
      "<class 'sqlalchemy.engine.result.RowProxy'>\n",
      "1 John Doe\n",
      "1 John Doe\n",
      "1 John Doe\n",
      "1 John Doe\n"
     ]
    }
   ],
   "source": [
    "r = conn.execute(all_users)\n",
    "row = r.fetchone()\n",
    "print(row)\n",
    "print(type(row))\n",
    "print(row['id'], row['name'])    # access column data via column name\n",
    "print(row[0], row[1])    # access column data via column index position\n",
    "print(row[users.c.id], row[users.c.name])    # access column data via Column object\n",
    "print(row.id, row.name)    # access column data via attribute"
   ]
  },
  {
   "cell_type": "markdown",
   "metadata": {},
   "source": [
    "#### Filtering the selection\n",
    "\n",
    "Let's add data to the items table to show the available types of filters:"
   ]
  },
  {
   "cell_type": "code",
   "execution_count": 89,
   "metadata": {},
   "outputs": [
    {
     "data": {
      "text/plain": [
       "8"
      ]
     },
     "execution_count": 89,
     "metadata": {},
     "output_type": "execute_result"
    }
   ],
   "source": [
    "items_list = [\n",
    "    {\n",
    "        \"name\":\"Chair\",\n",
    "        \"cost_price\": 9.21,\n",
    "        \"selling_price\": 10.81,\n",
    "        \"quantity\": 5\n",
    "    },\n",
    "    {\n",
    "        \"name\":\"Pen\",\n",
    "        \"cost_price\": 3.45,\n",
    "        \"selling_price\": 4.51,\n",
    "        \"quantity\": 3\n",
    "    },\n",
    "    {\n",
    "        \"name\":\"Headphone\",\n",
    "        \"cost_price\": 15.52,\n",
    "        \"selling_price\": 16.81,\n",
    "        \"quantity\": 50\n",
    "    },\n",
    "    {\n",
    "        \"name\":\"Travel Bag\",\n",
    "        \"cost_price\": 20.1,\n",
    "        \"selling_price\": 24.21,\n",
    "        \"quantity\": 50\n",
    "    },\n",
    "    {\n",
    "        \"name\":\"Keyboard\",\n",
    "        \"cost_price\": 20.12,\n",
    "        \"selling_price\": 22.11,\n",
    "        \"quantity\": 50\n",
    "    },\n",
    "    {\n",
    "        \"name\":\"Monitor\",\n",
    "        \"cost_price\": 200.14,\n",
    "        \"selling_price\": 212.89,\n",
    "        \"quantity\": 50\n",
    "    },\n",
    "    {\n",
    "        \"name\":\"Watch\",\n",
    "        \"cost_price\": 100.58,\n",
    "        \"selling_price\": 104.41,\n",
    "        \"quantity\": 50\n",
    "    },\n",
    "    {\n",
    "        \"name\":\"Water Bottle\",\n",
    "        \"cost_price\": 20.89,\n",
    "        \"selling_price\": 25.00,\n",
    "        \"quantity\": 50\n",
    "    },\n",
    "]\n",
    "\n",
    "ins = items.insert()\n",
    "r = conn.execute(ins, items_list)\n",
    "r.rowcount"
   ]
  },
  {
   "cell_type": "markdown",
   "metadata": {},
   "source": [
    "To filter records we use `where()` method. It accept a condition and adds a WHERE clause to the SELECT statement."
   ]
  },
  {
   "cell_type": "code",
   "execution_count": 90,
   "metadata": {},
   "outputs": [
    {
     "name": "stderr",
     "output_type": "stream",
     "text": [
      "/usr/lib/python3.7/site-packages/sqlalchemy/sql/sqltypes.py:666: SAWarning: Dialect sqlite+pysqlite does *not* support Decimal objects natively, and SQLAlchemy must convert from floating point - rounding errors and other issues may occur. Please consider storing Decimal numbers as strings or integers on this platform for lossless storage.\n",
      "  \"storage.\" % (dialect.name, dialect.driver)\n"
     ]
    },
    {
     "data": {
      "text/plain": [
       "[(4, 'Travel Bag', Decimal('20.10'), Decimal('24.21'), 50),\n",
       " (5, 'Keyboard', Decimal('20.12'), Decimal('22.11'), 50),\n",
       " (6, 'Monitor', Decimal('200.14'), Decimal('212.89'), 50),\n",
       " (7, 'Watch', Decimal('100.58'), Decimal('104.41'), 50),\n",
       " (8, 'Water Bottle', Decimal('20.89'), Decimal('25.00'), 50)]"
      ]
     },
     "execution_count": 90,
     "metadata": {},
     "output_type": "execute_result"
    }
   ],
   "source": [
    "# this query will return all the items whose cost price is greater than 20\n",
    "s = items.select().where(\n",
    "    items.c.cost_price > 20\n",
    ")\n",
    "\n",
    "r = conn.execute(s)\n",
    "r.fetchall()"
   ]
  },
  {
   "cell_type": "markdown",
   "metadata": {},
   "source": [
    "> See the warning above? It's something you should consider if you need precision in your work. We don't, so for now here's how to disable those warnings:"
   ]
  },
  {
   "cell_type": "code",
   "execution_count": 91,
   "metadata": {},
   "outputs": [
    {
     "data": {
      "text/plain": [
       "[(4, 'Travel Bag', Decimal('20.10'), Decimal('24.21'), 50),\n",
       " (5, 'Keyboard', Decimal('20.12'), Decimal('22.11'), 50),\n",
       " (6, 'Monitor', Decimal('200.14'), Decimal('212.89'), 50),\n",
       " (7, 'Watch', Decimal('100.58'), Decimal('104.41'), 50),\n",
       " (8, 'Water Bottle', Decimal('20.89'), Decimal('25.00'), 50)]"
      ]
     },
     "execution_count": 91,
     "metadata": {},
     "output_type": "execute_result"
    }
   ],
   "source": [
    "import warnings\n",
    "\n",
    "with warnings.catch_warnings():\n",
    "    # this query will return all the items whose cost price is greater than 20\n",
    "    s = items.select().where(\n",
    "    items.c.cost_price > 20\n",
    "    )\n",
    "\n",
    "r = conn.execute(s)\n",
    "r.fetchall()"
   ]
  },
  {
   "cell_type": "code",
   "execution_count": 92,
   "metadata": {},
   "outputs": [
    {
     "data": {
      "text/plain": [
       "[(6, 'Monitor', Decimal('200.14'), Decimal('212.89'), 50),\n",
       " (7, 'Watch', Decimal('100.58'), Decimal('104.41'), 50)]"
      ]
     },
     "execution_count": 92,
     "metadata": {},
     "output_type": "execute_result"
    }
   ],
   "source": [
    "import warnings\n",
    "\n",
    "with warnings.catch_warnings():\n",
    "    # we can specify additional conditions by simple chaining the where() method\n",
    "    s = items.select().\\\n",
    "    where(items.c.cost_price + items.c.selling_price > 50).\\\n",
    "    where(items.c.quantity > 10)\n",
    "\n",
    "r = conn.execute(s)\n",
    "r.fetchall()"
   ]
  },
  {
   "cell_type": "markdown",
   "metadata": {},
   "source": [
    "As you can see, when we chain the where() method the conditions are ANDed together.\n",
    "\n",
    "So how do we specify OR or NOT conditions to our SELECT statement?\n",
    "\n",
    "It turns out that instead of chaining where() method there are two other ways to combine conditions:\n",
    "\n",
    "1. Bitwise Operators.\n",
    "2. Conjunctions.\n",
    "\n",
    "Let’s start with the first one.\n",
    "\n",
    "**Bitwise Operators**\n",
    "\n",
    "Bitwise Operators `&`, `|` and `~` allow us to connect conditions with SQL AND, OR and NOT operators respectively.\n",
    "\n",
    "The preceding query can be coded using bitwise operators as follows:"
   ]
  },
  {
   "cell_type": "code",
   "execution_count": 94,
   "metadata": {},
   "outputs": [
    {
     "data": {
      "text/plain": [
       "[(6, 'Monitor', Decimal('200.14'), Decimal('212.89'), 50),\n",
       " (7, 'Watch', Decimal('100.58'), Decimal('104.41'), 50)]"
      ]
     },
     "execution_count": 94,
     "metadata": {},
     "output_type": "execute_result"
    }
   ],
   "source": [
    "import warnings\n",
    "\n",
    "with warnings.catch_warnings():\n",
    "    # using & (AND)\n",
    "    s = items.select().\\\n",
    "    where(\n",
    "        (items.c.cost_price + items.c.selling_price > 50) & \n",
    "        (items.c.quantity > 10)\n",
    "    )\n",
    "\n",
    "r = conn.execute(s)\n",
    "r.fetchall()"
   ]
  },
  {
   "cell_type": "code",
   "execution_count": 95,
   "metadata": {},
   "outputs": [
    {
     "data": {
      "text/plain": [
       "[(2, 'Pen', Decimal('3.45'), Decimal('4.51'), 3),\n",
       " (6, 'Monitor', Decimal('200.14'), Decimal('212.89'), 50)]"
      ]
     },
     "execution_count": 95,
     "metadata": {},
     "output_type": "execute_result"
    }
   ],
   "source": [
    "import warnings\n",
    "\n",
    "with warnings.catch_warnings():\n",
    "    # using | (OR)\n",
    "    s = items.select().\\\n",
    "    where(\n",
    "        (items.c.cost_price > 200) |\n",
    "        (items.c.quantity < 5)\n",
    "    )\n",
    "\n",
    "r = conn.execute(s)\n",
    "r.fetchall()"
   ]
  },
  {
   "cell_type": "code",
   "execution_count": 97,
   "metadata": {},
   "outputs": [
    {
     "data": {
      "text/plain": [
       "[(1, 'Chair', Decimal('9.21'), Decimal('10.81'), 5),\n",
       " (2, 'Pen', Decimal('3.45'), Decimal('4.51'), 3)]"
      ]
     },
     "execution_count": 97,
     "metadata": {},
     "output_type": "execute_result"
    }
   ],
   "source": [
    "import warnings\n",
    "\n",
    "with warnings.catch_warnings():\n",
    "    # using ~ (NOT)\n",
    "    s = items.select().\\\n",
    "    where(\n",
    "        ~(items.c.quantity == 50) &\n",
    "        (items.c.cost_price < 20)\n",
    "    )\n",
    "\n",
    "r = conn.execute(s)\n",
    "r.fetchall()"
   ]
  },
  {
   "cell_type": "markdown",
   "metadata": {},
   "source": [
    "**Conjunctions**\n",
    "\n",
    "Another way to connect conditions is to use conjunction functions i.e `and_()`, `or_()` and `not_()`.\n",
    "\n",
    "> This is the preferred way of defining conditions in SQLAlchemy."
   ]
  },
  {
   "cell_type": "code",
   "execution_count": 98,
   "metadata": {},
   "outputs": [
    {
     "data": {
      "text/plain": [
       "[(3, 'Headphone', Decimal('15.52'), Decimal('16.81'), 50),\n",
       " (4, 'Travel Bag', Decimal('20.10'), Decimal('24.21'), 50),\n",
       " (5, 'Keyboard', Decimal('20.12'), Decimal('22.11'), 50),\n",
       " (8, 'Water Bottle', Decimal('20.89'), Decimal('25.00'), 50)]"
      ]
     },
     "execution_count": 98,
     "metadata": {},
     "output_type": "execute_result"
    }
   ],
   "source": [
    "from sqlalchemy import and_, or_, not_\n",
    "import warnings\n",
    "\n",
    "with warnings.catch_warnings():\n",
    "    # using and_()\n",
    "    s = items.select().\\\n",
    "    where(    \n",
    "        and_(\n",
    "            items.c.quantity >= 50,\n",
    "            items.c.cost_price < 100,\n",
    "        )\n",
    "    ) \n",
    "\n",
    "r = conn.execute(s)\n",
    "r.fetchall()"
   ]
  },
  {
   "cell_type": "code",
   "execution_count": 99,
   "metadata": {},
   "outputs": [
    {
     "data": {
      "text/plain": [
       "[(4, 'Travel Bag', Decimal('20.10'), Decimal('24.21'), 50),\n",
       " (5, 'Keyboard', Decimal('20.12'), Decimal('22.11'), 50),\n",
       " (8, 'Water Bottle', Decimal('20.89'), Decimal('25.00'), 50)]"
      ]
     },
     "execution_count": 99,
     "metadata": {},
     "output_type": "execute_result"
    }
   ],
   "source": [
    "import warnings\n",
    "\n",
    "with warnings.catch_warnings():\n",
    "    # using and_() and not_() together\n",
    "    s = items.select().\\\n",
    "    where(    \n",
    "        and_(\n",
    "            items.c.quantity >= 50,\n",
    "            items.c.cost_price < 100,\n",
    "            not_(\n",
    "                items.c.name == 'Headphone'            \n",
    "            ),        \n",
    "        )\n",
    "    ) \n",
    "\n",
    "r = conn.execute(s)\n",
    "r.fetchall()"
   ]
  },
  {
   "cell_type": "markdown",
   "metadata": {},
   "source": [
    "**Other common comparison operators**\n",
    "\n",
    "Below are examples for other comparison operators: `IS NULL`, `IS NOT NULL`, `IN`, `NOT IN`, `BETWEEN`, `NOT BETWEEN`, `LIKE` and `NOT LIKE`"
   ]
  },
  {
   "cell_type": "code",
   "execution_count": 101,
   "metadata": {},
   "outputs": [
    {
     "data": {
      "text/plain": [
       "[]"
      ]
     },
     "execution_count": 101,
     "metadata": {},
     "output_type": "execute_result"
    }
   ],
   "source": [
    "import warnings\n",
    "\n",
    "with warnings.catch_warnings():\n",
    "    # testing IS NULL\n",
    "    s = items.select().\\\n",
    "    where(    \n",
    "        items.c.quantity == None\n",
    "    ) \n",
    "\n",
    "r = conn.execute(s)\n",
    "r.fetchall()"
   ]
  },
  {
   "cell_type": "code",
   "execution_count": 102,
   "metadata": {},
   "outputs": [
    {
     "data": {
      "text/plain": [
       "[(1, 'Chair', Decimal('9.21'), Decimal('10.81'), 5),\n",
       " (2, 'Pen', Decimal('3.45'), Decimal('4.51'), 3),\n",
       " (3, 'Headphone', Decimal('15.52'), Decimal('16.81'), 50),\n",
       " (4, 'Travel Bag', Decimal('20.10'), Decimal('24.21'), 50),\n",
       " (5, 'Keyboard', Decimal('20.12'), Decimal('22.11'), 50),\n",
       " (6, 'Monitor', Decimal('200.14'), Decimal('212.89'), 50),\n",
       " (7, 'Watch', Decimal('100.58'), Decimal('104.41'), 50),\n",
       " (8, 'Water Bottle', Decimal('20.89'), Decimal('25.00'), 50)]"
      ]
     },
     "execution_count": 102,
     "metadata": {},
     "output_type": "execute_result"
    }
   ],
   "source": [
    "import warnings\n",
    "\n",
    "with warnings.catch_warnings():\n",
    "    # testing IS NOT NULL\n",
    "    s = items.select().\\\n",
    "    where(    \n",
    "        items.c.quantity != None\n",
    "    ) \n",
    "\n",
    "r = conn.execute(s)\n",
    "r.fetchall()"
   ]
  },
  {
   "cell_type": "code",
   "execution_count": 103,
   "metadata": {},
   "outputs": [
    {
     "data": {
      "text/plain": [
       "[(6, 'Monitor', Decimal('200.14'), Decimal('212.89'), 50),\n",
       " (7, 'Watch', Decimal('100.58'), Decimal('104.41'), 50)]"
      ]
     },
     "execution_count": 103,
     "metadata": {},
     "output_type": "execute_result"
    }
   ],
   "source": [
    "import warnings\n",
    "\n",
    "with warnings.catch_warnings():\n",
    "    # testing IN\n",
    "    s = items.select().\\\n",
    "    where(    \n",
    "        items.c.name.in_([\"Monitor\", \"Watch\"])\n",
    "    ) \n",
    "\n",
    "r = conn.execute(s)\n",
    "r.fetchall()"
   ]
  },
  {
   "cell_type": "code",
   "execution_count": 104,
   "metadata": {},
   "outputs": [
    {
     "data": {
      "text/plain": [
       "[(1, 'Chair', Decimal('9.21'), Decimal('10.81'), 5),\n",
       " (2, 'Pen', Decimal('3.45'), Decimal('4.51'), 3),\n",
       " (3, 'Headphone', Decimal('15.52'), Decimal('16.81'), 50),\n",
       " (4, 'Travel Bag', Decimal('20.10'), Decimal('24.21'), 50),\n",
       " (5, 'Keyboard', Decimal('20.12'), Decimal('22.11'), 50),\n",
       " (8, 'Water Bottle', Decimal('20.89'), Decimal('25.00'), 50)]"
      ]
     },
     "execution_count": 104,
     "metadata": {},
     "output_type": "execute_result"
    }
   ],
   "source": [
    "import warnings\n",
    "\n",
    "with warnings.catch_warnings():\n",
    "    # testing NOT IN\n",
    "    s = items.select().\\\n",
    "    where(    \n",
    "        items.c.name.notin_([\"Monitor\", \"Watch\"])\n",
    "    ) \n",
    "\n",
    "r = conn.execute(s)\n",
    "r.fetchall()"
   ]
  },
  {
   "cell_type": "code",
   "execution_count": 105,
   "metadata": {},
   "outputs": [
    {
     "data": {
      "text/plain": [
       "[(1, 'Chair', Decimal('9.21'), Decimal('10.81'), 5),\n",
       " (2, 'Pen', Decimal('3.45'), Decimal('4.51'), 3)]"
      ]
     },
     "execution_count": 105,
     "metadata": {},
     "output_type": "execute_result"
    }
   ],
   "source": [
    "import warnings\n",
    "\n",
    "with warnings.catch_warnings():\n",
    "    # testing BETWEEN\n",
    "    s = items.select().\\\n",
    "    where(    \n",
    "        items.c.quantity.between(1, 10)\n",
    "    ) \n",
    "\n",
    "r = conn.execute(s)\n",
    "r.fetchall()"
   ]
  },
  {
   "cell_type": "code",
   "execution_count": 106,
   "metadata": {},
   "outputs": [
    {
     "data": {
      "text/plain": [
       "[(3, 'Headphone', Decimal('15.52'), Decimal('16.81'), 50),\n",
       " (4, 'Travel Bag', Decimal('20.10'), Decimal('24.21'), 50),\n",
       " (5, 'Keyboard', Decimal('20.12'), Decimal('22.11'), 50),\n",
       " (6, 'Monitor', Decimal('200.14'), Decimal('212.89'), 50),\n",
       " (7, 'Watch', Decimal('100.58'), Decimal('104.41'), 50),\n",
       " (8, 'Water Bottle', Decimal('20.89'), Decimal('25.00'), 50)]"
      ]
     },
     "execution_count": 106,
     "metadata": {},
     "output_type": "execute_result"
    }
   ],
   "source": [
    "import warnings\n",
    "\n",
    "with warnings.catch_warnings():\n",
    "    # testing NOT BETWEEN\n",
    "    s = items.select().\\\n",
    "    where(    \n",
    "        not_(items.c.quantity.between(1, 10))\n",
    "    ) \n",
    "\n",
    "r = conn.execute(s)\n",
    "r.fetchall()"
   ]
  },
  {
   "cell_type": "code",
   "execution_count": 107,
   "metadata": {},
   "outputs": [
    {
     "data": {
      "text/plain": [
       "[(1, 'Chair', Decimal('9.21'), Decimal('10.81'), 5),\n",
       " (7, 'Watch', Decimal('100.58'), Decimal('104.41'), 50)]"
      ]
     },
     "execution_count": 107,
     "metadata": {},
     "output_type": "execute_result"
    }
   ],
   "source": [
    "import warnings\n",
    "\n",
    "with warnings.catch_warnings():\n",
    "    # testing LIKE\n",
    "    s = items.select().\\\n",
    "    where(    \n",
    "        items.c.name.like('%ch%')\n",
    "    ) \n",
    "\n",
    "r = conn.execute(s)\n",
    "r.fetchall()"
   ]
  },
  {
   "cell_type": "code",
   "execution_count": 108,
   "metadata": {},
   "outputs": [
    {
     "data": {
      "text/plain": [
       "[(2, 'Pen', Decimal('3.45'), Decimal('4.51'), 3),\n",
       " (3, 'Headphone', Decimal('15.52'), Decimal('16.81'), 50),\n",
       " (4, 'Travel Bag', Decimal('20.10'), Decimal('24.21'), 50),\n",
       " (5, 'Keyboard', Decimal('20.12'), Decimal('22.11'), 50),\n",
       " (6, 'Monitor', Decimal('200.14'), Decimal('212.89'), 50),\n",
       " (8, 'Water Bottle', Decimal('20.89'), Decimal('25.00'), 50)]"
      ]
     },
     "execution_count": 108,
     "metadata": {},
     "output_type": "execute_result"
    }
   ],
   "source": [
    "import warnings\n",
    "\n",
    "with warnings.catch_warnings():\n",
    "    # testing NOT LIKE\n",
    "    s = items.select().\\\n",
    "    where(    \n",
    "        not_(items.c.name.like('%ch%'))\n",
    "    ) \n",
    "\n",
    "r = conn.execute(s)\n",
    "r.fetchall()"
   ]
  },
  {
   "cell_type": "markdown",
   "metadata": {},
   "source": [
    "#### Ordering the selection\n",
    "\n",
    "The `order_by()` method adds ORDER BY clause to the SELECT statement. It accepts one or more columns to sort by. For each column listed in the `order_by()` clause, you can specify whether the rows are sorted in ascending order (using `asc()`) or descending order (using `desc()`). If neither, specified rows are sorted in ascending order. For example:"
   ]
  },
  {
   "cell_type": "code",
   "execution_count": 109,
   "metadata": {},
   "outputs": [
    {
     "data": {
      "text/plain": [
       "[(2, 'Pen', Decimal('3.45'), Decimal('4.51'), 3),\n",
       " (1, 'Chair', Decimal('9.21'), Decimal('10.81'), 5),\n",
       " (6, 'Monitor', Decimal('200.14'), Decimal('212.89'), 50),\n",
       " (7, 'Watch', Decimal('100.58'), Decimal('104.41'), 50),\n",
       " (8, 'Water Bottle', Decimal('20.89'), Decimal('25.00'), 50),\n",
       " (5, 'Keyboard', Decimal('20.12'), Decimal('22.11'), 50),\n",
       " (4, 'Travel Bag', Decimal('20.10'), Decimal('24.21'), 50),\n",
       " (3, 'Headphone', Decimal('15.52'), Decimal('16.81'), 50)]"
      ]
     },
     "execution_count": 109,
     "metadata": {},
     "output_type": "execute_result"
    }
   ],
   "source": [
    "from sqlalchemy import desc, asc\n",
    "import warnings\n",
    "\n",
    "with warnings.catch_warnings():\n",
    "    # sorts the rows first by quantity (in ascending order) and then by cost_price (in descending order)\n",
    "    s = items.select().\\\n",
    "    order_by(\n",
    "        items.c.quantity, \n",
    "        desc(items.c.cost_price)\n",
    "    ) \n",
    "\n",
    "r = conn.execute(s)\n",
    "r.fetchall()"
   ]
  },
  {
   "cell_type": "markdown",
   "metadata": {},
   "source": [
    "#### Limiting the selection\n",
    "\n",
    "The `limit()` method adds the LIMIT clause to the SELECT statement. It accepts an integer which indicates the number of rows to return. For example:"
   ]
  },
  {
   "cell_type": "code",
   "execution_count": 110,
   "metadata": {},
   "outputs": [
    {
     "data": {
      "text/plain": [
       "[(2, 'Pen', Decimal('3.45'), Decimal('4.51'), 3),\n",
       " (1, 'Chair', Decimal('9.21'), Decimal('10.81'), 5),\n",
       " (6, 'Monitor', Decimal('200.14'), Decimal('212.89'), 50),\n",
       " (7, 'Watch', Decimal('100.58'), Decimal('104.41'), 50)]"
      ]
     },
     "execution_count": 110,
     "metadata": {},
     "output_type": "execute_result"
    }
   ],
   "source": [
    "import warnings\n",
    "\n",
    "with warnings.catch_warnings():\n",
    "    # we only want the first four results\n",
    "    s = items.select().\\\n",
    "    order_by(\n",
    "        items.c.quantity, \n",
    "        desc(items.c.cost_price)\n",
    "    ).limit(4) \n",
    "\n",
    "r = conn.execute(s)\n",
    "r.fetchall()"
   ]
  },
  {
   "cell_type": "markdown",
   "metadata": {},
   "source": [
    "To specify an offset (i.e. the starting position) to the LIMIT clause use the `offset()` method."
   ]
  },
  {
   "cell_type": "code",
   "execution_count": 111,
   "metadata": {},
   "outputs": [
    {
     "data": {
      "text/plain": [
       "[(6, 'Monitor', Decimal('200.14'), Decimal('212.89'), 50),\n",
       " (7, 'Watch', Decimal('100.58'), Decimal('104.41'), 50),\n",
       " (8, 'Water Bottle', Decimal('20.89'), Decimal('25.00'), 50),\n",
       " (5, 'Keyboard', Decimal('20.12'), Decimal('22.11'), 50)]"
      ]
     },
     "execution_count": 111,
     "metadata": {},
     "output_type": "execute_result"
    }
   ],
   "source": [
    "import warnings\n",
    "\n",
    "with warnings.catch_warnings():\n",
    "    # we only want the first four results after bypassing the first two\n",
    "    s = items.select().\\\n",
    "    order_by(\n",
    "        items.c.quantity, \n",
    "        desc(items.c.cost_price)\n",
    "    ).limit(4).offset(2)\n",
    "\n",
    "r = conn.execute(s)\n",
    "r.fetchall()"
   ]
  },
  {
   "cell_type": "markdown",
   "metadata": {},
   "source": [
    "#### Selecting only some columns from the table\n",
    "\n",
    "If you want to select only certain columns from the table, you have to import another `select` from the SQLAlchemy package, and slighly change your query, like the example below:"
   ]
  },
  {
   "cell_type": "code",
   "execution_count": 112,
   "metadata": {},
   "outputs": [
    {
     "data": {
      "text/plain": [
       "[('Monitor', 50), ('Watch', 50), ('Water Bottle', 50), ('Keyboard', 50)]"
      ]
     },
     "execution_count": 112,
     "metadata": {},
     "output_type": "execute_result"
    }
   ],
   "source": [
    "from sqlalchemy import select\n",
    "import warnings\n",
    "\n",
    "with warnings.catch_warnings():\n",
    "    # s = items.select().\\\n",
    "    s = select([items.c.name, items.c.quantity]).\\\n",
    "    order_by(\n",
    "        items.c.quantity, \n",
    "        desc(items.c.cost_price)\n",
    "    ).limit(4).offset(2)\n",
    "\n",
    "r = conn.execute(s)\n",
    "r.fetchall()"
   ]
  },
  {
   "cell_type": "markdown",
   "metadata": {},
   "source": [
    "#### Adding labels to the selection\n",
    "\n",
    "Just as in SQL, we can perform simple calculations on the rows retrieved before sending them to the output. For example:"
   ]
  },
  {
   "cell_type": "code",
   "execution_count": 113,
   "metadata": {},
   "outputs": [
    {
     "name": "stdout",
     "output_type": "stream",
     "text": [
      "['name', 'quantity', 'anon_1']\n"
     ]
    }
   ],
   "source": [
    "import warnings\n",
    "\n",
    "with warnings.catch_warnings():\n",
    "    s = select([\n",
    "        items.c.name, \n",
    "        items.c.quantity, \n",
    "        items.c.selling_price * 5 \n",
    "    ]).where(\n",
    "    items.c.quantity ==  50\n",
    ")\n",
    "\n",
    "r = conn.execute(s)\n",
    "# notice the new label automatically given to the calculation with selling_price\n",
    "print(r.keys())"
   ]
  },
  {
   "cell_type": "markdown",
   "metadata": {},
   "source": [
    "You can assign our own labels to any column:"
   ]
  },
  {
   "cell_type": "code",
   "execution_count": 114,
   "metadata": {},
   "outputs": [
    {
     "name": "stdout",
     "output_type": "stream",
     "text": [
      "['name', 'quantity', 'Price']\n"
     ]
    }
   ],
   "source": [
    "import warnings\n",
    "\n",
    "with warnings.catch_warnings():\n",
    "    s = select([\n",
    "        items.c.name, \n",
    "        items.c.quantity, \n",
    "        # our new label\n",
    "        (items.c.selling_price * 5).label('Price') \n",
    "    ]).where(\n",
    "    items.c.quantity ==  50\n",
    ")\n",
    "\n",
    "r = conn.execute(s)\n",
    "print(r.keys())"
   ]
  },
  {
   "cell_type": "markdown",
   "metadata": {},
   "source": [
    "#### Accessing native database functions\n",
    "\n",
    "To access the built-in functions provided by the database we use func object. The following listing shows how to use some date/time, mathematical and string functions found in SQLite database."
   ]
  },
  {
   "cell_type": "code",
   "execution_count": 115,
   "metadata": {},
   "outputs": [
    {
     "name": "stdout",
     "output_type": "stream",
     "text": [
      "2019-09-25\n",
      "17:33:38\n",
      "2019-09-25 17:33:38\n",
      "2019-09-25 17:33:38\n",
      "4\n",
      "2\n",
      "4.0\n",
      "1\n",
      "3\n",
      "abc\n",
      "ABC\n",
      "3\n",
      "ab c\n",
      "3.29.0\n"
     ]
    }
   ],
   "source": [
    "from sqlalchemy.sql import func\n",
    " \n",
    "c = [    \n",
    "    # date/time functions\n",
    "    func.date(),\n",
    "    func.time(),\n",
    "    func.current_timestamp(),      \n",
    "    func.now(),\n",
    "    \n",
    "    # number functions    \n",
    "    func.max(4,3,2),\n",
    "    func.min(4,3,2),\n",
    "    func.avg(4),\n",
    "    func.count(),\n",
    "    func.sum(3),\n",
    "    \n",
    "    # string functions   \n",
    "    func.lower(\"ABC\"),\n",
    "    func.upper(\"abc\"),\n",
    "    func.length(\"abc\"),\n",
    "    func.trim(\"  ab c  \"),    \n",
    "    func.sqlite_version()\n",
    "]\n",
    "\n",
    "s = select(c)\n",
    "r = conn.execute(s)\n",
    "for row in r.fetchone():\n",
    "    print(row)"
   ]
  },
  {
   "cell_type": "code",
   "execution_count": 116,
   "metadata": {},
   "outputs": [
    {
     "name": "stdout",
     "output_type": "stream",
     "text": [
      "308\n",
      "38.5\n",
      "50\n",
      "3\n",
      "8\n"
     ]
    }
   ],
   "source": [
    "c = [ \n",
    "    func.sum(items.c.quantity),\n",
    "    func.avg(items.c.quantity),    \n",
    "    func.max(items.c.quantity),\n",
    "    func.min(items.c.quantity),\n",
    "    func.count(items.c.id),    \n",
    "]\n",
    " \n",
    "s = select(c)\n",
    "r = conn.execute(s)\n",
    "for row in r.fetchone():\n",
    "    print(row)"
   ]
  },
  {
   "cell_type": "markdown",
   "metadata": {},
   "source": [
    "#### Grouping the selection"
   ]
  },
  {
   "cell_type": "code",
   "execution_count": 117,
   "metadata": {},
   "outputs": [
    {
     "data": {
      "text/plain": [
       "[(1, 'Pen', 3), (1, 'Chair', 5), (6, 'Headphone', 50)]"
      ]
     },
     "execution_count": 117,
     "metadata": {},
     "output_type": "execute_result"
    }
   ],
   "source": [
    "c = [ \n",
    "    func.count(\"*\").label('count'),         \n",
    "    items.c.name,\n",
    "    items.c.quantity\n",
    "]\n",
    " \n",
    "s = select(c).group_by(items.c.quantity)\n",
    "r = conn.execute(s)\n",
    "r.fetchall()"
   ]
  },
  {
   "cell_type": "markdown",
   "metadata": {},
   "source": [
    "#### Joining tables\n",
    "\n",
    "The Table instance provides the following two methods to create joins:\n",
    "\n",
    "1. `join()` – creates inner join\n",
    "2. `outerjoin()` – creates outer join (LEFT OUTER JOIN to be specific)\n",
    "\n",
    "The inner join returns only the rows which matches the join condition, whereas the outer join returns the rows which matches the join condition as well as some additional rows.\n",
    "\n",
    "Both methods accept a `Table` instance, figures out the join condition based on the foreign key relationship and returns a JOIN construct.\n",
    "\n",
    "Let's add some data to the posts table and experiment one join."
   ]
  },
  {
   "cell_type": "code",
   "execution_count": 118,
   "metadata": {},
   "outputs": [
    {
     "data": {
      "text/plain": [
       "5"
      ]
     },
     "execution_count": 118,
     "metadata": {},
     "output_type": "execute_result"
    }
   ],
   "source": [
    "data = [\n",
    "    {\n",
    "        'post_title': 'Post 1',\n",
    "        'post_slug': 'post-1',\n",
    "        'content': 'Blah blah blah.',\n",
    "        'published': True,\n",
    "        'user_id': 1\n",
    "    },\n",
    "    {\n",
    "        'post_title': 'Post 2',\n",
    "        'post_slug': 'post-2',\n",
    "        'content': 'Blah blah blah.',\n",
    "        'published': True,\n",
    "        'user_id': 2\n",
    "    },\n",
    "    {\n",
    "        'post_title': 'Post 3',\n",
    "        'post_slug': 'post-3',\n",
    "        'content': 'Blah blah blah.',\n",
    "        'published': True,\n",
    "        'user_id': 1\n",
    "    },\n",
    "    {\n",
    "        'post_title': 'Post 4',\n",
    "        'post_slug': 'post-4',\n",
    "        'content': 'Blah blah blah.',\n",
    "        'published': True,\n",
    "        'user_id': 1\n",
    "    },\n",
    "    {\n",
    "        'post_title': 'Post 5',\n",
    "        'post_slug': 'post-5',\n",
    "        'content': 'Blah blah blah.',\n",
    "        'published': True,\n",
    "        'user_id': 3\n",
    "    },\n",
    "]\n",
    "\n",
    "query = posts.insert()\n",
    "\n",
    "conn = engine.connect()\n",
    "r = conn.execute(query, data)\n",
    "r.rowcount"
   ]
  },
  {
   "cell_type": "markdown",
   "metadata": {},
   "source": [
    "**Join**"
   ]
  },
  {
   "cell_type": "code",
   "execution_count": 119,
   "metadata": {},
   "outputs": [
    {
     "name": "stdout",
     "output_type": "stream",
     "text": [
      "SELECT posts.post_title, users.name \n",
      "FROM posts JOIN users ON users.id = posts.user_id \n",
      "WHERE users.name LIKE :name_1 AND users.name LIKE :name_2\n",
      "\n",
      "[('Post 1', 'John Doe'), ('Post 3', 'John Doe'), ('Post 4', 'John Doe')]\n"
     ]
    }
   ],
   "source": [
    "# join example: we want the pair post title and author name where the author has 'Doe' in it's name and it starts with 'Jonh'\n",
    "s = select([\n",
    "            posts.c.post_title,\n",
    "            users.c.name\n",
    "]).select_from(\n",
    "    posts.join(users)\n",
    ").where(\n",
    "    and_(\n",
    "        users.c.name.like(\"%Doe%\"),\n",
    "        users.c.name.like(\"John%\")\n",
    "    )\n",
    ")\n",
    "\n",
    "# here's the query in SQL:\n",
    "print(s)\n",
    "print()\n",
    "\n",
    "# here's the results:\n",
    "r = conn.execute(s)\n",
    "print(r.fetchall())"
   ]
  },
  {
   "cell_type": "markdown",
   "metadata": {},
   "source": [
    "Pay special atention to this line right here:\n",
    "\n",
    "`FROM posts JOIN users ON users.id = posts.user_id`\n",
    "\n",
    "Notice that SQLAlchemy has automatically infered the relationship fields (`users.id` and `posts.user_id`) based on the foreign keys we set up previously, since we haven't declared them in our script."
   ]
  },
  {
   "cell_type": "markdown",
   "metadata": {},
   "source": [
    "**Outer Join**\n",
    "\n",
    "The `Table` instance we pass to the `outerjoin()` method is placed on the right side of the outer join. As a result, the below query will return all the rows from `users` table (the left table), and only the rows that meets the join condition are returned from the `posts` table (the right table)."
   ]
  },
  {
   "cell_type": "code",
   "execution_count": 120,
   "metadata": {},
   "outputs": [
    {
     "name": "stdout",
     "output_type": "stream",
     "text": [
      "SELECT users.name, posts.post_title \n",
      "FROM users LEFT OUTER JOIN posts ON users.id = posts.user_id\n",
      "\n",
      "('John Doe', 'Post 1')\n",
      "('John Doe', 'Post 3')\n",
      "('John Doe', 'Post 4')\n",
      "('Jane Doe', 'Post 2')\n",
      "('Peter Doe', 'Post 5')\n",
      "('Margaret Doe', None)\n"
     ]
    }
   ],
   "source": [
    "s = select([        \n",
    "    users.c.name,\n",
    "    posts.c.post_title,\n",
    "]).select_from(\n",
    "    users.outerjoin(posts)\n",
    ")\n",
    " \n",
    "print(s)\n",
    "print()\n",
    "\n",
    "r = conn.execute(s)\n",
    "for row in r.fetchall():\n",
    "    print(row)"
   ]
  },
  {
   "cell_type": "markdown",
   "metadata": {},
   "source": [
    "**Full Outer Join**\n",
    "\n",
    "Just as a side note, you can also create a FULL OUTER JOIN by passing `full=True` to the `outerjoin()` method. However, SQLite doesn't support it yet, so the following query will return an error:"
   ]
  },
  {
   "cell_type": "code",
   "execution_count": 121,
   "metadata": {},
   "outputs": [
    {
     "name": "stdout",
     "output_type": "stream",
     "text": [
      "SELECT users.name, posts.post_title \n",
      "FROM posts FULL OUTER JOIN users ON users.id = posts.user_id\n",
      "\n"
     ]
    },
    {
     "ename": "OperationalError",
     "evalue": "(sqlite3.OperationalError) RIGHT and FULL OUTER JOINs are not currently supported\n[SQL: SELECT users.name, posts.post_title \nFROM posts FULL OUTER JOIN users ON users.id = posts.user_id]\n(Background on this error at: http://sqlalche.me/e/e3q8)",
     "output_type": "error",
     "traceback": [
      "\u001b[0;31m---------------------------------------------------------------------------\u001b[0m",
      "\u001b[0;31mOperationalError\u001b[0m                          Traceback (most recent call last)",
      "\u001b[0;32m/usr/lib/python3.7/site-packages/sqlalchemy/engine/base.py\u001b[0m in \u001b[0;36m_execute_context\u001b[0;34m(self, dialect, constructor, statement, parameters, *args)\u001b[0m\n\u001b[1;32m   1248\u001b[0m                     self.dialect.do_execute(\n\u001b[0;32m-> 1249\u001b[0;31m                         \u001b[0mcursor\u001b[0m\u001b[0;34m,\u001b[0m \u001b[0mstatement\u001b[0m\u001b[0;34m,\u001b[0m \u001b[0mparameters\u001b[0m\u001b[0;34m,\u001b[0m \u001b[0mcontext\u001b[0m\u001b[0;34m\u001b[0m\u001b[0;34m\u001b[0m\u001b[0m\n\u001b[0m\u001b[1;32m   1250\u001b[0m                     )\n",
      "\u001b[0;32m/usr/lib/python3.7/site-packages/sqlalchemy/engine/default.py\u001b[0m in \u001b[0;36mdo_execute\u001b[0;34m(self, cursor, statement, parameters, context)\u001b[0m\n\u001b[1;32m    551\u001b[0m     \u001b[0;32mdef\u001b[0m \u001b[0mdo_execute\u001b[0m\u001b[0;34m(\u001b[0m\u001b[0mself\u001b[0m\u001b[0;34m,\u001b[0m \u001b[0mcursor\u001b[0m\u001b[0;34m,\u001b[0m \u001b[0mstatement\u001b[0m\u001b[0;34m,\u001b[0m \u001b[0mparameters\u001b[0m\u001b[0;34m,\u001b[0m \u001b[0mcontext\u001b[0m\u001b[0;34m=\u001b[0m\u001b[0;32mNone\u001b[0m\u001b[0;34m)\u001b[0m\u001b[0;34m:\u001b[0m\u001b[0;34m\u001b[0m\u001b[0;34m\u001b[0m\u001b[0m\n\u001b[0;32m--> 552\u001b[0;31m         \u001b[0mcursor\u001b[0m\u001b[0;34m.\u001b[0m\u001b[0mexecute\u001b[0m\u001b[0;34m(\u001b[0m\u001b[0mstatement\u001b[0m\u001b[0;34m,\u001b[0m \u001b[0mparameters\u001b[0m\u001b[0;34m)\u001b[0m\u001b[0;34m\u001b[0m\u001b[0;34m\u001b[0m\u001b[0m\n\u001b[0m\u001b[1;32m    553\u001b[0m \u001b[0;34m\u001b[0m\u001b[0m\n",
      "\u001b[0;31mOperationalError\u001b[0m: RIGHT and FULL OUTER JOINs are not currently supported",
      "\nThe above exception was the direct cause of the following exception:\n",
      "\u001b[0;31mOperationalError\u001b[0m                          Traceback (most recent call last)",
      "\u001b[0;32m<ipython-input-121-9dd02ad7f962>\u001b[0m in \u001b[0;36m<module>\u001b[0;34m\u001b[0m\n\u001b[1;32m      9\u001b[0m \u001b[0mprint\u001b[0m\u001b[0;34m(\u001b[0m\u001b[0;34m)\u001b[0m\u001b[0;34m\u001b[0m\u001b[0;34m\u001b[0m\u001b[0m\n\u001b[1;32m     10\u001b[0m \u001b[0;34m\u001b[0m\u001b[0m\n\u001b[0;32m---> 11\u001b[0;31m \u001b[0mr\u001b[0m \u001b[0;34m=\u001b[0m \u001b[0mconn\u001b[0m\u001b[0;34m.\u001b[0m\u001b[0mexecute\u001b[0m\u001b[0;34m(\u001b[0m\u001b[0ms\u001b[0m\u001b[0;34m)\u001b[0m\u001b[0;34m\u001b[0m\u001b[0;34m\u001b[0m\u001b[0m\n\u001b[0m\u001b[1;32m     12\u001b[0m \u001b[0;32mfor\u001b[0m \u001b[0mrow\u001b[0m \u001b[0;32min\u001b[0m \u001b[0mr\u001b[0m\u001b[0;34m.\u001b[0m\u001b[0mfetchall\u001b[0m\u001b[0;34m(\u001b[0m\u001b[0;34m)\u001b[0m\u001b[0;34m:\u001b[0m\u001b[0;34m\u001b[0m\u001b[0;34m\u001b[0m\u001b[0m\n\u001b[1;32m     13\u001b[0m     \u001b[0mprint\u001b[0m\u001b[0;34m(\u001b[0m\u001b[0mrow\u001b[0m\u001b[0;34m)\u001b[0m\u001b[0;34m\u001b[0m\u001b[0;34m\u001b[0m\u001b[0m\n",
      "\u001b[0;32m/usr/lib/python3.7/site-packages/sqlalchemy/engine/base.py\u001b[0m in \u001b[0;36mexecute\u001b[0;34m(self, object_, *multiparams, **params)\u001b[0m\n\u001b[1;32m    986\u001b[0m             \u001b[0;32mraise\u001b[0m \u001b[0mexc\u001b[0m\u001b[0;34m.\u001b[0m\u001b[0mObjectNotExecutableError\u001b[0m\u001b[0;34m(\u001b[0m\u001b[0mobject_\u001b[0m\u001b[0;34m)\u001b[0m\u001b[0;34m\u001b[0m\u001b[0;34m\u001b[0m\u001b[0m\n\u001b[1;32m    987\u001b[0m         \u001b[0;32melse\u001b[0m\u001b[0;34m:\u001b[0m\u001b[0;34m\u001b[0m\u001b[0;34m\u001b[0m\u001b[0m\n\u001b[0;32m--> 988\u001b[0;31m             \u001b[0;32mreturn\u001b[0m \u001b[0mmeth\u001b[0m\u001b[0;34m(\u001b[0m\u001b[0mself\u001b[0m\u001b[0;34m,\u001b[0m \u001b[0mmultiparams\u001b[0m\u001b[0;34m,\u001b[0m \u001b[0mparams\u001b[0m\u001b[0;34m)\u001b[0m\u001b[0;34m\u001b[0m\u001b[0;34m\u001b[0m\u001b[0m\n\u001b[0m\u001b[1;32m    989\u001b[0m \u001b[0;34m\u001b[0m\u001b[0m\n\u001b[1;32m    990\u001b[0m     \u001b[0;32mdef\u001b[0m \u001b[0m_execute_function\u001b[0m\u001b[0;34m(\u001b[0m\u001b[0mself\u001b[0m\u001b[0;34m,\u001b[0m \u001b[0mfunc\u001b[0m\u001b[0;34m,\u001b[0m \u001b[0mmultiparams\u001b[0m\u001b[0;34m,\u001b[0m \u001b[0mparams\u001b[0m\u001b[0;34m)\u001b[0m\u001b[0;34m:\u001b[0m\u001b[0;34m\u001b[0m\u001b[0;34m\u001b[0m\u001b[0m\n",
      "\u001b[0;32m/usr/lib/python3.7/site-packages/sqlalchemy/sql/elements.py\u001b[0m in \u001b[0;36m_execute_on_connection\u001b[0;34m(self, connection, multiparams, params)\u001b[0m\n\u001b[1;32m    285\u001b[0m     \u001b[0;32mdef\u001b[0m \u001b[0m_execute_on_connection\u001b[0m\u001b[0;34m(\u001b[0m\u001b[0mself\u001b[0m\u001b[0;34m,\u001b[0m \u001b[0mconnection\u001b[0m\u001b[0;34m,\u001b[0m \u001b[0mmultiparams\u001b[0m\u001b[0;34m,\u001b[0m \u001b[0mparams\u001b[0m\u001b[0;34m)\u001b[0m\u001b[0;34m:\u001b[0m\u001b[0;34m\u001b[0m\u001b[0;34m\u001b[0m\u001b[0m\n\u001b[1;32m    286\u001b[0m         \u001b[0;32mif\u001b[0m \u001b[0mself\u001b[0m\u001b[0;34m.\u001b[0m\u001b[0msupports_execution\u001b[0m\u001b[0;34m:\u001b[0m\u001b[0;34m\u001b[0m\u001b[0;34m\u001b[0m\u001b[0m\n\u001b[0;32m--> 287\u001b[0;31m             \u001b[0;32mreturn\u001b[0m \u001b[0mconnection\u001b[0m\u001b[0;34m.\u001b[0m\u001b[0m_execute_clauseelement\u001b[0m\u001b[0;34m(\u001b[0m\u001b[0mself\u001b[0m\u001b[0;34m,\u001b[0m \u001b[0mmultiparams\u001b[0m\u001b[0;34m,\u001b[0m \u001b[0mparams\u001b[0m\u001b[0;34m)\u001b[0m\u001b[0;34m\u001b[0m\u001b[0;34m\u001b[0m\u001b[0m\n\u001b[0m\u001b[1;32m    288\u001b[0m         \u001b[0;32melse\u001b[0m\u001b[0;34m:\u001b[0m\u001b[0;34m\u001b[0m\u001b[0;34m\u001b[0m\u001b[0m\n\u001b[1;32m    289\u001b[0m             \u001b[0;32mraise\u001b[0m \u001b[0mexc\u001b[0m\u001b[0;34m.\u001b[0m\u001b[0mObjectNotExecutableError\u001b[0m\u001b[0;34m(\u001b[0m\u001b[0mself\u001b[0m\u001b[0;34m)\u001b[0m\u001b[0;34m\u001b[0m\u001b[0;34m\u001b[0m\u001b[0m\n",
      "\u001b[0;32m/usr/lib/python3.7/site-packages/sqlalchemy/engine/base.py\u001b[0m in \u001b[0;36m_execute_clauseelement\u001b[0;34m(self, elem, multiparams, params)\u001b[0m\n\u001b[1;32m   1105\u001b[0m             \u001b[0mdistilled_params\u001b[0m\u001b[0;34m,\u001b[0m\u001b[0;34m\u001b[0m\u001b[0;34m\u001b[0m\u001b[0m\n\u001b[1;32m   1106\u001b[0m             \u001b[0mcompiled_sql\u001b[0m\u001b[0;34m,\u001b[0m\u001b[0;34m\u001b[0m\u001b[0;34m\u001b[0m\u001b[0m\n\u001b[0;32m-> 1107\u001b[0;31m             \u001b[0mdistilled_params\u001b[0m\u001b[0;34m,\u001b[0m\u001b[0;34m\u001b[0m\u001b[0;34m\u001b[0m\u001b[0m\n\u001b[0m\u001b[1;32m   1108\u001b[0m         )\n\u001b[1;32m   1109\u001b[0m         \u001b[0;32mif\u001b[0m \u001b[0mself\u001b[0m\u001b[0;34m.\u001b[0m\u001b[0m_has_events\u001b[0m \u001b[0;32mor\u001b[0m \u001b[0mself\u001b[0m\u001b[0;34m.\u001b[0m\u001b[0mengine\u001b[0m\u001b[0;34m.\u001b[0m\u001b[0m_has_events\u001b[0m\u001b[0;34m:\u001b[0m\u001b[0;34m\u001b[0m\u001b[0;34m\u001b[0m\u001b[0m\n",
      "\u001b[0;32m/usr/lib/python3.7/site-packages/sqlalchemy/engine/base.py\u001b[0m in \u001b[0;36m_execute_context\u001b[0;34m(self, dialect, constructor, statement, parameters, *args)\u001b[0m\n\u001b[1;32m   1251\u001b[0m         \u001b[0;32mexcept\u001b[0m \u001b[0mBaseException\u001b[0m \u001b[0;32mas\u001b[0m \u001b[0me\u001b[0m\u001b[0;34m:\u001b[0m\u001b[0;34m\u001b[0m\u001b[0;34m\u001b[0m\u001b[0m\n\u001b[1;32m   1252\u001b[0m             self._handle_dbapi_exception(\n\u001b[0;32m-> 1253\u001b[0;31m                 \u001b[0me\u001b[0m\u001b[0;34m,\u001b[0m \u001b[0mstatement\u001b[0m\u001b[0;34m,\u001b[0m \u001b[0mparameters\u001b[0m\u001b[0;34m,\u001b[0m \u001b[0mcursor\u001b[0m\u001b[0;34m,\u001b[0m \u001b[0mcontext\u001b[0m\u001b[0;34m\u001b[0m\u001b[0;34m\u001b[0m\u001b[0m\n\u001b[0m\u001b[1;32m   1254\u001b[0m             )\n\u001b[1;32m   1255\u001b[0m \u001b[0;34m\u001b[0m\u001b[0m\n",
      "\u001b[0;32m/usr/lib/python3.7/site-packages/sqlalchemy/engine/base.py\u001b[0m in \u001b[0;36m_handle_dbapi_exception\u001b[0;34m(self, e, statement, parameters, cursor, context)\u001b[0m\n\u001b[1;32m   1471\u001b[0m                 \u001b[0mutil\u001b[0m\u001b[0;34m.\u001b[0m\u001b[0mraise_from_cause\u001b[0m\u001b[0;34m(\u001b[0m\u001b[0mnewraise\u001b[0m\u001b[0;34m,\u001b[0m \u001b[0mexc_info\u001b[0m\u001b[0;34m)\u001b[0m\u001b[0;34m\u001b[0m\u001b[0;34m\u001b[0m\u001b[0m\n\u001b[1;32m   1472\u001b[0m             \u001b[0;32melif\u001b[0m \u001b[0mshould_wrap\u001b[0m\u001b[0;34m:\u001b[0m\u001b[0;34m\u001b[0m\u001b[0;34m\u001b[0m\u001b[0m\n\u001b[0;32m-> 1473\u001b[0;31m                 \u001b[0mutil\u001b[0m\u001b[0;34m.\u001b[0m\u001b[0mraise_from_cause\u001b[0m\u001b[0;34m(\u001b[0m\u001b[0msqlalchemy_exception\u001b[0m\u001b[0;34m,\u001b[0m \u001b[0mexc_info\u001b[0m\u001b[0;34m)\u001b[0m\u001b[0;34m\u001b[0m\u001b[0;34m\u001b[0m\u001b[0m\n\u001b[0m\u001b[1;32m   1474\u001b[0m             \u001b[0;32melse\u001b[0m\u001b[0;34m:\u001b[0m\u001b[0;34m\u001b[0m\u001b[0;34m\u001b[0m\u001b[0m\n\u001b[1;32m   1475\u001b[0m                 \u001b[0mutil\u001b[0m\u001b[0;34m.\u001b[0m\u001b[0mreraise\u001b[0m\u001b[0;34m(\u001b[0m\u001b[0;34m*\u001b[0m\u001b[0mexc_info\u001b[0m\u001b[0;34m)\u001b[0m\u001b[0;34m\u001b[0m\u001b[0;34m\u001b[0m\u001b[0m\n",
      "\u001b[0;32m/usr/lib/python3.7/site-packages/sqlalchemy/util/compat.py\u001b[0m in \u001b[0;36mraise_from_cause\u001b[0;34m(exception, exc_info)\u001b[0m\n\u001b[1;32m    396\u001b[0m     \u001b[0mexc_type\u001b[0m\u001b[0;34m,\u001b[0m \u001b[0mexc_value\u001b[0m\u001b[0;34m,\u001b[0m \u001b[0mexc_tb\u001b[0m \u001b[0;34m=\u001b[0m \u001b[0mexc_info\u001b[0m\u001b[0;34m\u001b[0m\u001b[0;34m\u001b[0m\u001b[0m\n\u001b[1;32m    397\u001b[0m     \u001b[0mcause\u001b[0m \u001b[0;34m=\u001b[0m \u001b[0mexc_value\u001b[0m \u001b[0;32mif\u001b[0m \u001b[0mexc_value\u001b[0m \u001b[0;32mis\u001b[0m \u001b[0;32mnot\u001b[0m \u001b[0mexception\u001b[0m \u001b[0;32melse\u001b[0m \u001b[0;32mNone\u001b[0m\u001b[0;34m\u001b[0m\u001b[0;34m\u001b[0m\u001b[0m\n\u001b[0;32m--> 398\u001b[0;31m     \u001b[0mreraise\u001b[0m\u001b[0;34m(\u001b[0m\u001b[0mtype\u001b[0m\u001b[0;34m(\u001b[0m\u001b[0mexception\u001b[0m\u001b[0;34m)\u001b[0m\u001b[0;34m,\u001b[0m \u001b[0mexception\u001b[0m\u001b[0;34m,\u001b[0m \u001b[0mtb\u001b[0m\u001b[0;34m=\u001b[0m\u001b[0mexc_tb\u001b[0m\u001b[0;34m,\u001b[0m \u001b[0mcause\u001b[0m\u001b[0;34m=\u001b[0m\u001b[0mcause\u001b[0m\u001b[0;34m)\u001b[0m\u001b[0;34m\u001b[0m\u001b[0;34m\u001b[0m\u001b[0m\n\u001b[0m\u001b[1;32m    399\u001b[0m \u001b[0;34m\u001b[0m\u001b[0m\n\u001b[1;32m    400\u001b[0m \u001b[0;34m\u001b[0m\u001b[0m\n",
      "\u001b[0;32m/usr/lib/python3.7/site-packages/sqlalchemy/util/compat.py\u001b[0m in \u001b[0;36mreraise\u001b[0;34m(tp, value, tb, cause)\u001b[0m\n\u001b[1;32m    150\u001b[0m             \u001b[0mvalue\u001b[0m\u001b[0;34m.\u001b[0m\u001b[0m__cause__\u001b[0m \u001b[0;34m=\u001b[0m \u001b[0mcause\u001b[0m\u001b[0;34m\u001b[0m\u001b[0;34m\u001b[0m\u001b[0m\n\u001b[1;32m    151\u001b[0m         \u001b[0;32mif\u001b[0m \u001b[0mvalue\u001b[0m\u001b[0;34m.\u001b[0m\u001b[0m__traceback__\u001b[0m \u001b[0;32mis\u001b[0m \u001b[0;32mnot\u001b[0m \u001b[0mtb\u001b[0m\u001b[0;34m:\u001b[0m\u001b[0;34m\u001b[0m\u001b[0;34m\u001b[0m\u001b[0m\n\u001b[0;32m--> 152\u001b[0;31m             \u001b[0;32mraise\u001b[0m \u001b[0mvalue\u001b[0m\u001b[0;34m.\u001b[0m\u001b[0mwith_traceback\u001b[0m\u001b[0;34m(\u001b[0m\u001b[0mtb\u001b[0m\u001b[0;34m)\u001b[0m\u001b[0;34m\u001b[0m\u001b[0;34m\u001b[0m\u001b[0m\n\u001b[0m\u001b[1;32m    153\u001b[0m         \u001b[0;32mraise\u001b[0m \u001b[0mvalue\u001b[0m\u001b[0;34m\u001b[0m\u001b[0;34m\u001b[0m\u001b[0m\n\u001b[1;32m    154\u001b[0m \u001b[0;34m\u001b[0m\u001b[0m\n",
      "\u001b[0;32m/usr/lib/python3.7/site-packages/sqlalchemy/engine/base.py\u001b[0m in \u001b[0;36m_execute_context\u001b[0;34m(self, dialect, constructor, statement, parameters, *args)\u001b[0m\n\u001b[1;32m   1247\u001b[0m                 \u001b[0;32mif\u001b[0m \u001b[0;32mnot\u001b[0m \u001b[0mevt_handled\u001b[0m\u001b[0;34m:\u001b[0m\u001b[0;34m\u001b[0m\u001b[0;34m\u001b[0m\u001b[0m\n\u001b[1;32m   1248\u001b[0m                     self.dialect.do_execute(\n\u001b[0;32m-> 1249\u001b[0;31m                         \u001b[0mcursor\u001b[0m\u001b[0;34m,\u001b[0m \u001b[0mstatement\u001b[0m\u001b[0;34m,\u001b[0m \u001b[0mparameters\u001b[0m\u001b[0;34m,\u001b[0m \u001b[0mcontext\u001b[0m\u001b[0;34m\u001b[0m\u001b[0;34m\u001b[0m\u001b[0m\n\u001b[0m\u001b[1;32m   1250\u001b[0m                     )\n\u001b[1;32m   1251\u001b[0m         \u001b[0;32mexcept\u001b[0m \u001b[0mBaseException\u001b[0m \u001b[0;32mas\u001b[0m \u001b[0me\u001b[0m\u001b[0;34m:\u001b[0m\u001b[0;34m\u001b[0m\u001b[0;34m\u001b[0m\u001b[0m\n",
      "\u001b[0;32m/usr/lib/python3.7/site-packages/sqlalchemy/engine/default.py\u001b[0m in \u001b[0;36mdo_execute\u001b[0;34m(self, cursor, statement, parameters, context)\u001b[0m\n\u001b[1;32m    550\u001b[0m \u001b[0;34m\u001b[0m\u001b[0m\n\u001b[1;32m    551\u001b[0m     \u001b[0;32mdef\u001b[0m \u001b[0mdo_execute\u001b[0m\u001b[0;34m(\u001b[0m\u001b[0mself\u001b[0m\u001b[0;34m,\u001b[0m \u001b[0mcursor\u001b[0m\u001b[0;34m,\u001b[0m \u001b[0mstatement\u001b[0m\u001b[0;34m,\u001b[0m \u001b[0mparameters\u001b[0m\u001b[0;34m,\u001b[0m \u001b[0mcontext\u001b[0m\u001b[0;34m=\u001b[0m\u001b[0;32mNone\u001b[0m\u001b[0;34m)\u001b[0m\u001b[0;34m:\u001b[0m\u001b[0;34m\u001b[0m\u001b[0;34m\u001b[0m\u001b[0m\n\u001b[0;32m--> 552\u001b[0;31m         \u001b[0mcursor\u001b[0m\u001b[0;34m.\u001b[0m\u001b[0mexecute\u001b[0m\u001b[0;34m(\u001b[0m\u001b[0mstatement\u001b[0m\u001b[0;34m,\u001b[0m \u001b[0mparameters\u001b[0m\u001b[0;34m)\u001b[0m\u001b[0;34m\u001b[0m\u001b[0;34m\u001b[0m\u001b[0m\n\u001b[0m\u001b[1;32m    553\u001b[0m \u001b[0;34m\u001b[0m\u001b[0m\n\u001b[1;32m    554\u001b[0m     \u001b[0;32mdef\u001b[0m \u001b[0mdo_execute_no_params\u001b[0m\u001b[0;34m(\u001b[0m\u001b[0mself\u001b[0m\u001b[0;34m,\u001b[0m \u001b[0mcursor\u001b[0m\u001b[0;34m,\u001b[0m \u001b[0mstatement\u001b[0m\u001b[0;34m,\u001b[0m \u001b[0mcontext\u001b[0m\u001b[0;34m=\u001b[0m\u001b[0;32mNone\u001b[0m\u001b[0;34m)\u001b[0m\u001b[0;34m:\u001b[0m\u001b[0;34m\u001b[0m\u001b[0;34m\u001b[0m\u001b[0m\n",
      "\u001b[0;31mOperationalError\u001b[0m: (sqlite3.OperationalError) RIGHT and FULL OUTER JOINs are not currently supported\n[SQL: SELECT users.name, posts.post_title \nFROM posts FULL OUTER JOIN users ON users.id = posts.user_id]\n(Background on this error at: http://sqlalche.me/e/e3q8)"
     ]
    }
   ],
   "source": [
    "s = select([        \n",
    "    users.c.name,\n",
    "    posts.c.post_title,\n",
    "]).select_from(\n",
    "    posts.outerjoin(users, full=True)\n",
    ")\n",
    " \n",
    "print(s)\n",
    "print()\n",
    "\n",
    "r = conn.execute(s)\n",
    "for row in r.fetchall():\n",
    "    print(row)"
   ]
  },
  {
   "cell_type": "markdown",
   "metadata": {},
   "source": [
    "#### Dealing with duplicates\n",
    "\n",
    "To deal with the duplicate rows in the result set we use the DISTINCT option. We can add DISTINCT option to the SELECT statement using the `distinct()` method. For example, imagine that you want to know how many different quantities there are in the `items` table:"
   ]
  },
  {
   "cell_type": "code",
   "execution_count": 122,
   "metadata": {},
   "outputs": [
    {
     "data": {
      "text/plain": [
       "[(5,), (3,), (50,)]"
      ]
     },
     "execution_count": 122,
     "metadata": {},
     "output_type": "execute_result"
    }
   ],
   "source": [
    "from sqlalchemy import distinct\n",
    "\n",
    "s = select([distinct(items.c.quantity)])\n",
    "\n",
    "r = conn.execute(s)\n",
    "r.fetchall()"
   ]
  },
  {
   "cell_type": "markdown",
   "metadata": {},
   "source": [
    "So we know that we have 3 different quantities. But how much of each quantity do we have?"
   ]
  },
  {
   "cell_type": "code",
   "execution_count": 123,
   "metadata": {},
   "outputs": [
    {
     "data": {
      "text/plain": [
       "[(3, 1), (5, 1), (50, 6)]"
      ]
     },
     "execution_count": 123,
     "metadata": {},
     "output_type": "execute_result"
    }
   ],
   "source": [
    "s = select([\n",
    "    distinct(items.c.quantity),\n",
    "    func.count(items.c.quantity)\n",
    "]).group_by(items.c.quantity)\n",
    "\n",
    "r = conn.execute(s)\n",
    "r.fetchall()"
   ]
  },
  {
   "cell_type": "markdown",
   "metadata": {},
   "source": [
    "#### Raw Queries\n",
    "\n",
    "SQLAlchemy also gives you the flexibility to execute raw SQL using the `text()` function. For example:"
   ]
  },
  {
   "cell_type": "code",
   "execution_count": 124,
   "metadata": {},
   "outputs": [
    {
     "data": {
      "text/plain": [
       "[('Post 1', 'John Doe'), ('Post 3', 'John Doe'), ('Post 4', 'John Doe')]"
      ]
     },
     "execution_count": 124,
     "metadata": {},
     "output_type": "execute_result"
    }
   ],
   "source": [
    "from sqlalchemy.sql import text\n",
    " \n",
    "s = text(\n",
    "\"\"\"\n",
    "SELECT posts.post_title, users.name \n",
    "FROM posts JOIN users ON users.id = posts.user_id \n",
    "WHERE users.name LIKE :name_1 AND users.name LIKE :name_2\n",
    "\"\"\"\n",
    ")\n",
    "\n",
    "# if you need to place variables in the query (ex: name_1), you can then set their values on the execute method\n",
    "r = conn.execute(s, name_1=\"%Doe%\", name_2='John%')\n",
    "r.fetchall()"
   ]
  },
  {
   "cell_type": "markdown",
   "metadata": {},
   "source": [
    "### Updating records"
   ]
  },
  {
   "cell_type": "markdown",
   "metadata": {},
   "source": [
    "Updating records is achieved using the `update()` function. For example, the following query updates the selling_price and quantity of Water Bottle to 30 and 60, respectively."
   ]
  },
  {
   "cell_type": "code",
   "execution_count": 125,
   "metadata": {},
   "outputs": [
    {
     "name": "stdout",
     "output_type": "stream",
     "text": [
      "1\n",
      "\n",
      "[(Decimal('30.00'), 60)]\n"
     ]
    }
   ],
   "source": [
    "from sqlalchemy import update\n",
    " \n",
    "s = update(items).where(\n",
    "    items.c.name == 'Water Bottle'\n",
    ").values(\n",
    "    selling_price = 30,\n",
    "    quantity = 60,\n",
    ")\n",
    "\n",
    "r = conn.execute(s)\n",
    "print(r.rowcount)  # total updated rows\n",
    "print()\n",
    "\n",
    "# just to make sure it did update the record:\n",
    "print(conn.execute(select([items.c.selling_price, items.c.quantity]).where(items.c.name == 'Water Bottle')).fetchall())"
   ]
  },
  {
   "cell_type": "markdown",
   "metadata": {},
   "source": [
    "### Deleting records\n",
    "\n",
    "To delete records we use the `delete()` function. Let's duplicate our users and then delete them:"
   ]
  },
  {
   "cell_type": "code",
   "execution_count": null,
   "metadata": {},
   "outputs": [],
   "source": [
    "multiple_ins = users.insert()\n",
    "\n",
    "user_list = [\n",
    "    { 'name': 'John Doe' },\n",
    "    { 'name': 'Jane Doe' },\n",
    "    { 'name': 'Peter Doe' },\n",
    "    { 'name': 'Margaret Doe' }\n",
    "]\n",
    "\n",
    "r = conn.execute(multiple_ins, user_list)\n",
    "\n",
    "print(conn.execute(select([users])).fetchall())"
   ]
  },
  {
   "cell_type": "code",
   "execution_count": null,
   "metadata": {},
   "outputs": [],
   "source": [
    "from sqlalchemy import delete\n",
    "\n",
    "s = delete(users).where(\n",
    "    users.c.id.in_([5,6,7,8])\n",
    ")\n",
    "\n",
    "conn.execute(s)\n",
    "\n",
    "print(conn.execute(select([users])).fetchall())"
   ]
  },
  {
   "cell_type": "markdown",
   "metadata": {},
   "source": [
    "### Clearing the database schema\n",
    "\n",
    "We can drop all the tables in the database using `MetaData.drop_all()` method."
   ]
  },
  {
   "cell_type": "code",
   "execution_count": 126,
   "metadata": {},
   "outputs": [],
   "source": [
    "metadata.drop_all(engine)"
   ]
  }
 ],
 "metadata": {
  "kernelspec": {
   "display_name": "Python 3",
   "language": "python",
   "name": "python3"
  },
  "language_info": {
   "codemirror_mode": {
    "name": "ipython",
    "version": 3
   },
   "file_extension": ".py",
   "mimetype": "text/x-python",
   "name": "python",
   "nbconvert_exporter": "python",
   "pygments_lexer": "ipython3",
   "version": "3.7.4"
  },
  "toc-autonumbering": false,
  "toc-showcode": false,
  "toc-showmarkdowntxt": false,
  "toc-showtags": false
 },
 "nbformat": 4,
 "nbformat_minor": 4
}
